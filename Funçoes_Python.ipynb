{
  "nbformat": 4,
  "nbformat_minor": 0,
  "metadata": {
    "colab": {
      "provenance": [],
      "authorship_tag": "ABX9TyOrxAxRsKik2WLvvmayDnMR",
      "include_colab_link": true
    },
    "kernelspec": {
      "name": "python3",
      "display_name": "Python 3"
    },
    "language_info": {
      "name": "python"
    }
  },
  "cells": [
    {
      "cell_type": "markdown",
      "metadata": {
        "id": "view-in-github",
        "colab_type": "text"
      },
      "source": [
        "<a href=\"https://colab.research.google.com/github/ramonparaiba/Aulas-Logica-de-Programcao-e-Algoritmos/blob/main/Fun%C3%A7oes_Python.ipynb\" target=\"_parent\"><img src=\"https://colab.research.google.com/assets/colab-badge.svg\" alt=\"Open In Colab\"/></a>"
      ]
    },
    {
      "cell_type": "markdown",
      "source": [
        "#Funções em Python"
      ],
      "metadata": {
        "id": "cL0eAZQrxoam"
      }
    },
    {
      "cell_type": "code",
      "source": [
        "def saudacao():\n",
        "  print('Olá, estou dentro da função')\n",
        "\n",
        "def somar():\n",
        "  print(5 + 8)\n",
        "\n",
        "#saudacao()\n",
        "a = somar()\n",
        "\n",
        "\n"
      ],
      "metadata": {
        "colab": {
          "base_uri": "https://localhost:8080/"
        },
        "id": "-TsybIXDkC8X",
        "outputId": "8e226855-bbfe-4cfa-9125-ed671cdbb81a"
      },
      "execution_count": 6,
      "outputs": [
        {
          "output_type": "stream",
          "name": "stdout",
          "text": [
            "13\n",
            "None\n"
          ]
        }
      ]
    },
    {
      "cell_type": "code",
      "source": [
        "def somar(a, b):\n",
        "  return a+b\n",
        "\n",
        "a = somar(5, 6)\n",
        "print(a)"
      ],
      "metadata": {
        "colab": {
          "base_uri": "https://localhost:8080/"
        },
        "id": "6N1y1IR3n1WU",
        "outputId": "5e326d1e-e976-4e36-bf93-fba52df8594f"
      },
      "execution_count": 9,
      "outputs": [
        {
          "output_type": "stream",
          "name": "stdout",
          "text": [
            "22\n"
          ]
        }
      ]
    },
    {
      "cell_type": "code",
      "source": [
        "def quadrado(a):\n",
        "  return a**2\n",
        "\n",
        "num = int(input('Digite um numero: '))\n",
        "resultado = quadrado(num)\n",
        "print(resultado)\n"
      ],
      "metadata": {
        "colab": {
          "base_uri": "https://localhost:8080/"
        },
        "id": "MYSabW6logOm",
        "outputId": "faadd572-4589-4c7e-ba7a-7b8cda71bcdc"
      },
      "execution_count": 12,
      "outputs": [
        {
          "output_type": "stream",
          "name": "stdout",
          "text": [
            "Digite um numero: 7\n",
            "49\n"
          ]
        }
      ]
    },
    {
      "cell_type": "code",
      "execution_count": null,
      "metadata": {
        "id": "VrOoUxCoxSJH"
      },
      "outputs": [],
      "source": [
        "#Processar x Retornar\n",
        "print(\"Olá\")   #Processa um valor e o exibe\n",
        "nome = input('Qual o seu nome? ') #Retorna um valor"
      ]
    },
    {
      "cell_type": "code",
      "source": [],
      "metadata": {
        "id": "LXL1khGfkDjg"
      },
      "execution_count": null,
      "outputs": []
    },
    {
      "cell_type": "code",
      "source": [
        "#Processar\n",
        "def imprimir_cotacao_do_dia(moeda):\n",
        "  if moeda == 'eur':\n",
        "    print(6.3)\n",
        "#Retornar\n",
        "def obter_cotacao_do_dia(moeda):\n",
        "  if moeda == 'eur':\n",
        "    return 6.3"
      ],
      "metadata": {
        "id": "Gcf2r4qjx9Id"
      },
      "execution_count": null,
      "outputs": []
    },
    {
      "cell_type": "code",
      "source": [
        "cotacao = obter_cotacao_do_dia('eur')\n",
        "if cotacao > 6:\n",
        "  print('Vou vender Euros')\n",
        "else:\n",
        "  print('Vou comprar Euros')"
      ],
      "metadata": {
        "colab": {
          "base_uri": "https://localhost:8080/"
        },
        "id": "I4y-UnjFzXiF",
        "outputId": "f1e04891-9523-4b99-f840-0f1eb008eaf1"
      },
      "execution_count": null,
      "outputs": [
        {
          "output_type": "stream",
          "name": "stdout",
          "text": [
            "Vou vender Euros\n"
          ]
        }
      ]
    },
    {
      "cell_type": "markdown",
      "source": [
        "##Parâmetros\n",
        "\n"
      ],
      "metadata": {
        "id": "mGw3T9Ya0K-D"
      }
    },
    {
      "cell_type": "code",
      "source": [
        "#Padrão (default)\n",
        "def exibir_horario_aulas(disciplina, horario=9):\n",
        "  print(f'{disciplina} - {horario} horas.')\n",
        "\n",
        "exibir_horario_aulas('Programação')\n",
        "exibir_horario_aulas('Modelagem de Software', 15)\n"
      ],
      "metadata": {
        "colab": {
          "base_uri": "https://localhost:8080/"
        },
        "id": "_d44RQe93cFL",
        "outputId": "7d8a94fe-966a-4cf2-b7cb-7a430b77a753"
      },
      "execution_count": 13,
      "outputs": [
        {
          "output_type": "stream",
          "name": "stdout",
          "text": [
            "Programação - 9 horas.\n",
            "Modelagem de Software - 15 horas.\n"
          ]
        }
      ]
    },
    {
      "cell_type": "markdown",
      "source": [
        "###Argumentos posicionais x nomeados"
      ],
      "metadata": {
        "id": "V8jm0UFB3bsl"
      }
    },
    {
      "cell_type": "code",
      "source": [
        "def exibir_produto(nome, preco):\n",
        "  print(f'{nome} : R${preco}')\n",
        "\n",
        "#Argumentos posicionais\n",
        "exibir_produto('doce de leite', 5.50)\n",
        "exibir_produto(65, 'Bermuda')\n",
        "\n",
        "#Argumentos Nomeados\n",
        "exibir_produto(preco=100, nome='Camiseta')"
      ],
      "metadata": {
        "colab": {
          "base_uri": "https://localhost:8080/"
        },
        "id": "h8PG6d140MNe",
        "outputId": "1e57a0df-3825-4f47-828c-0b7f71206afd"
      },
      "execution_count": null,
      "outputs": [
        {
          "output_type": "stream",
          "name": "stdout",
          "text": [
            "doce de leite : R$5.5\n",
            "65 : R$Bermuda\n",
            "Camiseta : R$100\n"
          ]
        }
      ]
    },
    {
      "cell_type": "markdown",
      "source": [
        "#Forçar argumentos nomeados com *\n",
        "\n",
        "Em Python, ao definir uma função, você pode usar * para indicar que todos os parâmetros após esse símbolo devem ser passados por nome (keyword arguments), e não por posição."
      ],
      "metadata": {
        "id": "SqdZ38yU24IO"
      }
    },
    {
      "cell_type": "code",
      "source": [
        "def exibir_jogo(*,nome_jogo, ano_lancamento):\n",
        "  print(f'{nome_jogo}, lançado em {ano_lancamento}')\n",
        "\n",
        "#apenas um parametro deve ser nomeado\n",
        "def exibir_produto(nome,*, preco):\n",
        "  print(f'{nome} : R${preco}')\n",
        "\n",
        "\n",
        "exibir_jogo(nome_jogo='Mario', ano_lancamento=1985)\n",
        "exibir_produto('Alicate', preco=20)"
      ],
      "metadata": {
        "id": "3nF7xzrK1fdU",
        "colab": {
          "base_uri": "https://localhost:8080/"
        },
        "outputId": "b4d43005-a5fc-4d4f-b87d-d827fe284b38"
      },
      "execution_count": 16,
      "outputs": [
        {
          "output_type": "stream",
          "name": "stdout",
          "text": [
            "Mario, lançado em 1985\n",
            "Alicate : R$20\n"
          ]
        }
      ]
    },
    {
      "cell_type": "markdown",
      "source": [
        "### Exercício:\n",
        "Crie uma função chamada gerar_personagem_game que deve receber os seguintes parâmetros: nome, altura, força, arma. Esta função deve imprimir na tela apenas o que foi passado como parâmetro, seguindo as regras:\n",
        "- Os argumentos nome e altura devem ser posicionais;\n",
        "- Os argumentos força e arma, tem que ser obrigatoriamente nomeados;\n",
        "- O argumento altura tem valor default de 1.75."
      ],
      "metadata": {
        "id": "A1fjv80U45hf"
      }
    },
    {
      "cell_type": "code",
      "source": [
        "def gerar_personagem_game(nome, altura=1.75,*, forca, arma):\n",
        "  print(f'{nome}, {altura}, {forca}, {arma}')\n",
        "\n",
        "gerar_personagem_game('Antonio',1.60, forca = 50, arma='revorve')"
      ],
      "metadata": {
        "colab": {
          "base_uri": "https://localhost:8080/"
        },
        "id": "fXuSx8_cv2GU",
        "outputId": "0c79cc25-edf5-4958-e8cc-6ba2ef0524fb"
      },
      "execution_count": 20,
      "outputs": [
        {
          "output_type": "stream",
          "name": "stdout",
          "text": [
            "Antonio, 1.6, 50, revorve\n"
          ]
        }
      ]
    },
    {
      "cell_type": "markdown",
      "source": [
        "### *ARGS\n",
        "Usamos *args quando queremos que a função aceite vários argumentos posicionais. Eles são recebidos como uma tupla.\n",
        "\n",
        "\n",
        "\n",
        "```\n",
        "def exemplo(*args):\n",
        "    print(args)\n",
        "\n",
        "exemplo(1, 2, 3)  # Saída: (1, 2, 3)\n",
        "\n",
        "```\n",
        "\n"
      ],
      "metadata": {
        "id": "gnzOKMfJ6MhR"
      }
    },
    {
      "cell_type": "code",
      "source": [
        "def somanotas(*args):\n",
        "  return sum(args)\n",
        "\n",
        "print(somanotas(7, 8, 3, 10, 5.5, 2, 8.5))\n",
        "\n",
        "\n"
      ],
      "metadata": {
        "colab": {
          "base_uri": "https://localhost:8080/"
        },
        "id": "mRw-ePDkxDjS",
        "outputId": "3ad1f645-0e42-4f5e-cdf0-4378d30e2180"
      },
      "execution_count": 23,
      "outputs": [
        {
          "output_type": "stream",
          "name": "stdout",
          "text": [
            "44.0\n"
          ]
        }
      ]
    },
    {
      "cell_type": "code",
      "source": [
        "def somar(valor, a):\n",
        "  print(valor + a)\n",
        "somar(4, 4)"
      ],
      "metadata": {
        "colab": {
          "base_uri": "https://localhost:8080/"
        },
        "id": "g63zoZd-5z9j",
        "outputId": "72cee5b6-3d43-43d1-cdab-04e605432ba0"
      },
      "execution_count": null,
      "outputs": [
        {
          "output_type": "stream",
          "name": "stdout",
          "text": [
            "8\n"
          ]
        }
      ]
    },
    {
      "cell_type": "code",
      "source": [
        "def somar_nums(*valores, a):\n",
        "  print(valores)\n",
        "  for valor in valores:\n",
        "    a += valor\n",
        "  print(a)\n",
        "\n",
        "\n",
        "somar_nums(5, 6, 9, 10, a=10)"
      ],
      "metadata": {
        "colab": {
          "base_uri": "https://localhost:8080/"
        },
        "id": "aKg9rSz_7IGH",
        "outputId": "ddb47f5b-4936-4451-f297-bfa22364f690"
      },
      "execution_count": 25,
      "outputs": [
        {
          "output_type": "stream",
          "name": "stdout",
          "text": [
            "(5, 6, 9, 10)\n",
            "40\n"
          ]
        }
      ]
    },
    {
      "cell_type": "code",
      "source": [
        "def somar(*args):\n",
        "    return sum(args)\n",
        "\n",
        "somar(1, 2, 3, 4)  #funciona com qualquer quantidade de argumentos\n"
      ],
      "metadata": {
        "id": "NMLFNGLHknOh"
      },
      "execution_count": null,
      "outputs": []
    },
    {
      "cell_type": "markdown",
      "source": [
        "### Kwargs\n",
        "Usamos **kwargs quando queremos aceitar vários argumentos nomeados (keyword arguments). Eles são recebidos como um dicionário.\n",
        "\n",
        "\n",
        "\n",
        "```\n",
        "def exemplo(**kwargs):\n",
        "    print(kwargs)\n",
        "\n",
        "exemplo(a=1, b=2)  # Saída: {'a': 1, 'b': 2}\n",
        "\n",
        "```\n",
        "\n"
      ],
      "metadata": {
        "id": "iK7u4PQb73D_"
      }
    },
    {
      "cell_type": "code",
      "source": [
        "def concatenar(**palavras):\n",
        "  frase = ''\n",
        "  for palavra in palavras.values():\n",
        "    frase += palavra\n",
        "  print(frase)\n",
        "\n",
        "concatenar(a='Eu ', b='é ', c='Hequer ')"
      ],
      "metadata": {
        "colab": {
          "base_uri": "https://localhost:8080/"
        },
        "id": "n6kC8Y0w8Lu1",
        "outputId": "573e1d26-a67a-4589-9d91-c0e3dc87198f"
      },
      "execution_count": 27,
      "outputs": [
        {
          "output_type": "stream",
          "name": "stdout",
          "text": [
            "Eu é Hequer \n"
          ]
        }
      ]
    },
    {
      "cell_type": "code",
      "source": [
        "#Exemplo\n",
        "\n",
        "def calcula(nome, *args, **kwargs):\n",
        "  print(nome)\n",
        "  print(args)\n",
        "  print(kwargs)\n",
        "  for arg in args:\n",
        "    print(arg)\n",
        "  for kwarg in kwargs.values():\n",
        "    print(kwarg)\n",
        "\n",
        "calcula('José',5,6,72,1,a=4,b=6,c=8)"
      ],
      "metadata": {
        "id": "5VwoU8mE9XiR",
        "colab": {
          "base_uri": "https://localhost:8080/"
        },
        "outputId": "6ca1f0d7-fd00-4b75-9d45-82a9118ae3f9"
      },
      "execution_count": 28,
      "outputs": [
        {
          "output_type": "stream",
          "name": "stdout",
          "text": [
            "José\n",
            "(5, 6, 72, 1)\n",
            "{'a': 4, 'b': 6, 'c': 8}\n",
            "5\n",
            "6\n",
            "72\n",
            "1\n",
            "4\n",
            "6\n",
            "8\n"
          ]
        }
      ]
    },
    {
      "cell_type": "markdown",
      "source": [
        "###Exercício\n",
        "\n",
        "\n",
        "\n",
        "1. Crie uma função chamada somar_valores que aceite qualquer quantidade de números via *args e retorne a soma de todos.\n",
        "2. Crie uma função exibir_perfil que receba um nome fixo, dados variados com *args (ex: hobbies, interesses) e informações nomeadas com **kwargs (ex: idade, cidade). A função deve imprimir tudo de forma organizada.\n",
        "3. Crie uma função chamada multiplica_todos que aceita qualquer quantidade de números via *args e retorna o resultado da multiplicação entre eles.\n",
        "4. Crie uma função chamada configurar_sistema que aceite qualquer quantidade de configurações via **kwargs. A função deve imprimir cada chave e valor no formato: [configuração] => [valor]\n",
        "\n",
        "\n",
        "\n",
        "\n",
        "\n"
      ],
      "metadata": {
        "id": "bH3MIIfg_TDJ"
      }
    },
    {
      "cell_type": "markdown",
      "source": [
        "###Datetime"
      ],
      "metadata": {
        "id": "kLWpAwq7D7pf"
      }
    },
    {
      "cell_type": "code",
      "source": [
        "from datetime import date, datetime\n",
        "\n",
        "data_atual = date.today()\n",
        "datahora_atual = datetime.now()\n",
        "print(data_atual)\n",
        "print(datahora_atual)"
      ],
      "metadata": {
        "colab": {
          "base_uri": "https://localhost:8080/"
        },
        "id": "vSiWx2urEF7T",
        "outputId": "a3372634-0e82-4368-bf95-2d3cf68d3198"
      },
      "execution_count": 30,
      "outputs": [
        {
          "output_type": "stream",
          "name": "stdout",
          "text": [
            "2025-05-13\n",
            "2025-05-13 13:55:36.390504\n"
          ]
        }
      ]
    },
    {
      "cell_type": "code",
      "source": [
        "#Data formatada\n",
        "data_formatada = data_atual.strftime(\"%d/%m/%Y\")\n",
        "data_completa = datahora_atual.strftime(\"%d/%m/%Y %H:%M:%S\")\n",
        "print(data_formatada)\n",
        "print(data_completa)"
      ],
      "metadata": {
        "colab": {
          "base_uri": "https://localhost:8080/"
        },
        "id": "RAzb1te0EoMK",
        "outputId": "f3e4010f-1eea-4de2-8a4e-ea4381700b54"
      },
      "execution_count": 31,
      "outputs": [
        {
          "output_type": "stream",
          "name": "stdout",
          "text": [
            "13/05/2025\n",
            "13/05/2025 13:55:36\n"
          ]
        }
      ]
    },
    {
      "cell_type": "code",
      "source": [
        "data_nascimento = date(1982,1,19)\n",
        "\n",
        "idade = (date.today() - data_nascimento).days\n",
        "print(idade)"
      ],
      "metadata": {
        "colab": {
          "base_uri": "https://localhost:8080/"
        },
        "id": "zHgSc_C5JaOm",
        "outputId": "7030cf90-8373-4595-82e8-06b3ce7fb2c0"
      },
      "execution_count": 50,
      "outputs": [
        {
          "output_type": "stream",
          "name": "stdout",
          "text": [
            "43.342465753424655\n"
          ]
        }
      ]
    },
    {
      "cell_type": "markdown",
      "source": [
        "### Exercicio\n",
        "Escreva um programa em Python que:\n",
        "1. Obtenha a data e hora atual do sistema.\n",
        "2. Formate a saída da seguinte forma:\n",
        "\n",
        "```\n",
        "Hoje é 13 de maio de 2025 e são 14 horas, 9 minutos e 33 segundos.\n",
        "```\n",
        "3. Imprima a mensagem formatada no terminal.\n"
      ],
      "metadata": {
        "id": "jE3VvFNxGUhR"
      }
    },
    {
      "cell_type": "markdown",
      "source": [
        "##Decorator\n",
        "Separar responsabilidades: Permite adicionar funcionalidades (ex: autenticação, logging, validação) sem poluir a lógica principal da função.\n",
        "\n",
        "Evitar repetição de código: Ideal para aplicar o mesmo comportamento a múltiplas funções (ex: medir tempo de execução, tratar exceções).\n",
        "\n",
        "Aplicar padrões de projeto: Decorators são usados em frameworks para implementar aspectos como injeção de dependência, controle de acesso, e mais (ex: @app.route no Flask).\n",
        "\n",
        "Facilidade de leitura e manutenção: Um decorator é como uma etiqueta que revela rapidamente o comportamento especial daquela função."
      ],
      "metadata": {
        "id": "MnSClQU7_7QK"
      }
    },
    {
      "cell_type": "code",
      "source": [
        "#como acessar uma função que está dentro de outra função?\n",
        "def pai(numero):\n",
        "  def filho_A():\n",
        "    print('Sou o primeiro filho')\n",
        "  def filho_B():\n",
        "    print('Sou o segundo filho')\n",
        "  if numero == 1:\n",
        "    return filho_A\n",
        "\n",
        "filho = pai(1)\n",
        "filho()\n"
      ],
      "metadata": {
        "colab": {
          "base_uri": "https://localhost:8080/"
        },
        "id": "0UDoOjhy_-aM",
        "outputId": "257876e4-9555-43b5-abaa-bce9f17f69ee"
      },
      "execution_count": null,
      "outputs": [
        {
          "output_type": "stream",
          "name": "stdout",
          "text": [
            "Sou o primeiro filho\n"
          ]
        }
      ]
    },
    {
      "cell_type": "code",
      "source": [
        "#decorator\n",
        "def meu_decorator(funcao):\n",
        "  def encapsulado():\n",
        "    print(\"ANTES\")\n",
        "    funcao()\n",
        "    print(\"DEPOIS\")\n",
        "  return encapsulado\n",
        "\n",
        "def confirma_compra():\n",
        "  print ('Compra confirmada')\n",
        "\n",
        "resultado = meu_decorator(confirma_compra)\n",
        "resultado()"
      ],
      "metadata": {
        "id": "cxKKMyw_BbGM"
      },
      "execution_count": null,
      "outputs": []
    },
    {
      "cell_type": "code",
      "source": [
        "#Refatorando com decorator\n",
        "\n",
        "def meu_decorator(funcao):\n",
        "  def encapsulado():\n",
        "    print(\"ANTES\")\n",
        "    funcao()\n",
        "    print(\"DEPOIS\")\n",
        "  return encapsulado\n",
        "\n",
        "@meu_decorator\n",
        "def confirma_compra():\n",
        "  print ('Compra confirmada')\n",
        "\n",
        "confirma_compra()"
      ],
      "metadata": {
        "id": "0FfNI8rUCZAp"
      },
      "execution_count": null,
      "outputs": []
    },
    {
      "cell_type": "code",
      "source": [],
      "metadata": {
        "id": "PD7zd7mgDfTP"
      },
      "execution_count": null,
      "outputs": []
    },
    {
      "cell_type": "markdown",
      "source": [
        "###Exercício -\n",
        "Crie um decorator que irá pegar a função que for passada e imprima o horário atual antes de executar a função e depois imprima o horário após ter executado a função. (Deve usar o módulo datetime)"
      ],
      "metadata": {
        "id": "bild-mL1CrTL"
      }
    },
    {
      "cell_type": "code",
      "source": [
        "#Resultado\n",
        "from datetime import datetime\n",
        "\n",
        "def monitorar_horario(funcao):\n",
        "  def monitor():\n",
        "    print(datetime.now())\n",
        "    funcao()\n",
        "    print(datetime.now())\n",
        "  return monitor\n",
        "\n",
        "@monitorar_horario\n",
        "def cadastro_de_clientes():\n",
        "  print('Cliente Cadastrado!')\n",
        "\n",
        "cadastro_de_clientes()"
      ],
      "metadata": {
        "id": "i4m9M6WcCqkF",
        "colab": {
          "base_uri": "https://localhost:8080/"
        },
        "outputId": "c3eb1018-0220-48e3-cac6-6ceae9e8d505"
      },
      "execution_count": 41,
      "outputs": [
        {
          "output_type": "stream",
          "name": "stdout",
          "text": [
            "2025-05-13 10:02:43.528735\n",
            "Cliente Cadastrado!\n",
            "2025-05-13 10:02:43.528889\n"
          ]
        }
      ]
    },
    {
      "cell_type": "markdown",
      "source": [
        "### Exercícios\n",
        "Crie um decorator chamado boas_vindas que imprima a mensagem \"Bem-vindo ao sistema!\" antes da execução da função decorada."
      ],
      "metadata": {
        "id": "7BEJQ20mHbjW"
      }
    }
  ]
}