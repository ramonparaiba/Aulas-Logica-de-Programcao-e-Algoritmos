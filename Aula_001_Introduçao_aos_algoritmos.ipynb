{
  "nbformat": 4,
  "nbformat_minor": 0,
  "metadata": {
    "colab": {
      "provenance": [],
      "authorship_tag": "ABX9TyMglrGUtoByGa8EIhqdK691",
      "include_colab_link": true
    },
    "kernelspec": {
      "name": "python3",
      "display_name": "Python 3"
    },
    "language_info": {
      "name": "python"
    }
  },
  "cells": [
    {
      "cell_type": "markdown",
      "metadata": {
        "id": "view-in-github",
        "colab_type": "text"
      },
      "source": [
        "<a href=\"https://colab.research.google.com/github/ramonparaiba/Aulas-Logica-de-Programcao-e-Algoritmos/blob/main/Aula_001_Introdu%C3%A7ao_aos_algoritmos.ipynb\" target=\"_parent\"><img src=\"https://colab.research.google.com/assets/colab-badge.svg\" alt=\"Open In Colab\"/></a>"
      ]
    },
    {
      "cell_type": "markdown",
      "source": [
        "Aula de introdução aos Algorítmos"
      ],
      "metadata": {
        "id": "XvB7_bCUAIYL"
      }
    },
    {
      "cell_type": "code",
      "execution_count": null,
      "metadata": {
        "colab": {
          "base_uri": "https://localhost:8080/"
        },
        "id": "eOvNxlS98kQn",
        "outputId": "23739d39-0cd0-4251-bd71-77ddce3b2783"
      },
      "outputs": [
        {
          "output_type": "stream",
          "name": "stdout",
          "text": [
            "Eu é Réker!\n"
          ]
        }
      ],
      "source": [
        "# Primeiro comando\n",
        "print('Eu é Réker!')"
      ]
    },
    {
      "cell_type": "code",
      "source": [
        "#Segundo comando\n",
        "print(2+3)"
      ],
      "metadata": {
        "colab": {
          "base_uri": "https://localhost:8080/"
        },
        "id": "3c7B2RMpAvMc",
        "outputId": "ceda90c6-8554-4203-c1fd-b6c174935d82"
      },
      "execution_count": null,
      "outputs": [
        {
          "output_type": "stream",
          "name": "stdout",
          "text": [
            "5\n"
          ]
        }
      ]
    },
    {
      "cell_type": "code",
      "source": [
        "# Variáveis\n",
        "nome = 'Pablo'\n",
        "print('Olá '+nome)"
      ],
      "metadata": {
        "colab": {
          "base_uri": "https://localhost:8080/"
        },
        "id": "yq2q2Zi_Bq2I",
        "outputId": "ddb6e8b5-fb1b-4f55-b9a4-42a2c0eb314f"
      },
      "execution_count": null,
      "outputs": [
        {
          "output_type": "stream",
          "name": "stdout",
          "text": [
            "Olá Pablo\n"
          ]
        }
      ]
    },
    {
      "cell_type": "code",
      "source": [
        "#Variáveis numéricas\n",
        "a = 42\n",
        "b = 10\n",
        "print (a-b)"
      ],
      "metadata": {
        "colab": {
          "base_uri": "https://localhost:8080/"
        },
        "id": "Rni3zx6BCfbf",
        "outputId": "77f706a8-685f-4d4c-84ef-9e4b6096df59"
      },
      "execution_count": null,
      "outputs": [
        {
          "output_type": "stream",
          "name": "stdout",
          "text": [
            "32\n"
          ]
        }
      ]
    },
    {
      "cell_type": "code",
      "source": [
        "#Variáveis numéricas parte 2\n",
        "nota1 = 8\n",
        "nota2 = 7\n",
        "nota3 = 5\n",
        "media = (nota1 + nota2 + nota3)/3\n",
        "print (media)"
      ],
      "metadata": {
        "colab": {
          "base_uri": "https://localhost:8080/"
        },
        "id": "iLTJZBCwC-xQ",
        "outputId": "14c209bd-0e8d-4d2a-da51-8ef85928d969"
      },
      "execution_count": null,
      "outputs": [
        {
          "output_type": "stream",
          "name": "stdout",
          "text": [
            "6.666666666666667\n"
          ]
        }
      ]
    },
    {
      "cell_type": "code",
      "source": [
        "nome = 'José'  #String\n",
        "preco = 12.5  # float, double\n",
        "idade = 30  # Numérica mas pertencente aos inteiros\n",
        "ehMaior = idade > 18  #Lógica ou booleanas George Boole"
      ],
      "metadata": {
        "id": "FpCZVbMuyBKb"
      },
      "execution_count": 4,
      "outputs": []
    },
    {
      "cell_type": "code",
      "source": [
        "type(ehMaior)"
      ],
      "metadata": {
        "id": "qIFEnbT1y3c6"
      },
      "execution_count": null,
      "outputs": []
    },
    {
      "cell_type": "markdown",
      "source": [
        "Entrada de dados no notepad"
      ],
      "metadata": {
        "id": "zcKwbiYB1nKH"
      }
    },
    {
      "cell_type": "code",
      "source": [
        "Time = input('Insira o nome do Time: ')\n",
        "print(Time)"
      ],
      "metadata": {
        "id": "PauMjDQI1p6o"
      },
      "execution_count": null,
      "outputs": []
    },
    {
      "cell_type": "code",
      "source": [
        "nome = input('Insira o nome do usuário:')\n",
        "print ('Seja bem-vindo', nome)"
      ],
      "metadata": {
        "id": "7zL3ZhEI31yh"
      },
      "execution_count": null,
      "outputs": []
    },
    {
      "cell_type": "code",
      "source": [
        "#Pede para inserir um número e retorna o dobro\n",
        "numero  =int(input('Insira um número'))\n",
        "print (numero * 2)"
      ],
      "metadata": {
        "id": "zVOKA2Ie4lb_"
      },
      "execution_count": null,
      "outputs": []
    },
    {
      "cell_type": "code",
      "source": [
        "#Pede para inserir um número e retornar a sua metade\n",
        "numero = int(input('Insira um numero '))\n",
        "print (numero / 2)"
      ],
      "metadata": {
        "id": "bqeCtYye5z5_"
      },
      "execution_count": null,
      "outputs": []
    },
    {
      "cell_type": "code",
      "source": [
        "#A Circunferencia do circulo é medida pela formula\n",
        "#2 * pi * raio\n",
        "#Faça um algoritmo que pede o raio e retorna a circunferencia\n",
        "#use pi = 3.14\n",
        "raio = float(input('Insira o raio '))\n",
        "circunferencia = 2 * 3.14 * raio\n",
        "print(circunferencia)"
      ],
      "metadata": {
        "id": "Tqg7PfA17Ggp"
      },
      "execution_count": null,
      "outputs": []
    },
    {
      "cell_type": "code",
      "source": [
        "# Solicita ao usuário a altura e o peso\n",
        "# Retorna o cálculo do IMC\n",
        "# peso / altura ao quadrado\n",
        "peso = float(input('peso: '))\n",
        "altura = float(input('altura: '))\n",
        "imc = peso / altura**2\n",
        "print ('O IMC é ', imc)"
      ],
      "metadata": {
        "id": "-jmlyfFx8z0t"
      },
      "execution_count": null,
      "outputs": []
    },
    {
      "cell_type": "code",
      "source": [
        "# Converter uma temperatura em graus Celsius para Kelvin\n",
        "# temperatura em celsius e soma 274\n",
        "temp = float(input('Forneça a temperatura '))\n",
        "print (temp + 274)\n"
      ],
      "metadata": {
        "id": "X8fEh3RL_PBE"
      },
      "execution_count": null,
      "outputs": []
    },
    {
      "cell_type": "markdown",
      "source": [
        "#Estruturas de contrel If e Else"
      ],
      "metadata": {
        "id": "Y3xiZ60dA4kd"
      }
    },
    {
      "cell_type": "code",
      "source": [
        "# Pede a idade da pessoa\n",
        "# Se for maior de 18 anos\n",
        "# Está apto ao concurso público\n",
        "idade = int(input('Digite a idade'))\n",
        "if(idade >= 18):\n",
        "  print('Apto ao concurso')\n",
        "else:\n",
        "  print('Não está apto')"
      ],
      "metadata": {
        "id": "Dk48YRxqBmsd"
      },
      "execution_count": null,
      "outputs": []
    },
    {
      "cell_type": "code",
      "source": [
        "#Classificador de números.\n",
        "#Recebe um número e diz se ele é positivo negativo ou zero\n",
        "num = int(input('Digite o numero: '))\n",
        "if (num > 0):\n",
        "  print('Positivo')\n",
        "elif(num < 0):\n",
        "  print('Negativo')\n",
        "else:\n",
        "  print('ZERO')"
      ],
      "metadata": {
        "id": "BaVFZBdvDrib"
      },
      "execution_count": null,
      "outputs": []
    },
    {
      "cell_type": "code",
      "source": [
        "#Recebe dois números\n",
        "#Diz qual é o maior\n",
        "#informa se eles forem iguais\n",
        "num1 = int(input('Digite o primeiro numero'))\n",
        "num2 = int(input('Digite o segundo numero'))\n",
        "if (num1 > num2):\n",
        "  print('o primeiro numero é maior')\n",
        "elif(num2 > num1):\n",
        "  print('O segundo número é maior')\n",
        "else:\n",
        "  print('São iguais')\n"
      ],
      "metadata": {
        "colab": {
          "base_uri": "https://localhost:8080/"
        },
        "id": "tbyPl0CVFGyn",
        "outputId": "ae18aaec-fdfd-4d68-a85c-077232ea38d5"
      },
      "execution_count": 34,
      "outputs": [
        {
          "output_type": "stream",
          "name": "stdout",
          "text": [
            "Digite o primeiro numero6\n",
            "Digite o segundo numero6\n",
            "São iguais\n"
          ]
        }
      ]
    }
  ]
}