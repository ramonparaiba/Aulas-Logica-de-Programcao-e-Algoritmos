{
  "nbformat": 4,
  "nbformat_minor": 0,
  "metadata": {
    "colab": {
      "provenance": [],
      "authorship_tag": "ABX9TyMcDb9mOvHTQdN8vuakPRjY",
      "include_colab_link": true
    },
    "kernelspec": {
      "name": "python3",
      "display_name": "Python 3"
    },
    "language_info": {
      "name": "python"
    }
  },
  "cells": [
    {
      "cell_type": "markdown",
      "metadata": {
        "id": "view-in-github",
        "colab_type": "text"
      },
      "source": [
        "<a href=\"https://colab.research.google.com/github/ramonparaiba/Aulas-Logica-de-Programcao-e-Algoritmos/blob/main/Estruturas_de_Controle_Python.ipynb\" target=\"_parent\"><img src=\"https://colab.research.google.com/assets/colab-badge.svg\" alt=\"Open In Colab\"/></a>"
      ]
    },
    {
      "cell_type": "markdown",
      "source": [
        "# Revisão"
      ],
      "metadata": {
        "id": "snYvxJnhB2Mt"
      }
    },
    {
      "cell_type": "markdown",
      "source": [
        "## 1. Peça ao usuário dois números do tipo float e execute as seguintes operações\n",
        "\n",
        "1. Soma de a e b\n",
        "\n",
        "2. Subtração de a por b\n",
        "\n",
        "3. Multiplicação de a por b\n",
        "\n",
        "4. Divisão de a por b\n",
        "\n",
        "5. Resto da divisão de a por *b*\n",
        "\n",
        "\n",
        "\n",
        "\n"
      ],
      "metadata": {
        "id": "J0f9Ix0bA-ma"
      }
    },
    {
      "cell_type": "code",
      "execution_count": null,
      "metadata": {
        "id": "koJPx0IhA2ez"
      },
      "outputs": [],
      "source": [
        "num1 = float(input('Insira um numéro: '))\n",
        "num2 = float(input('Insira outro numéro: '))\n",
        "\n",
        "print (num1 + num2)\n",
        "print (num1 % num2)\n"
      ]
    },
    {
      "cell_type": "markdown",
      "source": [
        "## 2. O usuário deve inserir o peso e a altura do usuário e o programa retorna o IMC (índice de massa corpórea)"
      ],
      "metadata": {
        "id": "DjzpSWS0B5j9"
      }
    },
    {
      "cell_type": "code",
      "source": [
        "#IMC = peso / altura ** 2\n",
        "peso = float(input('Insira o seu peso: '))\n",
        "altura = float(input('Insira a sua altura:'))\n",
        "\n",
        "IMC = peso / altura**2\n",
        "#print(round(IMC, 2))\n",
        "print(f\"{IMC:.2f}\")"
      ],
      "metadata": {
        "id": "QmMMwgw_CGf5",
        "colab": {
          "base_uri": "https://localhost:8080/"
        },
        "outputId": "644bbdb8-d09f-41fb-c5a8-29592f4b1ea1"
      },
      "execution_count": 15,
      "outputs": [
        {
          "output_type": "stream",
          "name": "stdout",
          "text": [
            "Insira o seu peso: 83\n",
            "Insira a sua altura:1.65\n",
            "30.49\n"
          ]
        }
      ]
    },
    {
      "cell_type": "markdown",
      "source": [
        "## 3. Escreva um progama que solicita ao usuário: Nome da pessoa, nome da rua, número da casa/prédio, bairro, cidade e CEP. Ao final, o programa escreve um texto no estilo que se segue:\n",
        "\"Manoel, residente à rua Aderbal dos Santos, 21, Cruz das Armas, João Pessoa, CEP 5800000\""
      ],
      "metadata": {
        "id": "ABajFZP8CHLq"
      }
    },
    {
      "cell_type": "code",
      "source": [
        "nome = input('Coloque o nome: ')\n",
        "rua = input('Nome da rua: ')\n",
        "numero = input('Número: ')\n",
        "bairro = input('Bairro: ')\n",
        "cidade = input('Cidade: ')\n",
        "CEP = input('CEP - apenas números: ')\n",
        "\n",
        "print(f\"{nome}, residente à rua {rua}, {numero}, {bairro}, {cidade}, {CEP}\")"
      ],
      "metadata": {
        "id": "jbPMrEj5CYlD"
      },
      "execution_count": null,
      "outputs": []
    },
    {
      "cell_type": "markdown",
      "source": [
        "## 4. Crie uma variável para armazenar uma temperatura em graus Celsius. Converta essa temperatura para Fahrenheit usando a fórmula F = (C * 9/5) + 32 e imprima o resultado."
      ],
      "metadata": {
        "id": "xRfsNocVC_42"
      }
    },
    {
      "cell_type": "code",
      "source": [
        "tempC = float(input('Qual a temperatura? '))\n",
        "\n",
        "tempFah = (tempC * 9/5) + 32\n",
        "print (tempFah)\n"
      ],
      "metadata": {
        "id": "RfqK2z_QDN1V"
      },
      "execution_count": null,
      "outputs": []
    },
    {
      "cell_type": "markdown",
      "source": [
        "# Estruturas de Controle IF ELSE ELIF"
      ],
      "metadata": {
        "id": "NjTxNnfNH_Eg"
      }
    },
    {
      "cell_type": "markdown",
      "source": [
        "## Uso básico if"
      ],
      "metadata": {
        "id": "am-Mh7esIF8G"
      }
    },
    {
      "cell_type": "code",
      "source": [
        "#Recebe a idade do indivíduo e informa se ele é maior de idade.\n",
        "\n",
        "idade = 17\n",
        "\n",
        "if idade > 18:\n",
        "  print('É maior de idade')\n"
      ],
      "metadata": {
        "id": "gQONljA6IDRy"
      },
      "execution_count": 21,
      "outputs": []
    },
    {
      "cell_type": "markdown",
      "source": [
        "## Uso básico if e else"
      ],
      "metadata": {
        "id": "cdt5ByybIOtN"
      }
    },
    {
      "cell_type": "code",
      "source": [
        "#Recebe a idade do indivíduo e informa se é maior de idade, ou se é menor de idade\n",
        "idade = 17\n",
        "\n",
        "if idade > 18:\n",
        "  print('É maior de idade')\n",
        "else:\n",
        "  print('É menor de idade')\n",
        "\n"
      ],
      "metadata": {
        "id": "TSsFH_LoISvo",
        "colab": {
          "base_uri": "https://localhost:8080/"
        },
        "outputId": "18c6a15a-b0a9-44cb-a4f7-2f464d489e83"
      },
      "execution_count": 22,
      "outputs": [
        {
          "output_type": "stream",
          "name": "stdout",
          "text": [
            "É menor de idade\n"
          ]
        }
      ]
    },
    {
      "cell_type": "markdown",
      "source": [
        "## Trabalhando com múltiplas condições ELIF"
      ],
      "metadata": {
        "id": "D4rHF3RRIX9J"
      }
    },
    {
      "cell_type": "code",
      "source": [
        "# Recebe a idade do usuário e informa se é Idoso (60+), meia idade (+35), adulto (18+), menor de idade (18-)\n",
        "idade = 5\n",
        "\n",
        "if idade >= 60:\n",
        "  print('É idoso!')\n",
        "elif idade >= 35:\n",
        "  print('Meia idade!')\n",
        "elif idade >= 18:\n",
        "  print('Adulto!')\n",
        "else:\n",
        "  print ('Tu sôi de menó!')\n"
      ],
      "metadata": {
        "colab": {
          "base_uri": "https://localhost:8080/"
        },
        "id": "4R7qzJ6HIdmJ",
        "outputId": "f5dbde96-21f4-4fbd-a154-5037588e519e"
      },
      "execution_count": 29,
      "outputs": [
        {
          "output_type": "stream",
          "name": "stdout",
          "text": [
            "Tu sôi de menó!\n"
          ]
        }
      ]
    },
    {
      "cell_type": "markdown",
      "source": [
        "### Escreva um programa que peça ao usuário o valor total de uma compra e aplique um desconto baseado no valor\n",
        "\n",
        "\n",
        "* Compras até R$ 100,00 - Sem desconto;\n",
        "\n",
        "* Compras entre: R$ 101,00 e  500,00 - desconto de 10%\n",
        "\n",
        "* Compras entre R$ 501 e R 1000,00 - desconto de 20%\n",
        "\n",
        "\n",
        "* Compras acima de R$ 1000,00 - desconto de 30%\n",
        "\n",
        "\n"
      ],
      "metadata": {
        "id": "ESpFZPqBXtFu"
      }
    },
    {
      "cell_type": "code",
      "source": [
        "valor_compra = float(input('Coloque o valor da compra: '))\n",
        "\n",
        "if valor_compra <= 100:\n",
        "  print('Sem desconto, otáro!')\n",
        "elif valor_compra <= 500:\n",
        "  print(valor_compra * 0.1)\n",
        "elif valor_compra <= 1000:\n",
        "  print (valor_compra * 0.2)\n",
        "else:\n",
        "  print (valor_compra * 0.3)\n",
        "\n",
        "\n",
        "\n",
        "\n"
      ],
      "metadata": {
        "colab": {
          "base_uri": "https://localhost:8080/"
        },
        "id": "ZVLxaYzuckpn",
        "outputId": "8894d6f6-53a3-46a4-c369-87a2302b69aa"
      },
      "execution_count": 31,
      "outputs": [
        {
          "output_type": "stream",
          "name": "stdout",
          "text": [
            "Coloque o valor da compra: 5000\n",
            "1500.0\n"
          ]
        }
      ]
    },
    {
      "cell_type": "markdown",
      "source": [
        "## Estruturas aninhadas"
      ],
      "metadata": {
        "id": "VYEgQy_QJeFW"
      }
    },
    {
      "cell_type": "code",
      "source": [
        "#Pergunta a idade do usuário e se tem CNH, caso satisfaça as duas condiçoes\n",
        "\n",
        "idade = 25\n",
        "temCNH = False\n",
        "\n",
        "if idade > 18:\n",
        "  if temCNH:\n",
        "    print('Pode dirigir')\n",
        "  else:\n",
        "    print ('Sem habilitação, não pode dirigir!')\n",
        "else:\n",
        "  print ('Menor de idade não pode dirigir')"
      ],
      "metadata": {
        "id": "yEBeNf-zJhX2",
        "colab": {
          "base_uri": "https://localhost:8080/"
        },
        "outputId": "85837ac1-6891-480f-8bdd-d67b598a2428"
      },
      "execution_count": 34,
      "outputs": [
        {
          "output_type": "stream",
          "name": "stdout",
          "text": [
            "Sem habilitação, não pode dirigir!\n"
          ]
        }
      ]
    }
  ]
}