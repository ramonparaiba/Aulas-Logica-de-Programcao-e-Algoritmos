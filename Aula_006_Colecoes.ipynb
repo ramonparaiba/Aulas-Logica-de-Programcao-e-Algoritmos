{
  "nbformat": 4,
  "nbformat_minor": 0,
  "metadata": {
    "colab": {
      "provenance": [],
      "collapsed_sections": [
        "J-aqBvHP8-ug"
      ],
      "authorship_tag": "ABX9TyM0DGJ4ikoy0r/lpt78mPQW",
      "include_colab_link": true
    },
    "kernelspec": {
      "name": "python3",
      "display_name": "Python 3"
    },
    "language_info": {
      "name": "python"
    }
  },
  "cells": [
    {
      "cell_type": "markdown",
      "metadata": {
        "id": "view-in-github",
        "colab_type": "text"
      },
      "source": [
        "<a href=\"https://colab.research.google.com/github/ramonparaiba/Aulas-Logica-de-Programcao-e-Algoritmos/blob/main/Aula_006_Colecoes.ipynb\" target=\"_parent\"><img src=\"https://colab.research.google.com/assets/colab-badge.svg\" alt=\"Open In Colab\"/></a>"
      ]
    },
    {
      "cell_type": "markdown",
      "source": [
        "COLEÇÕES EM PYTHON\n",
        "\n",
        "Em Python, as coleções são estruturas de dados que permitem armazenar e manipular um grupo de elementos relacionados. As coleções são amplamente utilizadas em programação porque permitem que você trabalhe com dados de forma mais eficiente e organizada.\n",
        "\n",
        "* Listas: são coleções ordenadas de elementos mutáveis.\n",
        "  * Exemplo: uma lista de compras de supermercado que você precisa alterar durante a sua visita, incluindo itens duplicados, como ovos, leite, pão etc.\n",
        "* Tuplas: são coleções ordenadas de elementos imutáveis.\n",
        "  * Exemplo: coordenadas geográficas de uma cidade, onde as informações de latitude e longitude não mudam.\n",
        "* Dicionários: são coleções não ordenadas de pares chave-valor mutáveis.\n",
        "  * Exemplo: um dicionário de palavras em um dicionário, onde as chaves são as palavras e os valores são as definições.\n",
        "* Conjuntos: são coleções não ordenadas de elementos mutáveis e não podem conter elementos duplicados.\n",
        "  * Exemplo: uma lista de emails de clientes para campanhas de marketing, onde você precisa garantir que cada endereço de email seja exclusivo.\n",
        "\n",
        "/ Também é comum o uso do termo \"iterável\" para se referir às coleções"
      ],
      "metadata": {
        "id": "66KdJnqE7PZH"
      }
    },
    {
      "cell_type": "markdown",
      "source": [
        "#Listas\n",
        "________________________\n",
        "Ordenadas e Mutáveis"
      ],
      "metadata": {
        "id": "J-aqBvHP8-ug"
      }
    },
    {
      "cell_type": "code",
      "execution_count": null,
      "metadata": {
        "id": "CXHTdKXE7Aoq"
      },
      "outputs": [],
      "source": [
        "#Criando Listas\n",
        "lista_vazia = []\n",
        "\n",
        "#Lista com elementos\n",
        "lista_Com_coisas = [2, 4, 3, 'quatro', 'cinco']"
      ]
    },
    {
      "cell_type": "code",
      "source": [
        "#Acessando Elementos da lista\n",
        "lista = [1, 2, 3, \"quatro\", \"cinco\"]\n",
        "\n",
        "print(lista[0])  # 1\n",
        "print(lista[3])  # \"quatro\"\n",
        "print(lista[-1]) # \"cinco\""
      ],
      "metadata": {
        "colab": {
          "base_uri": "https://localhost:8080/"
        },
        "id": "OtPByMRm_ex6",
        "outputId": "33fcc2ad-669c-4990-c9a0-e6b4cdb6bba3"
      },
      "execution_count": null,
      "outputs": [
        {
          "output_type": "stream",
          "name": "stdout",
          "text": [
            "1\n",
            "quatro\n",
            "cinco\n"
          ]
        }
      ]
    },
    {
      "cell_type": "markdown",
      "source": [
        "* Operações com Lista"
      ],
      "metadata": {
        "id": "9nCtAjAN_m5g"
      }
    },
    {
      "cell_type": "markdown",
      "source": [
        "@ Adicionar elementos\n",
        "  * Para adicionar elementos use um dos métodos `append()` ou `extend()` \n",
        "  *`append()` - para adicionar um elemento ao final da lista\n",
        "  *`extend()` - para adicionar vários elementos ao final da lista"
      ],
      "metadata": {
        "id": "AAwjsCk6BxLw"
      }
    },
    {
      "cell_type": "code",
      "source": [
        "nomes = ['ze', 'tião', 'joaquim']\n",
        "nomes.append('julia')\n",
        "\n",
        "#vários valores\n",
        "outrosNomes = ['Ana', 'Zabé', 'Maria']\n",
        "nomes.extend(outrosNomes)\n",
        "\n",
        "nomes\n"
      ],
      "metadata": {
        "colab": {
          "base_uri": "https://localhost:8080/"
        },
        "id": "8PFD46q_7VVP",
        "outputId": "5f3e5509-d394-406a-efe9-8797464ae01f"
      },
      "execution_count": null,
      "outputs": [
        {
          "output_type": "execute_result",
          "data": {
            "text/plain": [
              "['ze', 'tião', 'joaquim', 'julia', 'Ana', 'Zabé', 'Maria']"
            ]
          },
          "metadata": {},
          "execution_count": 3
        }
      ]
    },
    {
      "cell_type": "markdown",
      "source": [
        "@ Remoção de elementos\n",
        "\n",
        "* Para remover  `remove()` ou `pop()`\n",
        " * `remove()` - Remove o primeiro elemento\n",
        " * `pop()` - Remove o último elemento"
      ],
      "metadata": {
        "id": "UrQI1KbFB9uQ"
      }
    },
    {
      "cell_type": "code",
      "source": [
        "#Crie uma lista de números e \n",
        "numeros = [ 2, 4, 1, 6, 9, 12]\n",
        "#remova o primeiro elemento da lista\n",
        "numeros.remove(numeros[0])\n",
        "#remova o último elemento da lista\n",
        "numeros.pop()\n",
        "\n",
        "numeros"
      ],
      "metadata": {
        "colab": {
          "base_uri": "https://localhost:8080/"
        },
        "id": "TlvhNlc8Cpat",
        "outputId": "d2221373-2433-4725-f5b6-49237c20edae"
      },
      "execution_count": null,
      "outputs": [
        {
          "output_type": "execute_result",
          "data": {
            "text/plain": [
              "[4, 1, 6, 9]"
            ]
          },
          "metadata": {},
          "execution_count": 55
        }
      ]
    },
    {
      "cell_type": "markdown",
      "source": [
        "* Ordenação de Elementos\n",
        "\n",
        "  * lista . `sort()` - ordena em ordem crescente\n",
        "  * lista . `sort(reverse=True)` - ordena em ordem decrescente"
      ],
      "metadata": {
        "id": "NTRRofj6DW4g"
      }
    },
    {
      "cell_type": "code",
      "source": [
        "#1 - Crie uma lista de notas, e exiba-a da menor para a maior\n",
        "notas = [2,10, 9, 4, 7, 3, 8]\n",
        "nomes = ['Ademar', 'Maristênio', 'Asdrúbal', 'Leo']\n",
        "#notas.sort()\n",
        "nomes.sort(reverse=True)\n",
        "#2 - Crie uma lista de nomes de frutas e ordene-a em ordem decrescente\n",
        "\n",
        "nomes"
      ],
      "metadata": {
        "colab": {
          "base_uri": "https://localhost:8080/"
        },
        "id": "sM9dwIxrCtPh",
        "outputId": "daa47646-2018-48b9-a672-2a44072d248a"
      },
      "execution_count": null,
      "outputs": [
        {
          "output_type": "execute_result",
          "data": {
            "text/plain": [
              "['Maristênio', 'Leo', 'Asdrúbal', 'Ademar']"
            ]
          },
          "metadata": {},
          "execution_count": 7
        }
      ]
    },
    {
      "cell_type": "markdown",
      "source": [
        "* Função `map()` serve para aplicar uma função a cada elemento de uma lista, dispensando o uso de um loop (for ou while)\n",
        "  * `map(funcao, iterável)`\n",
        "\n",
        "* Função `filter()` serve para filtrar elementos de uma *sequência*"
      ],
      "metadata": {
        "id": "RII8Bx16FYOm"
      }
    },
    {
      "cell_type": "code",
      "source": [
        "#Pegar os preços de uma lista\n",
        "#adicionar 2 a cada um deles\n",
        "newPrecos = list(map(lambda x : x+2, precos))\n",
        "newPrecos"
      ],
      "metadata": {
        "id": "1_jotytbtaKx"
      },
      "execution_count": null,
      "outputs": []
    },
    {
      "cell_type": "code",
      "source": [
        "notas = [6, 7, 3.5, 9, 6.5]\n",
        "#quero apenas os aprovados.... \n",
        "aprovados = list(filter(lambda x : x<=7, map(lambda x : x+1, notas )))\n",
        "aprovados"
      ],
      "metadata": {
        "colab": {
          "base_uri": "https://localhost:8080/"
        },
        "id": "E7t3SOIDvX9U",
        "outputId": "9783a7bf-50ec-48cc-9c8a-e2df2603b814"
      },
      "execution_count": null,
      "outputs": [
        {
          "output_type": "execute_result",
          "data": {
            "text/plain": [
              "[7, 4.5]"
            ]
          },
          "metadata": {},
          "execution_count": 21
        }
      ]
    },
    {
      "cell_type": "code",
      "source": [
        "#MAP map(função, iteravel)\n",
        "precos = [9.99, 2.50, 3.45, 7.00, 10.99]"
      ],
      "metadata": {
        "id": "z4u1oEthnBWO"
      },
      "execution_count": null,
      "outputs": []
    },
    {
      "cell_type": "code",
      "source": [
        "#Pegar os números de uma lista\n",
        "#Criar outra lista com o dobro\n",
        "nums = [6, 5, 2, 1, 7]\n",
        "def dobro(lista):\n",
        "  dobrolista = []\n",
        "  for n in lista:\n",
        "    dobrolista.append(n*2)\n",
        "  return dobrolista\n",
        "\n",
        "dobro(nums)"
      ],
      "metadata": {
        "colab": {
          "base_uri": "https://localhost:8080/"
        },
        "id": "lxUeQa6VlXn0",
        "outputId": "aef4aa4e-aef3-4a71-a3fe-88bb249ccd9b"
      },
      "execution_count": null,
      "outputs": [
        {
          "output_type": "execute_result",
          "data": {
            "text/plain": [
              "[12, 10, 4, 2, 14]"
            ]
          },
          "metadata": {},
          "execution_count": 9
        }
      ]
    },
    {
      "cell_type": "code",
      "source": [
        "#Exemplo função map - cria uma nova lista com o dobro \n",
        "numeros = [2, 4, 6, 3]\n",
        "nova_lista = list(map(lambda x : x*2, numeros))\n",
        "nova_lista"
      ],
      "metadata": {
        "colab": {
          "base_uri": "https://localhost:8080/"
        },
        "id": "PvvNT1ANK7iU",
        "outputId": "ac7e41cc-37a9-4831-c2bf-2e7a8de92b03"
      },
      "execution_count": null,
      "outputs": [
        {
          "output_type": "execute_result",
          "data": {
            "text/plain": [
              "[4, 8, 12, 6]"
            ]
          },
          "metadata": {},
          "execution_count": 63
        }
      ]
    },
    {
      "cell_type": "code",
      "source": [
        "# pegar cada um dos números e dividir por 3\n",
        "numDivi = list(map(lambda x : x/3, numeros ))\n",
        "\n",
        "numDivi  "
      ],
      "metadata": {
        "colab": {
          "base_uri": "https://localhost:8080/"
        },
        "id": "hPTr9aI0DFt_",
        "outputId": "bdf0a3f2-a481-44bf-f0fd-6259b89fbb95"
      },
      "execution_count": null,
      "outputs": [
        {
          "output_type": "execute_result",
          "data": {
            "text/plain": [
              "[0.6666666666666666, 1.3333333333333333, 2.0, 1.0]"
            ]
          },
          "metadata": {},
          "execution_count": 66
        }
      ]
    },
    {
      "cell_type": "code",
      "source": [
        "#Pega cada número e soma 2.\n",
        "soma2  = list(map(lambda x : x+2, numeros))\n",
        "soma2"
      ],
      "metadata": {
        "id": "3qJOvCFiD9xc"
      },
      "execution_count": null,
      "outputs": []
    },
    {
      "cell_type": "code",
      "source": [
        "#Sem usar função map associada à uma função lambda\n",
        "new_list = []\n",
        "for n in numeros:\n",
        "  new_list.append(n*2)\n",
        "\n",
        "new_list"
      ],
      "metadata": {
        "id": "yWnSmvXzLWTh"
      },
      "execution_count": null,
      "outputs": []
    },
    {
      "cell_type": "code",
      "source": [
        "len('abacate')>5"
      ],
      "metadata": {
        "colab": {
          "base_uri": "https://localhost:8080/"
        },
        "id": "fu1203zdFdlP",
        "outputId": "11d196c0-9b4d-480e-fbdb-8a98d0020dee"
      },
      "execution_count": null,
      "outputs": [
        {
          "output_type": "execute_result",
          "data": {
            "text/plain": [
              "True"
            ]
          },
          "metadata": {},
          "execution_count": 72
        }
      ]
    },
    {
      "cell_type": "code",
      "source": [
        "#Exemplo função filter - a partir de uma lista de nomes, criar uma nova lista apenas com palavras com mais de 5 caracteres\n",
        "\n",
        "nomes = ['josé', 'joão', 'Sebastião', 'Angélica', 'Leonardo', 'Luana', 'Bárbara']\n",
        "\n",
        "new_list = list(filter(lambda x : len(x)>5, nomes))\n",
        "new_list"
      ],
      "metadata": {
        "colab": {
          "base_uri": "https://localhost:8080/"
        },
        "id": "Hax_3ltMfUZ3",
        "outputId": "4566da00-2809-4d9c-ed46-0e8e1d1d5b99"
      },
      "execution_count": null,
      "outputs": [
        {
          "output_type": "execute_result",
          "data": {
            "text/plain": [
              "['Sebastião', 'Angélica', 'Leonardo', 'Bárbara']"
            ]
          },
          "metadata": {},
          "execution_count": 70
        }
      ]
    },
    {
      "cell_type": "code",
      "source": [
        "# crie uma lista de notas, imprime as maiores que 6\n",
        "notas = [3, 4, 9, 8, 6, 7]\n",
        "newNotas = list(filter(lambda x : x >= 6, notas ))\n",
        "\n",
        "newNotas\n"
      ],
      "metadata": {
        "colab": {
          "base_uri": "https://localhost:8080/"
        },
        "id": "_JwLvTkcF6Yp",
        "outputId": "74c1b906-01f3-4a66-baf5-125af50c7d26"
      },
      "execution_count": null,
      "outputs": [
        {
          "output_type": "execute_result",
          "data": {
            "text/plain": [
              "[9, 8, 7]"
            ]
          },
          "metadata": {},
          "execution_count": 73
        }
      ]
    },
    {
      "cell_type": "markdown",
      "source": [
        "* Exercícios usando map() e filter()\n",
        "1. Dada uma lista de números, retorne uma lista contendo o quadrado de cada número.\n",
        "2. Dada uma lista de nomes, retorne uma lista contendo o tamanho de cada nome.\n",
        "3. Dada uma lista de números, retorne uma lista contendo apenas os números pares.\n",
        "4. Dada uma lista de nomes, retorne uma lista contendo apenas os nomes que começam com a letra \"A\".\n",
        "5. Recebe uma lista com notas de alunos, retorna apenas os aprovados (nota maior ou igual a 7)\n",
        "6. Recebe uma lista de nomes, retorna apenas os que começam com vogal\n",
        "7. Escreva uma função que recebe uma lista de números e retorna uma nova lista contendo apenas os números que são divisíveis por 3 e 5.\n",
        "8. Escreva uma função que recebe uma lista de strings e retorna uma nova lista contendo apenas as strings que começam com uma letra maiúscula.\n",
        "9. Recebe uma lista de strings, e retorna uma lista apenas com as iniciais de cada string.\n",
        "10. Escreva uma função que recebe uma lista de números e retorna uma nova lista contendo apenas os números pares elevados ao quadrado.\n",
        "\n"
      ],
      "metadata": {
        "id": "pZkMzAT8MIjg"
      }
    },
    {
      "cell_type": "code",
      "source": [
        "#1\n",
        "numeros = [7, 6, 8, 12, 7]\n",
        "\n",
        "new_list = list(map(lambda x : x**2, numeros))\n",
        "new_list"
      ],
      "metadata": {
        "colab": {
          "base_uri": "https://localhost:8080/"
        },
        "id": "8Ff9u89ULu0M",
        "outputId": "e4a1ec0c-29b9-4fe1-b943-cb8f8e372068"
      },
      "execution_count": null,
      "outputs": [
        {
          "output_type": "execute_result",
          "data": {
            "text/plain": [
              "[49, 36, 64, 144, 49]"
            ]
          },
          "metadata": {},
          "execution_count": 16
        }
      ]
    },
    {
      "cell_type": "code",
      "source": [
        "#2 \n",
        "nomes = ['fada', 'ferro', 'miragem', 'atalho', 'nó']\n",
        "\n",
        "new_list = list(map(lambda x : len(x),  nomes))\n",
        "new_list"
      ],
      "metadata": {
        "colab": {
          "base_uri": "https://localhost:8080/"
        },
        "id": "NHB-5vI3MvFs",
        "outputId": "7655c428-6366-434a-be8a-64d119608147"
      },
      "execution_count": null,
      "outputs": [
        {
          "output_type": "execute_result",
          "data": {
            "text/plain": [
              "[4, 5, 7, 6, 2]"
            ]
          },
          "metadata": {},
          "execution_count": 19
        }
      ]
    },
    {
      "cell_type": "code",
      "source": [
        "#3\n",
        "numeros = [7, 3, 1, 4, 8, 23, 12]\n",
        "\n",
        "new_list = list(filter(lambda x: x%2==0, numeros ))\n",
        "\n",
        "new_list"
      ],
      "metadata": {
        "colab": {
          "base_uri": "https://localhost:8080/"
        },
        "id": "Xf6f-1L6NFTd",
        "outputId": "41ba7c3f-964b-46cb-a581-d368fb9a2478"
      },
      "execution_count": null,
      "outputs": [
        {
          "output_type": "execute_result",
          "data": {
            "text/plain": [
              "[4, 8, 12]"
            ]
          },
          "metadata": {},
          "execution_count": 25
        }
      ]
    },
    {
      "cell_type": "code",
      "source": [
        "#4\n",
        "nomes = ['fada', 'arado', 'miragem', 'atalho', 'alho']\n",
        "\n",
        "new_list = list(filter(lambda x : x[0] == 'a', nomes))\n",
        "new_list"
      ],
      "metadata": {
        "colab": {
          "base_uri": "https://localhost:8080/"
        },
        "id": "BiU8HE-GN1QE",
        "outputId": "5bc29162-c3e0-426c-97ba-97cb3d96ca2c"
      },
      "execution_count": null,
      "outputs": [
        {
          "output_type": "execute_result",
          "data": {
            "text/plain": [
              "['arado', 'atalho', 'alho']"
            ]
          },
          "metadata": {},
          "execution_count": 24
        }
      ]
    },
    {
      "cell_type": "code",
      "source": [
        "#5 \n",
        "notas = [5, 6.5, 7.5, 9, 8, 2, 6]\n",
        "\n",
        "new_notas = list(filter(lambda x : x >= 7, notas))\n",
        "\n",
        "new_notas"
      ],
      "metadata": {
        "colab": {
          "base_uri": "https://localhost:8080/"
        },
        "id": "rTcB3j4zeywb",
        "outputId": "d2aa836a-a982-41e2-94ae-aa68e3d7b05a"
      },
      "execution_count": null,
      "outputs": [
        {
          "output_type": "execute_result",
          "data": {
            "text/plain": [
              "[7.5, 9, 8]"
            ]
          },
          "metadata": {},
          "execution_count": 29
        }
      ]
    },
    {
      "cell_type": "code",
      "source": [
        "#6\n",
        "palavras = ['zangão', 'batata', 'ameixa', 'estrago', 'fanta', 'unha', 'ovo']\n",
        "\n",
        "new_List = list(filter(lambda x : x[0].upper() in 'AEIOU', palavras))\n",
        "\n",
        "new_List"
      ],
      "metadata": {
        "colab": {
          "base_uri": "https://localhost:8080/"
        },
        "id": "_yWA9BXngB95",
        "outputId": "af2fa33a-8cbf-4c85-f070-fe608404925e"
      },
      "execution_count": null,
      "outputs": [
        {
          "output_type": "execute_result",
          "data": {
            "text/plain": [
              "['ameixa', 'estrago', 'unha', 'ovo']"
            ]
          },
          "metadata": {},
          "execution_count": 45
        }
      ]
    },
    {
      "cell_type": "code",
      "source": [
        "#7\n",
        "numeros = [2, 3, 15, 30, 23, 60, 2, 45]\n",
        "\n",
        "new_list = list(filter(lambda x : x%3 == 0 and x%5== 0, numeros))\n",
        "new_list"
      ],
      "metadata": {
        "colab": {
          "base_uri": "https://localhost:8080/"
        },
        "id": "S4ao0kSYoypJ",
        "outputId": "0fab55ce-2aa9-4897-bd27-d0c906a84aa1"
      },
      "execution_count": null,
      "outputs": [
        {
          "output_type": "execute_result",
          "data": {
            "text/plain": [
              "[15, 30, 60, 45]"
            ]
          },
          "metadata": {},
          "execution_count": 46
        }
      ]
    },
    {
      "cell_type": "code",
      "source": [
        "#8\n",
        "nomes = ['zangão', 'Zico', 'ameixa', 'Flamengo', 'fanta', 'unha', 'ovo']\n",
        "\n",
        "new_List = list(filter(lambda x : x[0].isupper(), nomes))\n",
        "\n",
        "new_List"
      ],
      "metadata": {
        "colab": {
          "base_uri": "https://localhost:8080/"
        },
        "id": "_SvztrCRkcZI",
        "outputId": "b0894e67-d096-4202-c311-01112a5145e9"
      },
      "execution_count": null,
      "outputs": [
        {
          "output_type": "execute_result",
          "data": {
            "text/plain": [
              "['Zico', 'Flamengo']"
            ]
          },
          "metadata": {},
          "execution_count": 41
        }
      ]
    },
    {
      "cell_type": "code",
      "source": [
        "#9\n",
        "\n",
        "iniciais = list(map(lambda x : x[0], nomes))\n",
        "\n",
        "iniciais"
      ],
      "metadata": {
        "colab": {
          "base_uri": "https://localhost:8080/"
        },
        "id": "RfM2bR4plajF",
        "outputId": "ea417567-6cf5-4749-d730-b95707849b49"
      },
      "execution_count": null,
      "outputs": [
        {
          "output_type": "execute_result",
          "data": {
            "text/plain": [
              "['z', 'Z', 'a', 'F', 'f', 'u', 'o']"
            ]
          },
          "metadata": {},
          "execution_count": 43
        }
      ]
    },
    {
      "cell_type": "code",
      "source": [
        "#Escreva uma função que recebe uma lista de números e retorna uma nova lista contendo apenas os números pares elevados ao quadrado.\n",
        "\n",
        "lista = [2, 3, 4, 1, 23, 6, 3]\n",
        "\n",
        "pares_quadrados = list(map(lambda x : x**2, filter(lambda y : y%2==0, lista)))\n",
        "\n",
        "pares_quadrados"
      ],
      "metadata": {
        "colab": {
          "base_uri": "https://localhost:8080/"
        },
        "id": "PwbfeMy-mO_g",
        "outputId": "a82ce3ed-6975-42b6-fef5-b4825ef61394"
      },
      "execution_count": null,
      "outputs": [
        {
          "output_type": "execute_result",
          "data": {
            "text/plain": [
              "[4, 16, 36]"
            ]
          },
          "metadata": {},
          "execution_count": 44
        }
      ]
    },
    {
      "cell_type": "markdown",
      "source": [
        "- exercícios extra\n",
        "1. Escreva uma função que recebe uma lista de números e retorna uma nova lista contendo apenas os números positivos.\n",
        "2. Escreva uma função que recebe uma lista de números e retorna uma nova lista contendo apenas os números divisíveis por 3.\n",
        "3. Escreva uma função que recebe uma lista de strings e retorna uma nova lista contendo as strings em ordem reversa.\n",
        "4. Escreva uma função que recebe uma lista de números e retorna uma nova lista contendo o cubo de cada número ímpar."
      ],
      "metadata": {
        "id": "APClCOdsn3K-"
      }
    },
    {
      "cell_type": "markdown",
      "source": [
        "#TUPLAS\n",
        "_____________________\n",
        "Uma tupla é uma coleção ordenada e imutável de elementos em Python"
      ],
      "metadata": {
        "id": "k3if3IFfnjj6"
      }
    },
    {
      "cell_type": "code",
      "source": [
        "tp_frutas = ('maçã', 'banana', 'laranja', 'goiaba')\n",
        "tp_frutas"
      ],
      "metadata": {
        "colab": {
          "base_uri": "https://localhost:8080/"
        },
        "id": "TUi2RgYunlPi",
        "outputId": "13c07c50-7618-41c5-87c5-1a1951cfd282"
      },
      "execution_count": 15,
      "outputs": [
        {
          "output_type": "execute_result",
          "data": {
            "text/plain": [
              "('maçã', 'banana', 'laranja', 'goiaba')"
            ]
          },
          "metadata": {},
          "execution_count": 15
        }
      ]
    },
    {
      "cell_type": "code",
      "source": [
        "#Tente inserir algum elemento na tupla\n",
        "#Tente modificar um valor de elemento na tupla"
      ],
      "metadata": {
        "id": "jpRz4U0-HOQ5"
      },
      "execution_count": 10,
      "outputs": []
    },
    {
      "cell_type": "markdown",
      "source": [
        "As tuplas podem conter qualquer tipo de dado, incluindo números, strings, booleanos, listas e até outras tuplas. Veja um exemplo de tupla mista:"
      ],
      "metadata": {
        "id": "qUjefOSfHuZ9"
      }
    },
    {
      "cell_type": "code",
      "source": [
        "tp_mista = ('jaca', 42, True, [1, 2, 3])"
      ],
      "metadata": {
        "id": "3w3WLuRtHjGX"
      },
      "execution_count": 12,
      "outputs": []
    },
    {
      "cell_type": "code",
      "source": [
        "#Tamanho de uma TUPLA\n",
        "len(tp_frutas)"
      ],
      "metadata": {
        "id": "zUDmJn9wIEH2"
      },
      "execution_count": null,
      "outputs": []
    },
    {
      "cell_type": "code",
      "source": [
        "#Acessando elementos de uma TUPLA\n",
        "tp_frutas[0]\n",
        "tp_frutas[2]"
      ],
      "metadata": {
        "colab": {
          "base_uri": "https://localhost:8080/",
          "height": 36
        },
        "id": "t7T87OO3HwDO",
        "outputId": "94d45d5b-1a4b-4896-cc44-f5d9f989ddbd"
      },
      "execution_count": 19,
      "outputs": [
        {
          "output_type": "execute_result",
          "data": {
            "text/plain": [
              "'laranja'"
            ],
            "application/vnd.google.colaboratory.intrinsic+json": {
              "type": "string"
            }
          },
          "metadata": {},
          "execution_count": 19
        }
      ]
    },
    {
      "cell_type": "code",
      "source": [
        "#Criando uma lista a partir de uma tupla ou uma tupla a partir de uma lista.\n",
        "lst_frutas = list(tp_frutas)\n",
        "type(tp_frutas)\n",
        "tp_fruta2 = tuple(lst_frutas)\n",
        "type(tp_fruta2)"
      ],
      "metadata": {
        "colab": {
          "base_uri": "https://localhost:8080/"
        },
        "id": "6nrRcC0DIUYX",
        "outputId": "6f46bef0-e7ff-4422-8fe4-27cdd9bf43b1"
      },
      "execution_count": 24,
      "outputs": [
        {
          "output_type": "execute_result",
          "data": {
            "text/plain": [
              "tuple"
            ]
          },
          "metadata": {},
          "execution_count": 24
        }
      ]
    },
    {
      "cell_type": "code",
      "source": [
        "#Fatiamento (Slicing)\n",
        "tp_meses = ('jan', 'fev', 'mar', 'abr', 'mai', 'jun', 'jul', 'ago', 'set', 'out', 'nov', 'dez')\n",
        "# se quiser apenas os meses de Junho a Nov\n",
        "print(tp_meses[5:11])"
      ],
      "metadata": {
        "id": "ZUG9sB-yI5bU"
      },
      "execution_count": null,
      "outputs": []
    },
    {
      "cell_type": "code",
      "source": [
        "#Usando o processo de fatiamento, crie uma nova tupla apenas com os meses do segundo trimestre (abril - Jun)"
      ],
      "metadata": {
        "id": "jc2hUzfuJlwx"
      },
      "execution_count": null,
      "outputs": []
    },
    {
      "cell_type": "markdown",
      "source": [
        "* Algumas aplicações básicas para TUPLAS"
      ],
      "metadata": {
        "id": "IWSypEcCKhIU"
      }
    },
    {
      "cell_type": "code",
      "source": [
        "#Coordenadas Geográficas\n",
        "coord = (-7.11532, -34.861) #João Pessoa"
      ],
      "metadata": {
        "id": "HwG9v2KuJw15"
      },
      "execution_count": 28,
      "outputs": []
    },
    {
      "cell_type": "code",
      "source": [
        "#Dados imutáveis\n",
        "data_criacao = (2015, 7, 6) #Data de criação de um documento"
      ],
      "metadata": {
        "id": "UhnjZ3KAK0Kk"
      },
      "execution_count": null,
      "outputs": []
    },
    {
      "cell_type": "code",
      "source": [
        "#Ordenação de dados *sort(value, key = x)\n",
        "#Ordenar os estados pelo DDD e não pelo nome\n",
        "uf_cod = [('PE', 81), ('RJ', 21), ('SP', 11), ('PB', 83), ('MT', 65), ('AL', 82)]\n",
        "sorted(uf_cod, key = lambda x : x[1])"
      ],
      "metadata": {
        "colab": {
          "base_uri": "https://localhost:8080/"
        },
        "id": "ciwX-STMO5hk",
        "outputId": "216be13a-9bd9-40fe-f6d4-3142dc1f437d"
      },
      "execution_count": 12,
      "outputs": [
        {
          "output_type": "execute_result",
          "data": {
            "text/plain": [
              "[('SP', 11), ('RJ', 21), ('MT', 65), ('PE', 81), ('AL', 82), ('PB', 83)]"
            ]
          },
          "metadata": {},
          "execution_count": 12
        }
      ]
    },
    {
      "cell_type": "code",
      "source": [
        "#Desempacotamento de valores.\n",
        "def nome_idade_uf():\n",
        "  nome = \"Epaminondas\"\n",
        "  idade = 28\n",
        "  uf = 'RN'\n",
        "  return nome, idade, uf\n",
        "\n",
        "name, age, uf = nome_idade_uf()\n",
        "\n",
        "print(name, age, uf)"
      ],
      "metadata": {
        "colab": {
          "base_uri": "https://localhost:8080/"
        },
        "id": "3cIATcDDLV4P",
        "outputId": "52d31c73-67e1-4f93-861e-85b294bf267a"
      },
      "execution_count": 30,
      "outputs": [
        {
          "output_type": "stream",
          "name": "stdout",
          "text": [
            "Epaminondas 28 RN\n"
          ]
        }
      ]
    },
    {
      "cell_type": "code",
      "source": [
        "#Mapeamento de valores\n",
        "alunos = ('Kelly', 'Adauto', 'Marceline', 'Luana', 'Henrique')\n",
        "notas = (5.5, 8, 9, 7.5, 6.5)\n",
        "\n",
        "mapeamento = tuple(zip(alunos, notas))\n",
        "\n",
        "mapeamento"
      ],
      "metadata": {
        "colab": {
          "base_uri": "https://localhost:8080/"
        },
        "id": "VdbgJNUKLjTJ",
        "outputId": "b30ba0ec-34e9-4d56-d325-3d9e6a2adca8"
      },
      "execution_count": 43,
      "outputs": [
        {
          "output_type": "execute_result",
          "data": {
            "text/plain": [
              "(('Kelly', 5.5),\n",
              " ('Adauto', 8),\n",
              " ('Marceline', 9),\n",
              " ('Luana', 7.5),\n",
              " ('Henrique', 6.5))"
            ]
          },
          "metadata": {},
          "execution_count": 43
        }
      ]
    },
    {
      "cell_type": "markdown",
      "source": [
        "* A função `zip()` é utilizada para combinar elementos de duas ou mais sequências em pares ordenados. Ela retorna um iterador que pode ser convertido em uma lista, tupla ou outro tipo de coleção.\n",
        "*  a função `tuple()` é utilizada para criar uma tupla"
      ],
      "metadata": {
        "id": "A0BmaHacRTig"
      }
    },
    {
      "cell_type": "markdown",
      "source": [
        "* Exercício Tuplas\n",
        "1. Escreva uma função que receba duas tuplas como entrada e retorne uma única tupla que seja a concatenação das duas\n",
        "2. Escreva uma função que receba uma tupla contendo o nome e endereço contendo, logradouro,  número e bairro de uma pessoa e retorne uma string formatada.\n",
        "3. Escreva uma função que receba uma lista de tuplas contendo nome e idade de pessoas e retorne a lista ordenada por idade."
      ],
      "metadata": {
        "id": "A73SJ5eeM4QN"
      }
    },
    {
      "cell_type": "code",
      "source": [
        "def formatada(tupla):\n",
        "  nome, logradouro, num, bairro = tupla\n",
        "  return f'Nome:{nome}, residente a {logradouro}, {num}, {bairro}.'\n",
        "\n",
        "dadosCliente = ('Manoelina', 'Rua das Couves', '42', 'Torre')\n",
        "\n",
        "print (formatada(dadosCliente))"
      ],
      "metadata": {
        "colab": {
          "base_uri": "https://localhost:8080/"
        },
        "id": "hB10RL0GM1Pz",
        "outputId": "4364cb47-053d-4e25-80ee-fb6577a344bf"
      },
      "execution_count": 33,
      "outputs": [
        {
          "output_type": "stream",
          "name": "stdout",
          "text": [
            "Nome:Manoelina, residente a Rua das Couves, 42, Torre.\n"
          ]
        }
      ]
    },
    {
      "cell_type": "markdown",
      "source": [
        "#Dicionários  { } \n",
        "_____\n",
        "Armazenamento baseado em \"chave-valor\""
      ],
      "metadata": {
        "id": "MsQZZ1BFTDyu"
      }
    },
    {
      "cell_type": "code",
      "source": [
        "#Criando dicionários\n",
        "#Os dicionários são definidos utilizando chaves {} \n",
        "#e os pares chave-valor são separados por dois pontos (:)\n",
        "\n",
        "#Contatos\n",
        "contato = {\n",
        "    'Ostervaldo' : 'oster@email.com',\n",
        "    'Maristênio' : 'marist@email.com',\n",
        "    'Leroiane' : 'lero@email.com' \n",
        "}\n",
        "\n",
        "contato"
      ],
      "metadata": {
        "colab": {
          "base_uri": "https://localhost:8080/"
        },
        "id": "fZcixmJeTI7j",
        "outputId": "8b12dfdd-92a1-40dc-96a8-0b3022b58907"
      },
      "execution_count": 1,
      "outputs": [
        {
          "output_type": "execute_result",
          "data": {
            "text/plain": [
              "{'Ostervaldo': 'oster@email.com',\n",
              " 'Maristênio': 'marist@email.com',\n",
              " 'Leroiane': 'lero@email.com'}"
            ]
          },
          "metadata": {},
          "execution_count": 1
        }
      ]
    },
    {
      "cell_type": "code",
      "source": [
        "#Acessando valores\n",
        "contato['Maristênio']"
      ],
      "metadata": {
        "colab": {
          "base_uri": "https://localhost:8080/",
          "height": 36
        },
        "id": "KcncP6cjT33d",
        "outputId": "ba362f7b-6c20-42e5-fad7-dcee9d49087e"
      },
      "execution_count": 2,
      "outputs": [
        {
          "output_type": "execute_result",
          "data": {
            "text/plain": [
              "'marist@email.com'"
            ],
            "application/vnd.google.colaboratory.intrinsic+json": {
              "type": "string"
            }
          },
          "metadata": {},
          "execution_count": 2
        }
      ]
    },
    {
      "cell_type": "code",
      "source": [
        "#Para evitar erros ao buscar por possíveis valores inexistentes, utilizar o get()\n",
        "contato.get('Atanásio', 'Valor não encontrado')"
      ],
      "metadata": {
        "colab": {
          "base_uri": "https://localhost:8080/",
          "height": 36
        },
        "id": "X5tlct3JUGQK",
        "outputId": "2b123653-8d56-48b7-dab7-1c692f7f08de"
      },
      "execution_count": 3,
      "outputs": [
        {
          "output_type": "execute_result",
          "data": {
            "text/plain": [
              "'Valor não encontrado'"
            ],
            "application/vnd.google.colaboratory.intrinsic+json": {
              "type": "string"
            }
          },
          "metadata": {},
          "execution_count": 3
        }
      ]
    },
    {
      "cell_type": "markdown",
      "source": [
        "Adicionando, Modificando e Removendo Pares Chave-Valor"
      ],
      "metadata": {
        "id": "QcXrlenIUrLQ"
      }
    },
    {
      "cell_type": "code",
      "source": [
        "#Adicionar\n",
        "contato['Evilásio'] = 'evi@exemplo.com'\n",
        "\n",
        "contato"
      ],
      "metadata": {
        "colab": {
          "base_uri": "https://localhost:8080/"
        },
        "id": "0szJ4UA4Ufl6",
        "outputId": "a99c04dc-5564-4a91-ce7d-0786cdfdb606"
      },
      "execution_count": 4,
      "outputs": [
        {
          "output_type": "execute_result",
          "data": {
            "text/plain": [
              "{'Ostervaldo': 'oster@email.com',\n",
              " 'Maristênio': 'marist@email.com',\n",
              " 'Leroiane': 'lero@email.com',\n",
              " 'Evilásio': 'evi@exemplo.com'}"
            ]
          },
          "metadata": {},
          "execution_count": 4
        }
      ]
    },
    {
      "cell_type": "code",
      "source": [
        "#Adição por concatenação\n",
        "a = {'zé': 'ze@mailzemplo.com', 'gardenia':'gardenia@exemplo.com'}\n",
        "\n",
        "contato.update(a)\n",
        "\n",
        "contato"
      ],
      "metadata": {
        "colab": {
          "base_uri": "https://localhost:8080/"
        },
        "id": "VPD-rrLl5Zvh",
        "outputId": "14ea9cd4-3a30-4667-982b-3d30c6c36a36"
      },
      "execution_count": 5,
      "outputs": [
        {
          "output_type": "execute_result",
          "data": {
            "text/plain": [
              "{'Ostervaldo': 'oster@email.com',\n",
              " 'Maristênio': 'marist@email.com',\n",
              " 'Leroiane': 'lero@email.com',\n",
              " 'Evilásio': 'evi@exemplo.com',\n",
              " 'zé': 'ze@mailzemplo.com',\n",
              " 'gardenia': 'gardenia@exemplo.com'}"
            ]
          },
          "metadata": {},
          "execution_count": 5
        }
      ]
    },
    {
      "cell_type": "code",
      "source": [
        "#Modificar (só inserir um novo valor à chave correspondente)\n",
        "contato['Maristênio'] = 'mari2023@exemplo.com'\n",
        "\n",
        "contato"
      ],
      "metadata": {
        "id": "k_IN3g7aU9HJ"
      },
      "execution_count": null,
      "outputs": []
    },
    {
      "cell_type": "code",
      "source": [
        "#Remoção del\n",
        "\n",
        "del contato['Evilásio']\n",
        "\n",
        "contato"
      ],
      "metadata": {
        "id": "RF32ALw3VPZT"
      },
      "execution_count": null,
      "outputs": []
    },
    {
      "cell_type": "code",
      "source": [
        "#Iterando sobre dicionários\n",
        "for nome, email in contato.items():\n",
        "  print(f'o Email {email} pertence a {nome}')"
      ],
      "metadata": {
        "id": "wGL9-VQDVeem"
      },
      "execution_count": null,
      "outputs": []
    },
    {
      "cell_type": "markdown",
      "source": [
        "`items()` é um método utilizado em dicionários em Python. Ela retorna uma lista de tuplas, em que cada tupla contém um par chave-valor do dicionário."
      ],
      "metadata": {
        "id": "hIQ6upu141pk"
      }
    },
    {
      "cell_type": "code",
      "source": [
        "#métodos úteis keys(), values()\n",
        "contato.values()"
      ],
      "metadata": {
        "id": "saWUN3g6V4VE"
      },
      "execution_count": null,
      "outputs": []
    },
    {
      "cell_type": "code",
      "source": [
        "#Valores máximos, mínimos e ordenações\n",
        "curso = {'Alice': 8.5, 'Tiago': 7.0, 'Chico': 6.5, 'Nubia': 10}\n",
        "#Quem obteve a maior nota?\n",
        "max(curso, key=curso.get)\n",
        "#quem teve o pior desempenho?\n",
        "min(curso, key=curso.get)\n",
        "#Ordene da menor nota para a maior\n",
        "sorted(curso, key=curso.get)\n",
        "#ordenar da maior nota para a menor\n",
        "sorted(curso, key=curso.get, reverse=True)"
      ],
      "metadata": {
        "colab": {
          "base_uri": "https://localhost:8080/"
        },
        "id": "4tfFTXqX_bTd",
        "outputId": "6e4a2512-7e0b-4c30-939f-54781945b79d"
      },
      "execution_count": 23,
      "outputs": [
        {
          "output_type": "execute_result",
          "data": {
            "text/plain": [
              "['Nubia', 'Alice', 'Tiago', 'Chico']"
            ]
          },
          "metadata": {},
          "execution_count": 23
        }
      ]
    },
    {
      "cell_type": "markdown",
      "source": [
        "-- Exercícios\n",
        "\n",
        "\n",
        "1. O dicionário a seguir contém uma relação de atletas e seus respectivos tempos em uma corrida de 100 metros. `corrida100m = {'Zé': 10, 'marco': 9.9, 'Marta': 9.98, 'Lourdes': 10.2}`\n",
        "  - Crie um código em python que retorna:\n",
        "    * Quem chegou primeiro\n",
        "    * Quem chegou por último\n",
        "    * Ordene os atletas do primeiro ao último lugar.\n",
        "2. Escreva uma função que receba dois dicionários como entrada e retorne um novo dicionário contendo a união dos dois dicionários.\n",
        "1. Faça um dicionário contendo, incialmente, 5 produtos de beleza, deve ter nome do produto, marca, preço e breve descrição\n",
        "  * por exemplo: `{ 'nome': 'batom', 'marca': 'avon', 'preco': 10.99, 'descricao' : 'Batom vermelho impermeável' } `\n"
      ],
      "metadata": {
        "id": "CemAW7Ji6riv"
      }
    },
    {
      "cell_type": "code",
      "source": [
        "curso = {'Alice': 8.5, 'Tiago': 7.0, 'Chico': 6.5, 'Nubia': 10}\n",
        "\n",
        "max(curso, key=curso.get)"
      ],
      "metadata": {
        "colab": {
          "base_uri": "https://localhost:8080/",
          "height": 36
        },
        "id": "DG9Ws9918E2g",
        "outputId": "99cfc41c-a22a-4781-d3ee-77001d536cdc"
      },
      "execution_count": 14,
      "outputs": [
        {
          "output_type": "execute_result",
          "data": {
            "text/plain": [
              "'Nubia'"
            ],
            "application/vnd.google.colaboratory.intrinsic+json": {
              "type": "string"
            }
          },
          "metadata": {},
          "execution_count": 14
        }
      ]
    }
  ]
}