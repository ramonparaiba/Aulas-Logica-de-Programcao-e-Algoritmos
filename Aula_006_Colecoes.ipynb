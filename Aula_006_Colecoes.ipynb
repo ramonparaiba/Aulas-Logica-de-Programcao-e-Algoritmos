{
  "nbformat": 4,
  "nbformat_minor": 0,
  "metadata": {
    "colab": {
      "provenance": [],
      "collapsed_sections": [
        "J-aqBvHP8-ug",
        "k3if3IFfnjj6"
      ],
      "authorship_tag": "ABX9TyNe0/9OtSjipoPHh+gMtZU5",
      "include_colab_link": true
    },
    "kernelspec": {
      "name": "python3",
      "display_name": "Python 3"
    },
    "language_info": {
      "name": "python"
    }
  },
  "cells": [
    {
      "cell_type": "markdown",
      "metadata": {
        "id": "view-in-github",
        "colab_type": "text"
      },
      "source": [
        "<a href=\"https://colab.research.google.com/github/ramonparaiba/Aulas-Logica-de-Programcao-e-Algoritmos/blob/main/Aula_006_Colecoes.ipynb\" target=\"_parent\"><img src=\"https://colab.research.google.com/assets/colab-badge.svg\" alt=\"Open In Colab\"/></a>"
      ]
    },
    {
      "cell_type": "markdown",
      "source": [
        "COLEÇÕES EM PYTHON\n",
        "\n",
        "Em Python, as coleções são estruturas de dados que permitem armazenar e manipular um grupo de elementos relacionados. As coleções são amplamente utilizadas em programação porque permitem que você trabalhe com dados de forma mais eficiente e organizada.\n",
        "\n",
        "* Listas: são coleções ordenadas de elementos mutáveis.\n",
        "  * Exemplo: uma lista de compras de supermercado que você precisa alterar durante a sua visita, incluindo itens duplicados, como ovos, leite, pão etc.\n",
        "* Tuplas: são coleções ordenadas de elementos imutáveis.\n",
        "  * Exemplo: coordenadas geográficas de uma cidade, onde as informações de latitude e longitude não mudam.\n",
        "* Dicionários: são coleções não ordenadas de pares chave-valor mutáveis.\n",
        "  * Exemplo: um dicionário de palavras em um dicionário, onde as chaves são as palavras e os valores são as definições.\n",
        "* Conjuntos: são coleções não ordenadas de elementos mutáveis e não podem conter elementos duplicados.\n",
        "  * Exemplo: uma lista de emails de clientes para campanhas de marketing, onde você precisa garantir que cada endereço de email seja exclusivo.\n",
        "\n",
        "/ Também é comum o uso do termo \"iterável\" para se referir às coleções"
      ],
      "metadata": {
        "id": "66KdJnqE7PZH"
      }
    },
    {
      "cell_type": "markdown",
      "source": [
        "#Listas [  ]\n",
        "________________________\n",
        "Ordenadas e Mutáveis"
      ],
      "metadata": {
        "id": "J-aqBvHP8-ug"
      }
    },
    {
      "cell_type": "code",
      "execution_count": null,
      "metadata": {
        "id": "CXHTdKXE7Aoq"
      },
      "outputs": [],
      "source": [
        "#Criando Listas\n",
        "lista_vazia = []\n",
        "\n",
        "#Lista com elementos\n",
        "lista_Com_coisas = [2, 4, 3, 'quatro', 'cinco']"
      ]
    },
    {
      "cell_type": "code",
      "source": [
        "#Acessando Elementos da lista\n",
        "lista = [1, 2, 3, \"quatro\", \"cinco\"]\n",
        "\n",
        "print(lista[0])  # 1\n",
        "print(lista[3])  # \"quatro\"\n",
        "print(lista[-1]) # \"cinco\""
      ],
      "metadata": {
        "colab": {
          "base_uri": "https://localhost:8080/"
        },
        "id": "OtPByMRm_ex6",
        "outputId": "33fcc2ad-669c-4990-c9a0-e6b4cdb6bba3"
      },
      "execution_count": null,
      "outputs": [
        {
          "output_type": "stream",
          "name": "stdout",
          "text": [
            "1\n",
            "quatro\n",
            "cinco\n"
          ]
        }
      ]
    },
    {
      "cell_type": "markdown",
      "source": [
        "* Operações com Lista"
      ],
      "metadata": {
        "id": "9nCtAjAN_m5g"
      }
    },
    {
      "cell_type": "markdown",
      "source": [
        "@ Adicionar elementos\n",
        "  * Para adicionar elementos use um dos métodos `append()` ou `extend()` \n",
        "  *`append()` - para adicionar um elemento ao final da lista\n",
        "  *`extend()` - para adicionar vários elementos ao final da lista"
      ],
      "metadata": {
        "id": "AAwjsCk6BxLw"
      }
    },
    {
      "cell_type": "code",
      "source": [
        "nomes = ['ze', 'tião', 'joaquim']\n",
        "nomes.append('julia')\n",
        "\n",
        "#vários valores\n",
        "outrosNomes = ['Ana', 'Zabé', 'Maria']\n",
        "nomes.extend(outrosNomes)\n",
        "\n",
        "nomes\n"
      ],
      "metadata": {
        "colab": {
          "base_uri": "https://localhost:8080/"
        },
        "id": "8PFD46q_7VVP",
        "outputId": "5f3e5509-d394-406a-efe9-8797464ae01f"
      },
      "execution_count": null,
      "outputs": [
        {
          "output_type": "execute_result",
          "data": {
            "text/plain": [
              "['ze', 'tião', 'joaquim', 'julia', 'Ana', 'Zabé', 'Maria']"
            ]
          },
          "metadata": {},
          "execution_count": 3
        }
      ]
    },
    {
      "cell_type": "markdown",
      "source": [
        "@ Remoção de elementos\n",
        "\n",
        "* Para remover  `remove()` ou `pop()`\n",
        " * `remove()` - Remove o primeiro elemento\n",
        " * `pop()` - Remove o último elemento"
      ],
      "metadata": {
        "id": "UrQI1KbFB9uQ"
      }
    },
    {
      "cell_type": "code",
      "source": [
        "#Crie uma lista de números e \n",
        "numeros = [ 2, 4, 1, 6, 9, 12]\n",
        "#remova o primeiro elemento da lista\n",
        "numeros.remove(numeros[0])\n",
        "#remova o último elemento da lista\n",
        "numeros.pop()\n",
        "\n",
        "numeros"
      ],
      "metadata": {
        "colab": {
          "base_uri": "https://localhost:8080/"
        },
        "id": "TlvhNlc8Cpat",
        "outputId": "d2221373-2433-4725-f5b6-49237c20edae"
      },
      "execution_count": null,
      "outputs": [
        {
          "output_type": "execute_result",
          "data": {
            "text/plain": [
              "[4, 1, 6, 9]"
            ]
          },
          "metadata": {},
          "execution_count": 55
        }
      ]
    },
    {
      "cell_type": "markdown",
      "source": [
        "* Ordenação de Elementos\n",
        "\n",
        "  * lista . `sort()` - ordena em ordem crescente\n",
        "  * lista . `sort(reverse=True)` - ordena em ordem decrescente"
      ],
      "metadata": {
        "id": "NTRRofj6DW4g"
      }
    },
    {
      "cell_type": "code",
      "source": [
        "#1 - Crie uma lista de notas, e exiba-a da menor para a maior\n",
        "notas = [2,10, 9, 4, 7, 3, 8]\n",
        "nomes = ['Ademar', 'Maristênio', 'Asdrúbal', 'Leo']\n",
        "#notas.sort()\n",
        "nomes.sort(reverse=True)\n",
        "#2 - Crie uma lista de nomes de frutas e ordene-a em ordem decrescente\n",
        "\n",
        "nomes"
      ],
      "metadata": {
        "colab": {
          "base_uri": "https://localhost:8080/"
        },
        "id": "sM9dwIxrCtPh",
        "outputId": "daa47646-2018-48b9-a672-2a44072d248a"
      },
      "execution_count": null,
      "outputs": [
        {
          "output_type": "execute_result",
          "data": {
            "text/plain": [
              "['Maristênio', 'Leo', 'Asdrúbal', 'Ademar']"
            ]
          },
          "metadata": {},
          "execution_count": 7
        }
      ]
    },
    {
      "cell_type": "markdown",
      "source": [
        "* Função `map()` serve para aplicar uma função a cada elemento de uma lista, dispensando o uso de um loop (for ou while)\n",
        "  * `map(funcao, iterável)`\n",
        "\n",
        "* Função `filter()` serve para filtrar elementos de uma *sequência*"
      ],
      "metadata": {
        "id": "RII8Bx16FYOm"
      }
    },
    {
      "cell_type": "code",
      "source": [
        "#Pegar os preços de uma lista\n",
        "#adicionar 2 a cada um deles\n",
        "newPrecos = list(map(lambda x : x+2, precos))\n",
        "newPrecos"
      ],
      "metadata": {
        "id": "1_jotytbtaKx"
      },
      "execution_count": null,
      "outputs": []
    },
    {
      "cell_type": "code",
      "source": [
        "notas = [6, 7, 3.5, 9, 6.5]\n",
        "#quero apenas os aprovados.... \n",
        "aprovados = list(filter(lambda x : x<=7, map(lambda x : x+1, notas )))\n",
        "aprovados"
      ],
      "metadata": {
        "colab": {
          "base_uri": "https://localhost:8080/"
        },
        "id": "E7t3SOIDvX9U",
        "outputId": "9783a7bf-50ec-48cc-9c8a-e2df2603b814"
      },
      "execution_count": null,
      "outputs": [
        {
          "output_type": "execute_result",
          "data": {
            "text/plain": [
              "[7, 4.5]"
            ]
          },
          "metadata": {},
          "execution_count": 21
        }
      ]
    },
    {
      "cell_type": "code",
      "source": [
        "#MAP map(função, iteravel)\n",
        "precos = [9.99, 2.50, 3.45, 7.00, 10.99]"
      ],
      "metadata": {
        "id": "z4u1oEthnBWO"
      },
      "execution_count": null,
      "outputs": []
    },
    {
      "cell_type": "code",
      "source": [
        "#Pegar os números de uma lista\n",
        "#Criar outra lista com o dobro\n",
        "nums = [6, 5, 2, 1, 7]\n",
        "def dobro(lista):\n",
        "  dobrolista = []\n",
        "  for n in lista:\n",
        "    dobrolista.append(n*2)\n",
        "  return dobrolista\n",
        "\n",
        "dobro(nums)"
      ],
      "metadata": {
        "colab": {
          "base_uri": "https://localhost:8080/"
        },
        "id": "lxUeQa6VlXn0",
        "outputId": "aef4aa4e-aef3-4a71-a3fe-88bb249ccd9b"
      },
      "execution_count": null,
      "outputs": [
        {
          "output_type": "execute_result",
          "data": {
            "text/plain": [
              "[12, 10, 4, 2, 14]"
            ]
          },
          "metadata": {},
          "execution_count": 9
        }
      ]
    },
    {
      "cell_type": "code",
      "source": [
        "#Exemplo função map - cria uma nova lista com o dobro \n",
        "numeros = [2, 4, 6, 3]\n",
        "nova_lista = list(map(lambda x : x*2, numeros))\n",
        "nova_lista"
      ],
      "metadata": {
        "colab": {
          "base_uri": "https://localhost:8080/"
        },
        "id": "PvvNT1ANK7iU",
        "outputId": "ac7e41cc-37a9-4831-c2bf-2e7a8de92b03"
      },
      "execution_count": null,
      "outputs": [
        {
          "output_type": "execute_result",
          "data": {
            "text/plain": [
              "[4, 8, 12, 6]"
            ]
          },
          "metadata": {},
          "execution_count": 63
        }
      ]
    },
    {
      "cell_type": "code",
      "source": [
        "# pegar cada um dos números e dividir por 3\n",
        "numDivi = list(map(lambda x : x/3, numeros ))\n",
        "\n",
        "numDivi  "
      ],
      "metadata": {
        "colab": {
          "base_uri": "https://localhost:8080/"
        },
        "id": "hPTr9aI0DFt_",
        "outputId": "bdf0a3f2-a481-44bf-f0fd-6259b89fbb95"
      },
      "execution_count": null,
      "outputs": [
        {
          "output_type": "execute_result",
          "data": {
            "text/plain": [
              "[0.6666666666666666, 1.3333333333333333, 2.0, 1.0]"
            ]
          },
          "metadata": {},
          "execution_count": 66
        }
      ]
    },
    {
      "cell_type": "code",
      "source": [
        "#Pega cada número e soma 2.\n",
        "soma2  = list(map(lambda x : x+2, numeros))\n",
        "soma2"
      ],
      "metadata": {
        "id": "3qJOvCFiD9xc"
      },
      "execution_count": null,
      "outputs": []
    },
    {
      "cell_type": "code",
      "source": [
        "#Sem usar função map associada à uma função lambda\n",
        "new_list = []\n",
        "for n in numeros:\n",
        "  new_list.append(n*2)\n",
        "\n",
        "new_list"
      ],
      "metadata": {
        "id": "yWnSmvXzLWTh"
      },
      "execution_count": null,
      "outputs": []
    },
    {
      "cell_type": "code",
      "source": [
        "len('abacate')>5"
      ],
      "metadata": {
        "colab": {
          "base_uri": "https://localhost:8080/"
        },
        "id": "fu1203zdFdlP",
        "outputId": "11d196c0-9b4d-480e-fbdb-8a98d0020dee"
      },
      "execution_count": null,
      "outputs": [
        {
          "output_type": "execute_result",
          "data": {
            "text/plain": [
              "True"
            ]
          },
          "metadata": {},
          "execution_count": 72
        }
      ]
    },
    {
      "cell_type": "code",
      "source": [
        "#Exemplo função filter - a partir de uma lista de nomes, criar uma nova lista apenas com palavras com mais de 5 caracteres\n",
        "\n",
        "nomes = ['josé', 'joão', 'Sebastião', 'Angélica', 'Leonardo', 'Luana', 'Bárbara']\n",
        "\n",
        "new_list = list(filter(lambda x : len(x)>5, nomes))\n",
        "new_list"
      ],
      "metadata": {
        "colab": {
          "base_uri": "https://localhost:8080/"
        },
        "id": "Hax_3ltMfUZ3",
        "outputId": "4566da00-2809-4d9c-ed46-0e8e1d1d5b99"
      },
      "execution_count": null,
      "outputs": [
        {
          "output_type": "execute_result",
          "data": {
            "text/plain": [
              "['Sebastião', 'Angélica', 'Leonardo', 'Bárbara']"
            ]
          },
          "metadata": {},
          "execution_count": 70
        }
      ]
    },
    {
      "cell_type": "code",
      "source": [
        "# crie uma lista de notas, imprime as maiores que 6\n",
        "notas = [3, 4, 9, 8, 6, 7]\n",
        "newNotas = list(filter(lambda x : x >= 6, notas ))\n",
        "\n",
        "newNotas\n"
      ],
      "metadata": {
        "colab": {
          "base_uri": "https://localhost:8080/"
        },
        "id": "_JwLvTkcF6Yp",
        "outputId": "74c1b906-01f3-4a66-baf5-125af50c7d26"
      },
      "execution_count": null,
      "outputs": [
        {
          "output_type": "execute_result",
          "data": {
            "text/plain": [
              "[9, 8, 7]"
            ]
          },
          "metadata": {},
          "execution_count": 73
        }
      ]
    },
    {
      "cell_type": "markdown",
      "source": [
        "* Exercícios usando map() e filter()\n",
        "1. Dada uma lista de números, retorne uma lista contendo o quadrado de cada número.\n",
        "2. Dada uma lista de nomes, retorne uma lista contendo o tamanho de cada nome.\n",
        "3. Dada uma lista de números, retorne uma lista contendo apenas os números pares.\n",
        "4. Dada uma lista de nomes, retorne uma lista contendo apenas os nomes que começam com a letra \"A\".\n",
        "5. Recebe uma lista com notas de alunos, retorna apenas os aprovados (nota maior ou igual a 7)\n",
        "6. Recebe uma lista de nomes, retorna apenas os que começam com vogal\n",
        "7. Escreva uma função que recebe uma lista de números e retorna uma nova lista contendo apenas os números que são divisíveis por 3 e 5.\n",
        "8. Escreva uma função que recebe uma lista de strings e retorna uma nova lista contendo apenas as strings que começam com uma letra maiúscula.\n",
        "9. Recebe uma lista de strings, e retorna uma lista apenas com as iniciais de cada string.\n",
        "10. Escreva uma função que recebe uma lista de números e retorna uma nova lista contendo apenas os números pares elevados ao quadrado.\n",
        "\n"
      ],
      "metadata": {
        "id": "pZkMzAT8MIjg"
      }
    },
    {
      "cell_type": "code",
      "source": [
        "#1\n",
        "numeros = [7, 6, 8, 12, 7]\n",
        "\n",
        "new_list = list(map(lambda x : x**2, numeros))\n",
        "new_list"
      ],
      "metadata": {
        "colab": {
          "base_uri": "https://localhost:8080/"
        },
        "id": "8Ff9u89ULu0M",
        "outputId": "e4a1ec0c-29b9-4fe1-b943-cb8f8e372068"
      },
      "execution_count": null,
      "outputs": [
        {
          "output_type": "execute_result",
          "data": {
            "text/plain": [
              "[49, 36, 64, 144, 49]"
            ]
          },
          "metadata": {},
          "execution_count": 16
        }
      ]
    },
    {
      "cell_type": "code",
      "source": [
        "#2 \n",
        "nomes = ['fada', 'ferro', 'miragem', 'atalho', 'nó']\n",
        "\n",
        "new_list = list(map(lambda x : len(x),  nomes))\n",
        "new_list"
      ],
      "metadata": {
        "colab": {
          "base_uri": "https://localhost:8080/"
        },
        "id": "NHB-5vI3MvFs",
        "outputId": "7655c428-6366-434a-be8a-64d119608147"
      },
      "execution_count": null,
      "outputs": [
        {
          "output_type": "execute_result",
          "data": {
            "text/plain": [
              "[4, 5, 7, 6, 2]"
            ]
          },
          "metadata": {},
          "execution_count": 19
        }
      ]
    },
    {
      "cell_type": "code",
      "source": [
        "#3\n",
        "numeros = [7, 3, 1, 4, 8, 23, 12]\n",
        "\n",
        "new_list = list(filter(lambda x: x%2==0, numeros ))\n",
        "\n",
        "new_list"
      ],
      "metadata": {
        "colab": {
          "base_uri": "https://localhost:8080/"
        },
        "id": "Xf6f-1L6NFTd",
        "outputId": "41ba7c3f-964b-46cb-a581-d368fb9a2478"
      },
      "execution_count": null,
      "outputs": [
        {
          "output_type": "execute_result",
          "data": {
            "text/plain": [
              "[4, 8, 12]"
            ]
          },
          "metadata": {},
          "execution_count": 25
        }
      ]
    },
    {
      "cell_type": "code",
      "source": [
        "#4\n",
        "nomes = ['fada', 'arado', 'miragem', 'atalho', 'alho']\n",
        "\n",
        "new_list = list(filter(lambda x : x[0] == 'a', nomes))\n",
        "new_list"
      ],
      "metadata": {
        "colab": {
          "base_uri": "https://localhost:8080/"
        },
        "id": "BiU8HE-GN1QE",
        "outputId": "5bc29162-c3e0-426c-97ba-97cb3d96ca2c"
      },
      "execution_count": null,
      "outputs": [
        {
          "output_type": "execute_result",
          "data": {
            "text/plain": [
              "['arado', 'atalho', 'alho']"
            ]
          },
          "metadata": {},
          "execution_count": 24
        }
      ]
    },
    {
      "cell_type": "code",
      "source": [
        "#5 \n",
        "notas = [5, 6.5, 7.5, 9, 8, 2, 6]\n",
        "\n",
        "new_notas = list(filter(lambda x : x >= 7, notas))\n",
        "\n",
        "new_notas"
      ],
      "metadata": {
        "colab": {
          "base_uri": "https://localhost:8080/"
        },
        "id": "rTcB3j4zeywb",
        "outputId": "d2aa836a-a982-41e2-94ae-aa68e3d7b05a"
      },
      "execution_count": null,
      "outputs": [
        {
          "output_type": "execute_result",
          "data": {
            "text/plain": [
              "[7.5, 9, 8]"
            ]
          },
          "metadata": {},
          "execution_count": 29
        }
      ]
    },
    {
      "cell_type": "code",
      "source": [
        "#6\n",
        "palavras = ['zangão', 'batata', 'ameixa', 'estrago', 'fanta', 'unha', 'ovo']\n",
        "\n",
        "new_List = list(filter(lambda x : x[0].upper() in 'AEIOU', palavras))\n",
        "\n",
        "new_List"
      ],
      "metadata": {
        "colab": {
          "base_uri": "https://localhost:8080/"
        },
        "id": "_yWA9BXngB95",
        "outputId": "af2fa33a-8cbf-4c85-f070-fe608404925e"
      },
      "execution_count": null,
      "outputs": [
        {
          "output_type": "execute_result",
          "data": {
            "text/plain": [
              "['ameixa', 'estrago', 'unha', 'ovo']"
            ]
          },
          "metadata": {},
          "execution_count": 45
        }
      ]
    },
    {
      "cell_type": "code",
      "source": [
        "#7\n",
        "numeros = [2, 3, 15, 30, 23, 60, 2, 45]\n",
        "\n",
        "new_list = list(filter(lambda x : x%3 == 0 and x%5== 0, numeros))\n",
        "new_list"
      ],
      "metadata": {
        "colab": {
          "base_uri": "https://localhost:8080/"
        },
        "id": "S4ao0kSYoypJ",
        "outputId": "0fab55ce-2aa9-4897-bd27-d0c906a84aa1"
      },
      "execution_count": null,
      "outputs": [
        {
          "output_type": "execute_result",
          "data": {
            "text/plain": [
              "[15, 30, 60, 45]"
            ]
          },
          "metadata": {},
          "execution_count": 46
        }
      ]
    },
    {
      "cell_type": "code",
      "source": [
        "#8\n",
        "nomes = ['zangão', 'Zico', 'ameixa', 'Flamengo', 'fanta', 'unha', 'ovo']\n",
        "\n",
        "new_List = list(filter(lambda x : x[0].isupper(), nomes))\n",
        "\n",
        "new_List"
      ],
      "metadata": {
        "colab": {
          "base_uri": "https://localhost:8080/"
        },
        "id": "_SvztrCRkcZI",
        "outputId": "b0894e67-d096-4202-c311-01112a5145e9"
      },
      "execution_count": null,
      "outputs": [
        {
          "output_type": "execute_result",
          "data": {
            "text/plain": [
              "['Zico', 'Flamengo']"
            ]
          },
          "metadata": {},
          "execution_count": 41
        }
      ]
    },
    {
      "cell_type": "code",
      "source": [
        "#9\n",
        "\n",
        "iniciais = list(map(lambda x : x[0], nomes))\n",
        "\n",
        "iniciais"
      ],
      "metadata": {
        "colab": {
          "base_uri": "https://localhost:8080/"
        },
        "id": "RfM2bR4plajF",
        "outputId": "ea417567-6cf5-4749-d730-b95707849b49"
      },
      "execution_count": null,
      "outputs": [
        {
          "output_type": "execute_result",
          "data": {
            "text/plain": [
              "['z', 'Z', 'a', 'F', 'f', 'u', 'o']"
            ]
          },
          "metadata": {},
          "execution_count": 43
        }
      ]
    },
    {
      "cell_type": "code",
      "source": [
        "#Escreva uma função que recebe uma lista de números e retorna uma nova lista contendo apenas os números pares elevados ao quadrado.\n",
        "\n",
        "lista = [2, 3, 4, 1, 23, 6, 3]\n",
        "\n",
        "pares_quadrados = list(map(lambda x : x**2, filter(lambda y : y%2==0, lista)))\n",
        "\n",
        "pares_quadrados"
      ],
      "metadata": {
        "colab": {
          "base_uri": "https://localhost:8080/"
        },
        "id": "PwbfeMy-mO_g",
        "outputId": "a82ce3ed-6975-42b6-fef5-b4825ef61394"
      },
      "execution_count": null,
      "outputs": [
        {
          "output_type": "execute_result",
          "data": {
            "text/plain": [
              "[4, 16, 36]"
            ]
          },
          "metadata": {},
          "execution_count": 44
        }
      ]
    },
    {
      "cell_type": "markdown",
      "source": [
        "- exercícios extra\n",
        "1. Escreva uma função que recebe uma lista de números e retorna uma nova lista contendo apenas os números positivos.\n",
        "2. Escreva uma função que recebe uma lista de números e retorna uma nova lista contendo apenas os números divisíveis por 3.\n",
        "3. Escreva uma função que recebe uma lista de strings e retorna uma nova lista contendo as strings em ordem reversa.\n",
        "4. Escreva uma função que recebe uma lista de números e retorna uma nova lista contendo o cubo de cada número ímpar."
      ],
      "metadata": {
        "id": "APClCOdsn3K-"
      }
    },
    {
      "cell_type": "markdown",
      "source": [
        "#TUPLAS ( )\n",
        "_____________________\n",
        "Uma tupla é uma coleção ordenada e imutável de elementos em Python"
      ],
      "metadata": {
        "id": "k3if3IFfnjj6"
      }
    },
    {
      "cell_type": "code",
      "source": [
        "tp_frutas = ('maçã', 'banana', 'laranja', 'goiaba')\n",
        "tp_frutas"
      ],
      "metadata": {
        "id": "TUi2RgYunlPi",
        "colab": {
          "base_uri": "https://localhost:8080/"
        },
        "outputId": "1edfa092-610f-4298-d020-0af7f11b405c"
      },
      "execution_count": null,
      "outputs": [
        {
          "output_type": "execute_result",
          "data": {
            "text/plain": [
              "('maçã', 'banana', 'laranja', 'goiaba')"
            ]
          },
          "metadata": {},
          "execution_count": 1
        }
      ]
    },
    {
      "cell_type": "code",
      "source": [
        "#Tente inserir algum elemento na tupla\n",
        "#Tente modificar um valor de elemento na tupla"
      ],
      "metadata": {
        "id": "jpRz4U0-HOQ5"
      },
      "execution_count": null,
      "outputs": []
    },
    {
      "cell_type": "markdown",
      "source": [
        "As tuplas podem conter qualquer tipo de dado, incluindo números, strings, booleanos, listas e até outras tuplas. Veja um exemplo de tupla mista:"
      ],
      "metadata": {
        "id": "qUjefOSfHuZ9"
      }
    },
    {
      "cell_type": "code",
      "source": [
        "tp_mista = ('jaca', 42, True, [1, 2, 3])"
      ],
      "metadata": {
        "id": "3w3WLuRtHjGX"
      },
      "execution_count": null,
      "outputs": []
    },
    {
      "cell_type": "code",
      "source": [
        "#Tamanho de uma TUPLA\n",
        "len(tp_frutas)"
      ],
      "metadata": {
        "id": "zUDmJn9wIEH2",
        "colab": {
          "base_uri": "https://localhost:8080/"
        },
        "outputId": "871d0498-2001-48d7-d141-80d7e7d0d7ce"
      },
      "execution_count": null,
      "outputs": [
        {
          "output_type": "execute_result",
          "data": {
            "text/plain": [
              "4"
            ]
          },
          "metadata": {},
          "execution_count": 8
        }
      ]
    },
    {
      "cell_type": "code",
      "source": [
        "#Acessando elementos de uma TUPLA\n",
        "tp_frutas[0]\n",
        "tp_frutas[2]"
      ],
      "metadata": {
        "colab": {
          "base_uri": "https://localhost:8080/",
          "height": 35
        },
        "id": "t7T87OO3HwDO",
        "outputId": "94d45d5b-1a4b-4896-cc44-f5d9f989ddbd"
      },
      "execution_count": null,
      "outputs": [
        {
          "output_type": "execute_result",
          "data": {
            "text/plain": [
              "'laranja'"
            ],
            "application/vnd.google.colaboratory.intrinsic+json": {
              "type": "string"
            }
          },
          "metadata": {},
          "execution_count": 19
        }
      ]
    },
    {
      "cell_type": "code",
      "source": [
        "#Criando uma lista a partir de uma tupla ou uma tupla a partir de uma lista.\n",
        "lst_frutas = list(tp_frutas)\n",
        "lst_frutas[2] = 'Mangaba'\n",
        "tp_frutasDois = tuple(lst_frutas)\n",
        "\n",
        "tp_frutasDois\n"
      ],
      "metadata": {
        "colab": {
          "base_uri": "https://localhost:8080/"
        },
        "id": "6nrRcC0DIUYX",
        "outputId": "4493e63b-642c-40b2-b7af-408cf54651d1"
      },
      "execution_count": null,
      "outputs": [
        {
          "output_type": "execute_result",
          "data": {
            "text/plain": [
              "('maçã', 'banana', 'Mangaba', 'goiaba')"
            ]
          },
          "metadata": {},
          "execution_count": 15
        }
      ]
    },
    {
      "cell_type": "code",
      "source": [
        "#Fatiamento (Slicing)\n",
        "tp_meses = ('jan', 'fev', 'mar', 'abr', 'mai', 'jun', 'jul', 'ago', 'set', 'out', 'nov', 'dez')\n",
        "# se quiser apenas os meses de Junho a Nov\n",
        "tp_meses[5:11]"
      ],
      "metadata": {
        "id": "ZUG9sB-yI5bU",
        "colab": {
          "base_uri": "https://localhost:8080/"
        },
        "outputId": "2e6494bc-342e-4213-d986-02c76f0c7a0c"
      },
      "execution_count": null,
      "outputs": [
        {
          "output_type": "execute_result",
          "data": {
            "text/plain": [
              "('jun', 'jul', 'ago', 'set', 'out', 'nov')"
            ]
          },
          "metadata": {},
          "execution_count": 16
        }
      ]
    },
    {
      "cell_type": "code",
      "source": [
        "#Usando o processo de fatiamento, crie uma nova tupla apenas\n",
        "#com os meses do segundo trimestre (abril - Jun)\n",
        "tp_meses[3:6]"
      ],
      "metadata": {
        "colab": {
          "base_uri": "https://localhost:8080/"
        },
        "id": "jc2hUzfuJlwx",
        "outputId": "e21f3822-75f4-4f17-b03b-c765477397f7"
      },
      "execution_count": null,
      "outputs": [
        {
          "output_type": "execute_result",
          "data": {
            "text/plain": [
              "('abr', 'mai', 'jun')"
            ]
          },
          "metadata": {},
          "execution_count": 18
        }
      ]
    },
    {
      "cell_type": "markdown",
      "source": [
        "* Algumas aplicações básicas para TUPLAS"
      ],
      "metadata": {
        "id": "IWSypEcCKhIU"
      }
    },
    {
      "cell_type": "code",
      "source": [
        "#Coordenadas Geográficas\n",
        "coord = (-7.11532, -34.861) #João Pessoa"
      ],
      "metadata": {
        "id": "HwG9v2KuJw15"
      },
      "execution_count": null,
      "outputs": []
    },
    {
      "cell_type": "code",
      "source": [
        "#Dados imutáveis\n",
        "data_criacao = (2015, 7, 6) #Data de criação de um documento"
      ],
      "metadata": {
        "id": "UhnjZ3KAK0Kk"
      },
      "execution_count": null,
      "outputs": []
    },
    {
      "cell_type": "code",
      "source": [
        "#Ordenação de dados *sort(value, key = x)\n",
        "#Ordenar os estados pelo DDD e não pelo nome\n",
        "uf_cod = [('PE', 81), ('RJ', 21), ('SP', 11), ('PB', 83), ('AL', 82)]\n",
        "\n",
        "sorted(uf_cod, key = lambda x : x[1])\n",
        "#sorted(uf_cod, key = lambda x : x[1])"
      ],
      "metadata": {
        "id": "ciwX-STMO5hk",
        "colab": {
          "base_uri": "https://localhost:8080/"
        },
        "outputId": "576da72d-2b89-4c4e-8dfa-bae284dbd0fd"
      },
      "execution_count": null,
      "outputs": [
        {
          "output_type": "execute_result",
          "data": {
            "text/plain": [
              "[('SP', 11), ('RJ', 21), ('PE', 81), ('AL', 82), ('PB', 83)]"
            ]
          },
          "metadata": {},
          "execution_count": 29
        }
      ]
    },
    {
      "cell_type": "code",
      "source": [
        "#Coloque a tupla a seguir em ordem \n",
        "#do mais novo para o mais velho\n",
        "#do mais velho para o mais novo\n",
        "nome_nasc = [('Zé', 2003), ('Maria',1998), ('Alice', 2000), ('Leocádio', 1993)]"
      ],
      "metadata": {
        "id": "2ivl7W3MczeX"
      },
      "execution_count": null,
      "outputs": []
    },
    {
      "cell_type": "code",
      "source": [
        "#RESP - sorted(nome_nasc, key = lambda x: x[1], reverse = True) #do mais novo para o mais velho"
      ],
      "metadata": {
        "id": "VP-mFGMLDpLv"
      },
      "execution_count": null,
      "outputs": []
    },
    {
      "cell_type": "code",
      "source": [
        "#Desempacotamento de valores.\n",
        "def nome_idade_uf():\n",
        "  nome = \"José\"\n",
        "  idade = 28\n",
        "  uf = 'RN'\n",
        "  return nome, idade, uf\n",
        "\n"
      ],
      "metadata": {
        "id": "3cIATcDDLV4P"
      },
      "execution_count": null,
      "outputs": []
    },
    {
      "cell_type": "code",
      "source": [
        "n, i, u = nome_idade_uf()\n",
        "\n",
        "print(f'O {n}, tem {i} de idade, e nasceu em {u}')"
      ],
      "metadata": {
        "colab": {
          "base_uri": "https://localhost:8080/"
        },
        "id": "kT3xXkZiEARN",
        "outputId": "3ae86fa0-0704-4b14-bb0d-d672b77c8f92"
      },
      "execution_count": null,
      "outputs": [
        {
          "output_type": "stream",
          "name": "stdout",
          "text": [
            "O José, tem 28 de idade, e nasceu em RN\n"
          ]
        }
      ]
    },
    {
      "cell_type": "code",
      "source": [
        "#Mapeamento de valores\n",
        "alunos = ('Kelly', 'Adauto', 'Marceline', 'Luana', 'Henrique')\n",
        "notas = (5.5, 8, 9, 7.5, 6.5)\n",
        "\n",
        "Av1 = tuple(zip(alunos, notas))\n",
        "Av1"
      ],
      "metadata": {
        "id": "VdbgJNUKLjTJ",
        "colab": {
          "base_uri": "https://localhost:8080/"
        },
        "outputId": "b0195ed9-a2df-4e95-e428-aaa7296203b3"
      },
      "execution_count": null,
      "outputs": [
        {
          "output_type": "execute_result",
          "data": {
            "text/plain": [
              "(('Kelly', 5.5),\n",
              " ('Adauto', 8),\n",
              " ('Marceline', 9),\n",
              " ('Luana', 7.5),\n",
              " ('Henrique', 6.5))"
            ]
          },
          "metadata": {},
          "execution_count": 37
        }
      ]
    },
    {
      "cell_type": "markdown",
      "source": [
        "* A função `zip()` é utilizada para combinar elementos de duas ou mais sequências em pares ordenados. Ela retorna um iterador que pode ser convertido em uma lista, tupla ou outro tipo de coleção.\n",
        "*  a função `tuple()` é utilizada para criar uma tupla"
      ],
      "metadata": {
        "id": "A0BmaHacRTig"
      }
    },
    {
      "cell_type": "markdown",
      "source": [
        "* Exercício Tuplas\n",
        "1. Escreva uma função que receba duas tuplas como entrada e retorne uma única tupla que seja a concatenação das duas\n",
        "2. Escreva uma função que receba uma tupla contendo o nome e endereço:  logradouro,  número e bairro de uma pessoa e retorne uma string formatada.\n",
        "3. Escreva uma função que receba uma lista de tuplas contendo nome e idade de pessoas e retorne a lista ordenada por idade."
      ],
      "metadata": {
        "id": "A73SJ5eeM4QN"
      }
    },
    {
      "cell_type": "code",
      "source": [
        "def concatenaTupla (tp1, tp2):\n",
        "  return tp1 + tp2\n",
        "a = (2, 4, 5)\n",
        "b = (6, 8, 12)\n",
        "concatenaTupla(a, b)"
      ],
      "metadata": {
        "colab": {
          "base_uri": "https://localhost:8080/"
        },
        "id": "IoHVLBvRtTMc",
        "outputId": "b898e955-03e7-422d-937c-803b54d8f97b"
      },
      "execution_count": null,
      "outputs": [
        {
          "output_type": "execute_result",
          "data": {
            "text/plain": [
              "((2, 6), (4, 8), (5, 12))"
            ]
          },
          "metadata": {},
          "execution_count": 65
        }
      ]
    },
    {
      "cell_type": "code",
      "source": [
        "def formatada(tupla):\n",
        "  nome, logradouro, num, bairro = tupla\n",
        "  return f'Nome:{nome}, residente a {logradouro}, {num}, {bairro}.'\n",
        "\n",
        "dadosCliente = ('Manoelina', 'Rua das Couves', '42', 'Torre')\n",
        "\n",
        "print (formatada(dadosCliente))"
      ],
      "metadata": {
        "colab": {
          "base_uri": "https://localhost:8080/"
        },
        "id": "hB10RL0GM1Pz",
        "outputId": "4364cb47-053d-4e25-80ee-fb6577a344bf"
      },
      "execution_count": null,
      "outputs": [
        {
          "output_type": "stream",
          "name": "stdout",
          "text": [
            "Nome:Manoelina, residente a Rua das Couves, 42, Torre.\n"
          ]
        }
      ]
    },
    {
      "cell_type": "markdown",
      "source": [
        "#Dicionários  { } \n",
        "_____\n",
        "Armazenamento baseado em \"chave-valor\""
      ],
      "metadata": {
        "id": "MsQZZ1BFTDyu"
      }
    },
    {
      "cell_type": "code",
      "source": [
        "#Criando dicionários\n",
        "#Os dicionários são definidos utilizando chaves {} \n",
        "#e os pares chave-valor são separados por dois pontos (:)\n",
        "\n",
        "#Contatos\n",
        "contatos = {\n",
        "    'Ostervaldo' : 'oster@email.com',\n",
        "    'Maristênio' : 'marist@email.com',\n",
        "    'Leroiane' : 'lero@email.com', \n",
        "    'Jozezin' : ['zezin@exemplo.com', 'zemane@xemple.com']\n",
        "}\n",
        "contatos"
      ],
      "metadata": {
        "colab": {
          "base_uri": "https://localhost:8080/"
        },
        "id": "fZcixmJeTI7j",
        "outputId": "f9cfcec0-0dd3-4d4a-ab54-2e61c5d5fc87"
      },
      "execution_count": null,
      "outputs": [
        {
          "output_type": "execute_result",
          "data": {
            "text/plain": [
              "{'Ostervaldo': 'oster@email.com',\n",
              " 'Maristênio': 'marist@email.com',\n",
              " 'Leroiane': 'lero@email.com',\n",
              " 'Jozezin': ['zezin@exemplo.com', 'zemane@xemple.com']}"
            ]
          },
          "metadata": {},
          "execution_count": 7
        }
      ]
    },
    {
      "cell_type": "code",
      "source": [
        "#Acessando valores\n",
        "contatos['Jozezin']"
      ],
      "metadata": {
        "colab": {
          "base_uri": "https://localhost:8080/"
        },
        "id": "KcncP6cjT33d",
        "outputId": "6d64cb8e-93f1-4317-ebd5-0744b4b352e2"
      },
      "execution_count": null,
      "outputs": [
        {
          "output_type": "execute_result",
          "data": {
            "text/plain": [
              "['zezin@exemplo.com', 'zemane@xemple.com']"
            ]
          },
          "metadata": {},
          "execution_count": 10
        }
      ]
    },
    {
      "cell_type": "code",
      "source": [
        "#Para evitar erros ao buscar por possíveis valores inexistentes, utilizar o get()\n",
        "contatos.get('Rebeca', 'Contato inexistente')"
      ],
      "metadata": {
        "colab": {
          "base_uri": "https://localhost:8080/",
          "height": 35
        },
        "id": "X5tlct3JUGQK",
        "outputId": "cf50df08-9cde-4972-d141-a1b9979cce3e"
      },
      "execution_count": null,
      "outputs": [
        {
          "output_type": "execute_result",
          "data": {
            "text/plain": [
              "'Contato inexistente'"
            ],
            "application/vnd.google.colaboratory.intrinsic+json": {
              "type": "string"
            }
          },
          "metadata": {},
          "execution_count": 12
        }
      ]
    },
    {
      "cell_type": "markdown",
      "source": [
        "Adicionando, Modificando e Removendo Pares Chave-Valor"
      ],
      "metadata": {
        "id": "QcXrlenIUrLQ"
      }
    },
    {
      "cell_type": "code",
      "source": [
        "#CRUD\n",
        "#C - CREATE\n",
        "#R - RECOVERY\n",
        "#U - UPDATE\n",
        "#D - DELETE"
      ],
      "metadata": {
        "id": "MRTr0z4eFZoj"
      },
      "execution_count": null,
      "outputs": []
    },
    {
      "cell_type": "code",
      "source": [
        "#Criar\n",
        "lutas = {}\n",
        "lutas"
      ],
      "metadata": {
        "colab": {
          "base_uri": "https://localhost:8080/"
        },
        "id": "K8iyzIzSGZfb",
        "outputId": "45c14dea-f183-4729-feab-aa662b6c5a46"
      },
      "execution_count": null,
      "outputs": [
        {
          "output_type": "execute_result",
          "data": {
            "text/plain": [
              "{}"
            ]
          },
          "metadata": {},
          "execution_count": 13
        }
      ]
    },
    {
      "cell_type": "code",
      "source": [
        "#Criar\n",
        "luchadores = [\n",
        "    {\n",
        "      \"nome\":'Israel Adesanya',\n",
        "      \"categoria\" : \"Meio médio\",\n",
        "      \"envergadura\": 2\n",
        "    },\n",
        "     {\n",
        "      \"nome\":'Luana Pinheiro',\n",
        "      \"categoria\" : \"Palha\",\n",
        "      \"envergadura\": 1.6\n",
        "    }\n",
        "]"
      ],
      "metadata": {
        "id": "ixq_o6csGi5Z"
      },
      "execution_count": null,
      "outputs": []
    },
    {
      "cell_type": "code",
      "source": [
        "luchadores"
      ],
      "metadata": {
        "colab": {
          "base_uri": "https://localhost:8080/"
        },
        "id": "K-hSmobDHNzh",
        "outputId": "85305444-9f92-4930-9a18-51504db2fd24"
      },
      "execution_count": null,
      "outputs": [
        {
          "output_type": "execute_result",
          "data": {
            "text/plain": [
              "[{'nome': 'Israel Adesanya', 'categoria': 'Meio médio', 'envergadura': 2},\n",
              " {'nome': 'Luana Pinheiro', 'categoria': 'Palha', 'envergadura': 1.6}]"
            ]
          },
          "metadata": {},
          "execution_count": 15
        }
      ]
    },
    {
      "cell_type": "code",
      "source": [
        "#Criar\n",
        "\n",
        "contatos['Evilásio'] = 'evi@exemplo.com'\n",
        "\n",
        "contatos"
      ],
      "metadata": {
        "id": "0szJ4UA4Ufl6"
      },
      "execution_count": null,
      "outputs": []
    },
    {
      "cell_type": "code",
      "source": [
        "#Adição por concatenação\n",
        "contacts = {'zé': 'ze@mailzemplo.com', \n",
        "     'gardenia':'gardenia@exemplo.com',\n",
        "     'Aloisio' : 'aloisio@exml.com'}\n",
        "\n",
        "contatos.update(contacts)\n",
        "contatos"
      ],
      "metadata": {
        "colab": {
          "base_uri": "https://localhost:8080/"
        },
        "id": "VPD-rrLl5Zvh",
        "outputId": "e5a0b4c7-aaf4-43e8-d7a5-54d34b517e23"
      },
      "execution_count": null,
      "outputs": [
        {
          "output_type": "execute_result",
          "data": {
            "text/plain": [
              "{'Ostervaldo': 'oster@email.com',\n",
              " 'Maristênio': 'marist@email.com',\n",
              " 'Leroiane': 'lero@email.com',\n",
              " 'Jozezin': ['zezin@exemplo.com', 'zemane@xemple.com'],\n",
              " 'Evilásio': 'evi@exemplo.com',\n",
              " 'zé': 'ze@mailzemplo.com',\n",
              " 'gardenia': 'gardenia@exemplo.com',\n",
              " 'Aloisio': 'aloisio@exml.com'}"
            ]
          },
          "metadata": {},
          "execution_count": 18
        }
      ]
    },
    {
      "cell_type": "code",
      "source": [
        "#Modificar (só inserir um novo valor à chave correspondente)\n",
        "contatos['Maristênio'] = 'sten@exemplo.com'\n",
        "\n",
        "contatos"
      ],
      "metadata": {
        "id": "k_IN3g7aU9HJ",
        "colab": {
          "base_uri": "https://localhost:8080/"
        },
        "outputId": "c3db1679-fda6-4029-c69a-d2723117d08f"
      },
      "execution_count": null,
      "outputs": [
        {
          "output_type": "execute_result",
          "data": {
            "text/plain": [
              "{'Ostervaldo': 'oster@email.com',\n",
              " 'Maristênio': 'sten@exemplo.com',\n",
              " 'Leroiane': 'lero@email.com',\n",
              " 'Jozezin': ['zezin@exemplo.com', 'zeh@ez.com', 'zex@zeh.com'],\n",
              " 'zé': 'ze@mailzemplo.com',\n",
              " 'gardenia': 'gardenia@exemplo.com',\n",
              " 'Aloisio': 'aloisio@exml.com'}"
            ]
          },
          "metadata": {},
          "execution_count": 28
        }
      ]
    },
    {
      "cell_type": "code",
      "source": [
        "contatos['Jozezin'][1] = 'zeh@ez.com'"
      ],
      "metadata": {
        "id": "F1cQqDSgKfdi"
      },
      "execution_count": null,
      "outputs": []
    },
    {
      "cell_type": "code",
      "source": [
        "#Remoção del\n",
        "\n",
        "del contatos['Evilásio']\n",
        "\n",
        "contatos"
      ],
      "metadata": {
        "id": "RF32ALw3VPZT",
        "colab": {
          "base_uri": "https://localhost:8080/"
        },
        "outputId": "7c962d96-c747-4a11-caf5-7f2536185192"
      },
      "execution_count": null,
      "outputs": [
        {
          "output_type": "execute_result",
          "data": {
            "text/plain": [
              "{'Ostervaldo': 'oster@email.com',\n",
              " 'Maristênio': 'sten@exemplo.com',\n",
              " 'Leroiane': ['lero@lero.com', 'iane@iane.com'],\n",
              " 'Jozezin': ['zezin@exemplo.com', 'zeh@ez.com', 'zex@zeh.com'],\n",
              " 'zé': 'ze@mailzemplo.com',\n",
              " 'gardenia': 'gardenia@exemplo.com',\n",
              " 'Aloisio': 'aloisio@exml.com'}"
            ]
          },
          "metadata": {},
          "execution_count": 38
        }
      ]
    },
    {
      "cell_type": "code",
      "source": [
        "contatos['Jozezin'].append('zex@zeh.com')"
      ],
      "metadata": {
        "id": "O6WWS9DtLfWt"
      },
      "execution_count": null,
      "outputs": []
    },
    {
      "cell_type": "code",
      "source": [
        "contatos['Leroiane'] = ['lero@lero.com', 'iane@iane.com']"
      ],
      "metadata": {
        "id": "jURDiKyIL3fr"
      },
      "execution_count": null,
      "outputs": []
    },
    {
      "cell_type": "code",
      "source": [
        "contatos"
      ],
      "metadata": {
        "id": "iDODHLxdL-A_"
      },
      "execution_count": null,
      "outputs": []
    },
    {
      "cell_type": "code",
      "source": [
        "contatos.items()"
      ],
      "metadata": {
        "colab": {
          "base_uri": "https://localhost:8080/"
        },
        "id": "yyQ6RlEriYjj",
        "outputId": "d81b7af2-1ce7-4111-ef52-69553664f4f6"
      },
      "execution_count": null,
      "outputs": [
        {
          "output_type": "execute_result",
          "data": {
            "text/plain": [
              "dict_items([('Ostervaldo', 'oster@email.com'), ('Maristênio', 'sten@exemplo.com'), ('Leroiane', ['lero@lero.com', 'iane@iane.com']), ('Jozezin', ['zezin@exemplo.com', 'zeh@ez.com', 'zex@zeh.com']), ('zé', 'ze@mailzemplo.com'), ('gardenia', 'gardenia@exemplo.com'), ('Aloisio', 'aloisio@exml.com')])"
            ]
          },
          "metadata": {},
          "execution_count": 36
        }
      ]
    },
    {
      "cell_type": "code",
      "source": [
        "#Iterando sobre dicionários\n",
        "for nome, email in contatos.items():\n",
        "  print(f'o Email {email} pertence a {nome}')"
      ],
      "metadata": {
        "id": "wGL9-VQDVeem",
        "colab": {
          "base_uri": "https://localhost:8080/"
        },
        "outputId": "a87cad3f-1159-4321-c343-a08ccf1da111"
      },
      "execution_count": null,
      "outputs": [
        {
          "output_type": "stream",
          "name": "stdout",
          "text": [
            "o Email oster@email.com pertence a Ostervaldo\n",
            "o Email sten@exemplo.com pertence a Maristênio\n",
            "o Email ['lero@lero.com', 'iane@iane.com'] pertence a Leroiane\n",
            "o Email ['zezin@exemplo.com', 'zeh@ez.com', 'zex@zeh.com'] pertence a Jozezin\n",
            "o Email ze@mailzemplo.com pertence a zé\n",
            "o Email gardenia@exemplo.com pertence a gardenia\n",
            "o Email aloisio@exml.com pertence a Aloisio\n"
          ]
        }
      ]
    },
    {
      "cell_type": "markdown",
      "source": [
        "`items()` é um método utilizado em dicionários em Python. Ela retorna uma lista de tuplas, em que cada tupla contém um par chave-valor do dicionário."
      ],
      "metadata": {
        "id": "hIQ6upu141pk"
      }
    },
    {
      "cell_type": "code",
      "source": [
        "#métodos úteis keys(), values()\n",
        "contatos.keys()"
      ],
      "metadata": {
        "id": "saWUN3g6V4VE",
        "colab": {
          "base_uri": "https://localhost:8080/"
        },
        "outputId": "698eefcd-d232-4ab8-d383-f975a625e650"
      },
      "execution_count": null,
      "outputs": [
        {
          "output_type": "execute_result",
          "data": {
            "text/plain": [
              "dict_keys(['Ostervaldo', 'Maristênio', 'Leroiane', 'Jozezin', 'zé', 'gardenia', 'Aloisio'])"
            ]
          },
          "metadata": {},
          "execution_count": 41
        }
      ]
    },
    {
      "cell_type": "code",
      "source": [
        "nomes = list(contatos.keys())"
      ],
      "metadata": {
        "id": "TWUOsQliP-sd"
      },
      "execution_count": null,
      "outputs": []
    },
    {
      "cell_type": "code",
      "source": [
        "contatos.values()"
      ],
      "metadata": {
        "id": "XrHK-fN9P4AN"
      },
      "execution_count": null,
      "outputs": []
    },
    {
      "cell_type": "code",
      "source": [
        "#Valores máximos, mínimos e ordenações\n",
        "curso = {'Alice': 8.5, 'Tiago': 7.0, 'Chico': 6.5, 'Nubia': 10}\n",
        "#Quem obteve a maior nota?\n",
        "max(curso, key=curso.get)\n",
        "#quem teve o pior desempenho?\n",
        "min(curso, key=curso.get)\n",
        "#Ordene da menor nota para a maior\n",
        "sorted(curso, key=curso.get)\n",
        "#ordenar da maior nota para a menor\n",
        "sorted(curso, key=curso.get, reverse=True)"
      ],
      "metadata": {
        "id": "4tfFTXqX_bTd"
      },
      "execution_count": null,
      "outputs": []
    },
    {
      "cell_type": "code",
      "source": [
        "curso = {'Alice': 8.5, 'Tiago': 7.0, \n",
        "         'Chico': 6.5, 'Nubia': 10}\n",
        "#Quem obteve a maior nota?\n",
        "max(curso, key = curso.get)"
      ],
      "metadata": {
        "id": "8hxIJFxpjrNb",
        "colab": {
          "base_uri": "https://localhost:8080/",
          "height": 35
        },
        "outputId": "8c0ddda2-7ae8-4bfe-a22c-ebada2fc9e20"
      },
      "execution_count": null,
      "outputs": [
        {
          "output_type": "execute_result",
          "data": {
            "text/plain": [
              "'Nubia'"
            ],
            "application/vnd.google.colaboratory.intrinsic+json": {
              "type": "string"
            }
          },
          "metadata": {},
          "execution_count": 49
        }
      ]
    },
    {
      "cell_type": "code",
      "source": [
        "#E a menor nota?\n",
        "min(curso, key = curso.get)"
      ],
      "metadata": {
        "id": "0zB_IYqxkY9h",
        "colab": {
          "base_uri": "https://localhost:8080/",
          "height": 35
        },
        "outputId": "81edd5c5-d603-49ae-f134-e0de27abd566"
      },
      "execution_count": null,
      "outputs": [
        {
          "output_type": "execute_result",
          "data": {
            "text/plain": [
              "'Chico'"
            ],
            "application/vnd.google.colaboratory.intrinsic+json": {
              "type": "string"
            }
          },
          "metadata": {},
          "execution_count": 50
        }
      ]
    },
    {
      "cell_type": "code",
      "source": [
        "#Ordene pela nota da menor para a maior\n",
        "sorted(curso, key = curso.get)"
      ],
      "metadata": {
        "colab": {
          "base_uri": "https://localhost:8080/"
        },
        "id": "n5bV5EKukhy5",
        "outputId": "e50d6076-7234-4ca4-c2e7-9dd06395954e"
      },
      "execution_count": null,
      "outputs": [
        {
          "output_type": "execute_result",
          "data": {
            "text/plain": [
              "['Chico', 'Tiago', 'Alice', 'Nubia']"
            ]
          },
          "metadata": {},
          "execution_count": 52
        }
      ]
    },
    {
      "cell_type": "code",
      "source": [
        "#Ordene pela nota da maior para a menor\n",
        "sorted(curso, key = curso.get, reverse = True)"
      ],
      "metadata": {
        "id": "VCWlJd5uk2hm"
      },
      "execution_count": null,
      "outputs": []
    },
    {
      "cell_type": "markdown",
      "source": [
        "-- Exercícios\n",
        "\n",
        "\n",
        "1. O dicionário a seguir contém uma relação de atletas e seus respectivos tempos em uma corrida de 100 metros. `corrida100m = {'Zé': 10, 'marco': 9.9, 'Marta': 9.98, 'Lourdes': 10.2}`\n",
        "  - Crie um código em python que retorna:\n",
        "    * Quem chegou primeiro\n",
        "    * Quem chegou por último\n",
        "    * Ordene os atletas do primeiro ao último lugar.\n",
        "2. Escreva uma função que receba dois dicionários como entrada e retorne um novo dicionário contendo a união dos dois dicionários.\n",
        "1. Faça um dicionário contendo, incialmente, 5 produtos de beleza, deve ter nome do produto, marca, preço e breve descrição\n",
        "  * por exemplo: `{ 'nome': 'batom', 'marca': 'avon', 'preco': 10.99, 'descricao' : 'Batom vermelho impermeável' } `\n",
        "3. Em um concurso foram aplicadas duas provas A e B, das quais o resultado foi o seguinte:\n",
        "  * `provaA = {'Andre': 8.5, 'Ana': 7.0, 'Chico': 6.5, 'Nubia': 10, 'Luana': 8}`\n",
        "  * `provaB = {'Julio': 5.5, 'Aristides': 6.0, 'Sebastiana': 9.5, 'Camila': 10, 'João': 6}`\n",
        "  * A partir disso, siga o roteiro:\n",
        "    - A Crie num novo dicionário `resultado_final`, o qual é a junção dos dois dicionários provaA e provaB\n",
        "    - Ordene o dicionário da maior nota para a menor nota\n",
        "    - O Gerente da comissão do concurso precisa de uma lista apenas com os nomes dos candidatos.\n",
        "    - O analista de dados precisa de uma lista apenas com as notas das provas.\n",
        "    - Querem disponibilizar um recurso, no qual se insere um nome de candidato e retorna a sua nota. Caso o candidato não exista, exibir a mensagem \"Candidato inexistente\".\n"
      ],
      "metadata": {
        "id": "CemAW7Ji6riv"
      }
    },
    {
      "cell_type": "code",
      "source": [
        "corrida100m = {'Zé': 10, 'Marco': 9.9, 'Marta': 9.98, 'Lourdes': 10.2}\n",
        "#Primeiro\n",
        "primeiro = min(corrida100m, key = corrida100m.get)\n",
        "#Quem foi o último lugar?\n",
        "ultimo = max(corrida100m, key = corrida100m.get)\n",
        "#ordenar\n",
        "sorted(corrida100m, key = corrida100m.get)"
      ],
      "metadata": {
        "colab": {
          "base_uri": "https://localhost:8080/"
        },
        "id": "AL_uAksHKHZE",
        "outputId": "bda41a7f-65d9-4115-b83d-cf4183b2de74"
      },
      "execution_count": null,
      "outputs": [
        {
          "output_type": "execute_result",
          "data": {
            "text/plain": [
              "['Marco', 'Marta', 'Zé', 'Lourdes']"
            ]
          },
          "metadata": {},
          "execution_count": 71
        }
      ]
    },
    {
      "cell_type": "code",
      "source": [
        "a = { 'chave 1': 'Valor 1', 'chave 2': 'Valor 2', 'chave 3': 'Valor 3'}\n",
        "b = { 'chave a': 'Valor a', 'chave b': 'Valor b', 'chave c': 'Valor c'}\n",
        "\n",
        "\n"
      ],
      "metadata": {
        "id": "fYgo3xk2nQQV"
      },
      "execution_count": null,
      "outputs": []
    },
    {
      "cell_type": "code",
      "source": [
        "def juntaDicionarios (dicA, dicB):\n",
        "  dicC = {}\n",
        "  dicC.update(dicA)\n",
        "  dicC.update(dicB)\n",
        "  return dicC"
      ],
      "metadata": {
        "id": "H8WEcM8mnAUg"
      },
      "execution_count": null,
      "outputs": []
    },
    {
      "cell_type": "code",
      "source": [
        "a = { 'chave 1': 'Valor 1', 'chave 2': 'Valor 2', 'chave 3': 'Valor 3'}\n",
        "b = { 'chave a': 'Valor a', 'chave b': 'Valor b', 'chave c': 'Valor c'}\n",
        "\n",
        "juntaDicionarios(a, b)"
      ],
      "metadata": {
        "colab": {
          "base_uri": "https://localhost:8080/"
        },
        "id": "rtWSxRlNoE6w",
        "outputId": "ae2c86a6-3650-4766-c21b-9b7ed6fa2205"
      },
      "execution_count": null,
      "outputs": [
        {
          "output_type": "execute_result",
          "data": {
            "text/plain": [
              "{'chave 1': 'Valor 1',\n",
              " 'chave 2': 'Valor 2',\n",
              " 'chave 3': 'Valor 3',\n",
              " 'chave a': 'Valor a',\n",
              " 'chave b': 'Valor b',\n",
              " 'chave c': 'Valor c'}"
            ]
          },
          "metadata": {},
          "execution_count": 76
        }
      ]
    },
    {
      "cell_type": "code",
      "source": [
        "provaA = {'Andre': 8.5, 'Ana': 7.0, 'Chico': 6.5, 'Nubia': 10, 'Luana': 8}\n",
        "provaB = {'Julio': 5.5, 'Aristides': 6.0, 'Sebastiana': 9.5, 'Camila': 10, 'João': 6}\n",
        "\n",
        "resultado_final = {}\n",
        "resultado_final.update(provaA)\n",
        "resultado_final.update(provaB)\n",
        "\n",
        "resultado_final"
      ],
      "metadata": {
        "id": "wygcSqjgcCVz"
      },
      "execution_count": null,
      "outputs": []
    },
    {
      "cell_type": "code",
      "source": [
        "sorted(resultado_final, key = resultado_final.get) #Ordenação crescente"
      ],
      "metadata": {
        "id": "rwEL24Off1fb"
      },
      "execution_count": null,
      "outputs": []
    },
    {
      "cell_type": "code",
      "source": [
        "sorted(resultado_final, key = resultado_final.get, reverse= True)"
      ],
      "metadata": {
        "id": "PVYoe1pDgP_u"
      },
      "execution_count": null,
      "outputs": []
    },
    {
      "cell_type": "code",
      "source": [
        "for nome, nota in resultado_final.items():\n",
        "  print (f'{nome} ---- {nota}')"
      ],
      "metadata": {
        "id": "T_cDxTc6gbwp"
      },
      "execution_count": null,
      "outputs": []
    },
    {
      "cell_type": "code",
      "source": [
        "candidatos = list(resultado_final.keys())\n",
        "candidatos"
      ],
      "metadata": {
        "id": "D0bpDl4uheEd"
      },
      "execution_count": null,
      "outputs": []
    },
    {
      "cell_type": "code",
      "source": [
        "notas = list(resultado_final.values())\n",
        "notas"
      ],
      "metadata": {
        "id": "tYMkcseviOnT"
      },
      "execution_count": null,
      "outputs": []
    },
    {
      "cell_type": "code",
      "source": [
        "def consultaNota(dicNotas, nome):\n",
        "  if nome in dicNotas:\n",
        "    return dicNotas[nome]\n",
        "  else:\n",
        "    return 'Candidato Inexistente'"
      ],
      "metadata": {
        "id": "tpO1Gbfphd7B"
      },
      "execution_count": 22,
      "outputs": []
    },
    {
      "cell_type": "code",
      "source": [
        "nomeCandidato = input('Digite sua graça: ')\n",
        "notaCandidato = consultaNota(resultado_final,nomeCandidato)\n",
        "print (notaCandidato)"
      ],
      "metadata": {
        "colab": {
          "base_uri": "https://localhost:8080/"
        },
        "id": "8TrNIXz5o47B",
        "outputId": "536d152f-274f-4ee1-ad45-7c983025ac7b"
      },
      "execution_count": 23,
      "outputs": [
        {
          "output_type": "stream",
          "name": "stdout",
          "text": [
            "Digite sua graça: Nubia\n",
            "10\n"
          ]
        }
      ]
    }
  ]
}