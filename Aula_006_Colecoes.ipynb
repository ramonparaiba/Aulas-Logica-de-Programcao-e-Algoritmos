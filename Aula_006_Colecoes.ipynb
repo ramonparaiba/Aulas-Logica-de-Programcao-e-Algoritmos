{
  "nbformat": 4,
  "nbformat_minor": 0,
  "metadata": {
    "colab": {
      "provenance": [],
      "authorship_tag": "ABX9TyOXZXDKmJJzHmBOUCeE5CEM",
      "include_colab_link": true
    },
    "kernelspec": {
      "name": "python3",
      "display_name": "Python 3"
    },
    "language_info": {
      "name": "python"
    }
  },
  "cells": [
    {
      "cell_type": "markdown",
      "metadata": {
        "id": "view-in-github",
        "colab_type": "text"
      },
      "source": [
        "<a href=\"https://colab.research.google.com/github/ramonparaiba/Aulas-Logica-de-Programcao-e-Algoritmos/blob/main/Aula_006_Colecoes.ipynb\" target=\"_parent\"><img src=\"https://colab.research.google.com/assets/colab-badge.svg\" alt=\"Open In Colab\"/></a>"
      ]
    },
    {
      "cell_type": "markdown",
      "source": [
        "COLEÇÕES EM PYTHON\n",
        "\n",
        "Em Python, as coleções são estruturas de dados que permitem armazenar e manipular um grupo de elementos relacionados. As coleções são amplamente utilizadas em programação porque permitem que você trabalhe com dados de forma mais eficiente e organizada.\n",
        "\n",
        "* Listas: são coleções ordenadas de elementos mutáveis.\n",
        "  * Exemplo: uma lista de compras de supermercado que você precisa alterar durante a sua visita, incluindo itens duplicados, como ovos, leite, pão etc.\n",
        "* Tuplas: são coleções ordenadas de elementos imutáveis.\n",
        "  * Exemplo: coordenadas geográficas de uma cidade, onde as informações de latitude e longitude não mudam.\n",
        "* Dicionários: são coleções não ordenadas de pares chave-valor mutáveis.\n",
        "  * Exemplo: um dicionário de palavras em um dicionário, onde as chaves são as palavras e os valores são as definições.\n",
        "* Conjuntos: são coleções não ordenadas de elementos mutáveis e não podem conter elementos duplicados.\n",
        "  * Exemplo: uma lista de emails de clientes para campanhas de marketing, onde você precisa garantir que cada endereço de email seja exclusivo.\n",
        "\n",
        "/ Também é comum o uso do termo \"iterável\" para se referir às coleções"
      ],
      "metadata": {
        "id": "66KdJnqE7PZH"
      }
    },
    {
      "cell_type": "markdown",
      "source": [
        "#Listas\n",
        "________________________\n",
        "Ordenadas e Mutáveis"
      ],
      "metadata": {
        "id": "J-aqBvHP8-ug"
      }
    },
    {
      "cell_type": "code",
      "execution_count": null,
      "metadata": {
        "id": "CXHTdKXE7Aoq"
      },
      "outputs": [],
      "source": [
        "#Criando Listas\n",
        "lista_vazia = []\n",
        "\n",
        "#Lista com elementos\n",
        "lista_Com_coisas = [2, 4, 3, 'quatro', 'cinco']"
      ]
    },
    {
      "cell_type": "code",
      "source": [
        "#Acessando Elementos da lista\n",
        "lista = [1, 2, 3, \"quatro\", \"cinco\"]\n",
        "\n",
        "print(lista[0])  # 1\n",
        "print(lista[3])  # \"quatro\"\n",
        "print(lista[-1]) # \"cinco\""
      ],
      "metadata": {
        "colab": {
          "base_uri": "https://localhost:8080/"
        },
        "id": "OtPByMRm_ex6",
        "outputId": "33fcc2ad-669c-4990-c9a0-e6b4cdb6bba3"
      },
      "execution_count": null,
      "outputs": [
        {
          "output_type": "stream",
          "name": "stdout",
          "text": [
            "1\n",
            "quatro\n",
            "cinco\n"
          ]
        }
      ]
    },
    {
      "cell_type": "markdown",
      "source": [
        "* Operações com Lista"
      ],
      "metadata": {
        "id": "9nCtAjAN_m5g"
      }
    },
    {
      "cell_type": "markdown",
      "source": [
        "@ Adicionar elementos\n",
        "  * Para adicionar elementos use um dos métodos `append()` ou `extend()` \n",
        "  *`append()` - para adicionar um elemento ao final da lista\n",
        "  *`extend()` - para adicionar vários elementos ao final da lista"
      ],
      "metadata": {
        "id": "AAwjsCk6BxLw"
      }
    },
    {
      "cell_type": "code",
      "source": [
        "nomes = ['ze', 'tião', 'joaquim']\n",
        "nomes.append('julia')\n",
        "\n",
        "#vários valores\n",
        "outrosNomes = ['Ana', 'Zabé', 'Maria']\n",
        "nomes.extend(outrosNomes)\n",
        "\n",
        "nomes\n"
      ],
      "metadata": {
        "colab": {
          "base_uri": "https://localhost:8080/"
        },
        "id": "8PFD46q_7VVP",
        "outputId": "5f3e5509-d394-406a-efe9-8797464ae01f"
      },
      "execution_count": 3,
      "outputs": [
        {
          "output_type": "execute_result",
          "data": {
            "text/plain": [
              "['ze', 'tião', 'joaquim', 'julia', 'Ana', 'Zabé', 'Maria']"
            ]
          },
          "metadata": {},
          "execution_count": 3
        }
      ]
    },
    {
      "cell_type": "markdown",
      "source": [
        "@ Remoção de elementos\n",
        "\n",
        "* Para remover  `remove()` ou `pop()`\n",
        " * `remove()` - Remove o primeiro elemento\n",
        " * `pop()` - Remove o último elemento"
      ],
      "metadata": {
        "id": "UrQI1KbFB9uQ"
      }
    },
    {
      "cell_type": "code",
      "source": [
        "#Crie uma lista de números e \n",
        "numeros = [ 2, 4, 1, 6, 9, 12]\n",
        "#remova o primeiro elemento da lista\n",
        "numeros.remove(numeros[0])\n",
        "#remova o último elemento da lista\n",
        "numeros.pop()\n",
        "\n",
        "numeros"
      ],
      "metadata": {
        "colab": {
          "base_uri": "https://localhost:8080/"
        },
        "id": "TlvhNlc8Cpat",
        "outputId": "d2221373-2433-4725-f5b6-49237c20edae"
      },
      "execution_count": null,
      "outputs": [
        {
          "output_type": "execute_result",
          "data": {
            "text/plain": [
              "[4, 1, 6, 9]"
            ]
          },
          "metadata": {},
          "execution_count": 55
        }
      ]
    },
    {
      "cell_type": "markdown",
      "source": [
        "* Ordenação de Elementos\n",
        "\n",
        "  * lista . `sort()` - ordena em ordem crescente\n",
        "  * lista . `sort(reverse=True)` - ordena em ordem decrescente"
      ],
      "metadata": {
        "id": "NTRRofj6DW4g"
      }
    },
    {
      "cell_type": "code",
      "source": [
        "#1 - Crie uma lista de notas, e exiba-a da menor para a maior\n",
        "notas = [2,10, 9, 4, 7, 3, 8]\n",
        "nomes = ['Ademar', 'Maristênio', 'Asdrúbal', 'Leo']\n",
        "#notas.sort()\n",
        "nomes.sort(reverse=True)\n",
        "#2 - Crie uma lista de nomes de frutas e ordene-a em ordem decrescente\n",
        "\n",
        "nomes"
      ],
      "metadata": {
        "colab": {
          "base_uri": "https://localhost:8080/"
        },
        "id": "sM9dwIxrCtPh",
        "outputId": "daa47646-2018-48b9-a672-2a44072d248a"
      },
      "execution_count": 7,
      "outputs": [
        {
          "output_type": "execute_result",
          "data": {
            "text/plain": [
              "['Maristênio', 'Leo', 'Asdrúbal', 'Ademar']"
            ]
          },
          "metadata": {},
          "execution_count": 7
        }
      ]
    },
    {
      "cell_type": "markdown",
      "source": [
        "* Função `map()` serve para aplicar uma função a cada elemento de uma lista, dispensando o uso de um loop (for ou while)\n",
        "  * `map(funcao, iterável)`\n",
        "\n",
        "* Função `filter()` serve para filtrar elementos de uma *sequência*"
      ],
      "metadata": {
        "id": "RII8Bx16FYOm"
      }
    },
    {
      "cell_type": "code",
      "source": [
        "#Pegar os preços de uma lista\n",
        "#adicionar 2 a cada um deles\n",
        "newPrecos = list(map(lambda x : x+2, precos))\n",
        "newPrecos"
      ],
      "metadata": {
        "id": "1_jotytbtaKx"
      },
      "execution_count": null,
      "outputs": []
    },
    {
      "cell_type": "code",
      "source": [
        "notas = [6, 7, 3.5, 9, 6.5]\n",
        "#quero apenas os aprovados.... \n",
        "aprovados = list(filter(lambda x : x<=7, map(lambda x : x+1, notas )))\n",
        "aprovados"
      ],
      "metadata": {
        "colab": {
          "base_uri": "https://localhost:8080/"
        },
        "id": "E7t3SOIDvX9U",
        "outputId": "9783a7bf-50ec-48cc-9c8a-e2df2603b814"
      },
      "execution_count": 21,
      "outputs": [
        {
          "output_type": "execute_result",
          "data": {
            "text/plain": [
              "[7, 4.5]"
            ]
          },
          "metadata": {},
          "execution_count": 21
        }
      ]
    },
    {
      "cell_type": "code",
      "source": [
        "#MAP map(função, iteravel)\n",
        "precos = [9.99, 2.50, 3.45, 7.00, 10.99]"
      ],
      "metadata": {
        "id": "z4u1oEthnBWO"
      },
      "execution_count": 17,
      "outputs": []
    },
    {
      "cell_type": "code",
      "source": [
        "#Pegar os números de uma lista\n",
        "#Criar outra lista com o dobro\n",
        "nums = [6, 5, 2, 1, 7]\n",
        "def dobro(lista):\n",
        "  dobrolista = []\n",
        "  for n in lista:\n",
        "    dobrolista.append(n*2)\n",
        "  return dobrolista\n",
        "\n",
        "dobro(nums)"
      ],
      "metadata": {
        "colab": {
          "base_uri": "https://localhost:8080/"
        },
        "id": "lxUeQa6VlXn0",
        "outputId": "aef4aa4e-aef3-4a71-a3fe-88bb249ccd9b"
      },
      "execution_count": 9,
      "outputs": [
        {
          "output_type": "execute_result",
          "data": {
            "text/plain": [
              "[12, 10, 4, 2, 14]"
            ]
          },
          "metadata": {},
          "execution_count": 9
        }
      ]
    },
    {
      "cell_type": "code",
      "source": [
        "#Exemplo função map - cria uma nova lista com o dobro \n",
        "numeros = [2, 4, 6, 3]\n",
        "nova_lista = list(map(lambda x : x*2, numeros))\n",
        "nova_lista"
      ],
      "metadata": {
        "colab": {
          "base_uri": "https://localhost:8080/"
        },
        "id": "PvvNT1ANK7iU",
        "outputId": "ac7e41cc-37a9-4831-c2bf-2e7a8de92b03"
      },
      "execution_count": null,
      "outputs": [
        {
          "output_type": "execute_result",
          "data": {
            "text/plain": [
              "[4, 8, 12, 6]"
            ]
          },
          "metadata": {},
          "execution_count": 63
        }
      ]
    },
    {
      "cell_type": "code",
      "source": [
        "# pegar cada um dos números e dividir por 3\n",
        "numDivi = list(map(lambda x : x/3, numeros ))\n",
        "\n",
        "numDivi  "
      ],
      "metadata": {
        "colab": {
          "base_uri": "https://localhost:8080/"
        },
        "id": "hPTr9aI0DFt_",
        "outputId": "bdf0a3f2-a481-44bf-f0fd-6259b89fbb95"
      },
      "execution_count": null,
      "outputs": [
        {
          "output_type": "execute_result",
          "data": {
            "text/plain": [
              "[0.6666666666666666, 1.3333333333333333, 2.0, 1.0]"
            ]
          },
          "metadata": {},
          "execution_count": 66
        }
      ]
    },
    {
      "cell_type": "code",
      "source": [
        "#Pega cada número e soma 2.\n",
        "soma2  = list(map(lambda x : x+2, numeros))\n",
        "soma2"
      ],
      "metadata": {
        "id": "3qJOvCFiD9xc"
      },
      "execution_count": null,
      "outputs": []
    },
    {
      "cell_type": "code",
      "source": [
        "#Sem usar função map associada à uma função lambda\n",
        "new_list = []\n",
        "for n in numeros:\n",
        "  new_list.append(n*2)\n",
        "\n",
        "new_list"
      ],
      "metadata": {
        "id": "yWnSmvXzLWTh"
      },
      "execution_count": null,
      "outputs": []
    },
    {
      "cell_type": "code",
      "source": [
        "len('abacate')>5"
      ],
      "metadata": {
        "colab": {
          "base_uri": "https://localhost:8080/"
        },
        "id": "fu1203zdFdlP",
        "outputId": "11d196c0-9b4d-480e-fbdb-8a98d0020dee"
      },
      "execution_count": null,
      "outputs": [
        {
          "output_type": "execute_result",
          "data": {
            "text/plain": [
              "True"
            ]
          },
          "metadata": {},
          "execution_count": 72
        }
      ]
    },
    {
      "cell_type": "code",
      "source": [
        "#Exemplo função filter - a partir de uma lista de nomes, criar uma nova lista apenas com palavras com mais de 5 caracteres\n",
        "\n",
        "nomes = ['josé', 'joão', 'Sebastião', 'Angélica', 'Leonardo', 'Luana', 'Bárbara']\n",
        "\n",
        "new_list = list(filter(lambda x : len(x)>5, nomes))\n",
        "new_list"
      ],
      "metadata": {
        "colab": {
          "base_uri": "https://localhost:8080/"
        },
        "id": "Hax_3ltMfUZ3",
        "outputId": "4566da00-2809-4d9c-ed46-0e8e1d1d5b99"
      },
      "execution_count": null,
      "outputs": [
        {
          "output_type": "execute_result",
          "data": {
            "text/plain": [
              "['Sebastião', 'Angélica', 'Leonardo', 'Bárbara']"
            ]
          },
          "metadata": {},
          "execution_count": 70
        }
      ]
    },
    {
      "cell_type": "code",
      "source": [
        "# crie uma lista de notas, imprime as maiores que 6\n",
        "notas = [3, 4, 9, 8, 6, 7]\n",
        "newNotas = list(filter(lambda x : x >= 6, notas ))\n",
        "\n",
        "newNotas\n"
      ],
      "metadata": {
        "colab": {
          "base_uri": "https://localhost:8080/"
        },
        "id": "_JwLvTkcF6Yp",
        "outputId": "74c1b906-01f3-4a66-baf5-125af50c7d26"
      },
      "execution_count": null,
      "outputs": [
        {
          "output_type": "execute_result",
          "data": {
            "text/plain": [
              "[9, 8, 7]"
            ]
          },
          "metadata": {},
          "execution_count": 73
        }
      ]
    },
    {
      "cell_type": "markdown",
      "source": [
        "* Exercícios usando map() e filter()\n",
        "1. Dada uma lista de números, retorne uma lista contendo o quadrado de cada número.\n",
        "2. Dada uma lista de nomes, retorne uma lista contendo o tamanho de cada nome.\n",
        "3. Dada uma lista de números, retorne uma lista contendo apenas os números pares.\n",
        "4. Dada uma lista de nomes, retorne uma lista contendo apenas os nomes que começam com a letra \"A\".\n",
        "5. Recebe uma lista com notas de alunos, retorna apenas os aprovados (nota maior ou igual a 7)\n",
        "6. Recebe uma lista de nomes, retorna apenas os que começam com vogal\n",
        "7. Escreva uma função que recebe uma lista de números e retorna uma nova lista contendo apenas os números que são divisíveis por 3 e 5.\n",
        "8. Escreva uma função que recebe uma lista de strings e retorna uma nova lista contendo apenas as strings que começam com uma letra maiúscula.\n",
        "9. Recebe uma lista de strings, e retorna uma lista apenas com as iniciais de cada string.\n",
        "10. Escreva uma função que recebe uma lista de números e retorna uma nova lista contendo apenas os números pares elevados ao quadrado.\n",
        "\n"
      ],
      "metadata": {
        "id": "pZkMzAT8MIjg"
      }
    },
    {
      "cell_type": "code",
      "source": [
        "#1\n",
        "numeros = [7, 6, 8, 12, 7]\n",
        "\n",
        "new_list = list(map(lambda x : x**2, numeros))\n",
        "new_list"
      ],
      "metadata": {
        "colab": {
          "base_uri": "https://localhost:8080/"
        },
        "id": "8Ff9u89ULu0M",
        "outputId": "e4a1ec0c-29b9-4fe1-b943-cb8f8e372068"
      },
      "execution_count": null,
      "outputs": [
        {
          "output_type": "execute_result",
          "data": {
            "text/plain": [
              "[49, 36, 64, 144, 49]"
            ]
          },
          "metadata": {},
          "execution_count": 16
        }
      ]
    },
    {
      "cell_type": "code",
      "source": [
        "#2 \n",
        "nomes = ['fada', 'ferro', 'miragem', 'atalho', 'nó']\n",
        "\n",
        "new_list = list(map(lambda x : len(x),  nomes))\n",
        "new_list"
      ],
      "metadata": {
        "colab": {
          "base_uri": "https://localhost:8080/"
        },
        "id": "NHB-5vI3MvFs",
        "outputId": "7655c428-6366-434a-be8a-64d119608147"
      },
      "execution_count": null,
      "outputs": [
        {
          "output_type": "execute_result",
          "data": {
            "text/plain": [
              "[4, 5, 7, 6, 2]"
            ]
          },
          "metadata": {},
          "execution_count": 19
        }
      ]
    },
    {
      "cell_type": "code",
      "source": [
        "#3\n",
        "numeros = [7, 3, 1, 4, 8, 23, 12]\n",
        "\n",
        "new_list = list(filter(lambda x: x%2==0, numeros ))\n",
        "\n",
        "new_list"
      ],
      "metadata": {
        "colab": {
          "base_uri": "https://localhost:8080/"
        },
        "id": "Xf6f-1L6NFTd",
        "outputId": "41ba7c3f-964b-46cb-a581-d368fb9a2478"
      },
      "execution_count": null,
      "outputs": [
        {
          "output_type": "execute_result",
          "data": {
            "text/plain": [
              "[4, 8, 12]"
            ]
          },
          "metadata": {},
          "execution_count": 25
        }
      ]
    },
    {
      "cell_type": "code",
      "source": [
        "#4\n",
        "nomes = ['fada', 'arado', 'miragem', 'atalho', 'alho']\n",
        "\n",
        "new_list = list(filter(lambda x : x[0] == 'a', nomes))\n",
        "new_list"
      ],
      "metadata": {
        "colab": {
          "base_uri": "https://localhost:8080/"
        },
        "id": "BiU8HE-GN1QE",
        "outputId": "5bc29162-c3e0-426c-97ba-97cb3d96ca2c"
      },
      "execution_count": null,
      "outputs": [
        {
          "output_type": "execute_result",
          "data": {
            "text/plain": [
              "['arado', 'atalho', 'alho']"
            ]
          },
          "metadata": {},
          "execution_count": 24
        }
      ]
    },
    {
      "cell_type": "code",
      "source": [
        "#5 \n",
        "notas = [5, 6.5, 7.5, 9, 8, 2, 6]\n",
        "\n",
        "new_notas = list(filter(lambda x : x >= 7, notas))\n",
        "\n",
        "new_notas"
      ],
      "metadata": {
        "colab": {
          "base_uri": "https://localhost:8080/"
        },
        "id": "rTcB3j4zeywb",
        "outputId": "d2aa836a-a982-41e2-94ae-aa68e3d7b05a"
      },
      "execution_count": null,
      "outputs": [
        {
          "output_type": "execute_result",
          "data": {
            "text/plain": [
              "[7.5, 9, 8]"
            ]
          },
          "metadata": {},
          "execution_count": 29
        }
      ]
    },
    {
      "cell_type": "code",
      "source": [
        "#6\n",
        "palavras = ['zangão', 'batata', 'ameixa', 'estrago', 'fanta', 'unha', 'ovo']\n",
        "\n",
        "new_List = list(filter(lambda x : x[0].upper() in 'AEIOU', palavras))\n",
        "\n",
        "new_List"
      ],
      "metadata": {
        "colab": {
          "base_uri": "https://localhost:8080/"
        },
        "id": "_yWA9BXngB95",
        "outputId": "af2fa33a-8cbf-4c85-f070-fe608404925e"
      },
      "execution_count": null,
      "outputs": [
        {
          "output_type": "execute_result",
          "data": {
            "text/plain": [
              "['ameixa', 'estrago', 'unha', 'ovo']"
            ]
          },
          "metadata": {},
          "execution_count": 45
        }
      ]
    },
    {
      "cell_type": "code",
      "source": [
        "#7\n",
        "numeros = [2, 3, 15, 30, 23, 60, 2, 45]\n",
        "\n",
        "new_list = list(filter(lambda x : x%3 == 0 and x%5== 0, numeros))\n",
        "new_list"
      ],
      "metadata": {
        "colab": {
          "base_uri": "https://localhost:8080/"
        },
        "id": "S4ao0kSYoypJ",
        "outputId": "0fab55ce-2aa9-4897-bd27-d0c906a84aa1"
      },
      "execution_count": null,
      "outputs": [
        {
          "output_type": "execute_result",
          "data": {
            "text/plain": [
              "[15, 30, 60, 45]"
            ]
          },
          "metadata": {},
          "execution_count": 46
        }
      ]
    },
    {
      "cell_type": "code",
      "source": [
        "#8\n",
        "nomes = ['zangão', 'Zico', 'ameixa', 'Flamengo', 'fanta', 'unha', 'ovo']\n",
        "\n",
        "new_List = list(filter(lambda x : x[0].isupper(), nomes))\n",
        "\n",
        "new_List"
      ],
      "metadata": {
        "colab": {
          "base_uri": "https://localhost:8080/"
        },
        "id": "_SvztrCRkcZI",
        "outputId": "b0894e67-d096-4202-c311-01112a5145e9"
      },
      "execution_count": null,
      "outputs": [
        {
          "output_type": "execute_result",
          "data": {
            "text/plain": [
              "['Zico', 'Flamengo']"
            ]
          },
          "metadata": {},
          "execution_count": 41
        }
      ]
    },
    {
      "cell_type": "code",
      "source": [
        "#9\n",
        "\n",
        "iniciais = list(map(lambda x : x[0], nomes))\n",
        "\n",
        "iniciais"
      ],
      "metadata": {
        "colab": {
          "base_uri": "https://localhost:8080/"
        },
        "id": "RfM2bR4plajF",
        "outputId": "ea417567-6cf5-4749-d730-b95707849b49"
      },
      "execution_count": null,
      "outputs": [
        {
          "output_type": "execute_result",
          "data": {
            "text/plain": [
              "['z', 'Z', 'a', 'F', 'f', 'u', 'o']"
            ]
          },
          "metadata": {},
          "execution_count": 43
        }
      ]
    },
    {
      "cell_type": "code",
      "source": [
        "#Escreva uma função que recebe uma lista de números e retorna uma nova lista contendo apenas os números pares elevados ao quadrado.\n",
        "\n",
        "lista = [2, 3, 4, 1, 23, 6, 3]\n",
        "\n",
        "pares_quadrados = list(map(lambda x : x**2, filter(lambda y : y%2==0, lista)))\n",
        "\n",
        "pares_quadrados"
      ],
      "metadata": {
        "colab": {
          "base_uri": "https://localhost:8080/"
        },
        "id": "PwbfeMy-mO_g",
        "outputId": "a82ce3ed-6975-42b6-fef5-b4825ef61394"
      },
      "execution_count": null,
      "outputs": [
        {
          "output_type": "execute_result",
          "data": {
            "text/plain": [
              "[4, 16, 36]"
            ]
          },
          "metadata": {},
          "execution_count": 44
        }
      ]
    },
    {
      "cell_type": "markdown",
      "source": [
        "- exercícios extra\n",
        "1. Escreva uma função que recebe uma lista de números e retorna uma nova lista contendo apenas os números positivos.\n",
        "2. Escreva uma função que recebe uma lista de números e retorna uma nova lista contendo apenas os números divisíveis por 3.\n",
        "3. Escreva uma função que recebe uma lista de strings e retorna uma nova lista contendo as strings em ordem reversa.\n",
        "4. Escreva uma função que recebe uma lista de números e retorna uma nova lista contendo o cubo de cada número ímpar."
      ],
      "metadata": {
        "id": "APClCOdsn3K-"
      }
    }
  ]
}