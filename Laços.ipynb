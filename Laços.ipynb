{
  "nbformat": 4,
  "nbformat_minor": 0,
  "metadata": {
    "colab": {
      "provenance": [],
      "authorship_tag": "ABX9TyPMcOhepmoZWr3U0jOCgEbP",
      "include_colab_link": true
    },
    "kernelspec": {
      "name": "python3",
      "display_name": "Python 3"
    },
    "language_info": {
      "name": "python"
    }
  },
  "cells": [
    {
      "cell_type": "markdown",
      "metadata": {
        "id": "view-in-github",
        "colab_type": "text"
      },
      "source": [
        "<a href=\"https://colab.research.google.com/github/ramonparaiba/Aulas-Logica-de-Programcao-e-Algoritmos/blob/main/La%C3%A7os.ipynb\" target=\"_parent\"><img src=\"https://colab.research.google.com/assets/colab-badge.svg\" alt=\"Open In Colab\"/></a>"
      ]
    },
    {
      "cell_type": "markdown",
      "source": [
        "#Laços For While"
      ],
      "metadata": {
        "id": "Lgq81KTgKHoR"
      }
    },
    {
      "cell_type": "markdown",
      "source": [
        "## Revisão"
      ],
      "metadata": {
        "id": "7xhyr07ZKMnN"
      }
    },
    {
      "cell_type": "code",
      "execution_count": null,
      "metadata": {
        "id": "dNvw_ZGHKGNY"
      },
      "outputs": [],
      "source": [
        "num = int(input('Digite um numero, otaro! '))\n",
        "if num % 2 == 0:\n",
        "  print('É par')\n",
        "else:\n",
        "  print('É impar')"
      ]
    },
    {
      "cell_type": "code",
      "source": [
        "num1 = int(input('Digite um numero: '))\n",
        "num2 = int(input('Digite outro numero: '))\n",
        "\n",
        "if num1 > num2:\n",
        "  print(f'O número {num1} é maior')\n",
        "elif num1 < num2:\n",
        "  print(f'O número {num2} é maior')\n",
        "else:\n",
        "  print('Eles são iguaizinhos!')"
      ],
      "metadata": {
        "id": "r3BRNqIoR9lN"
      },
      "execution_count": null,
      "outputs": []
    },
    {
      "cell_type": "markdown",
      "source": [
        "##  que aconteceria se quiséssemos exibir os números de 1 a 10 na tela? Como faríamos isso sem escrever print(1), print(2), ..., print(10) manualmente?\n",
        "\n"
      ],
      "metadata": {
        "id": "haQEtKJaLGIV"
      }
    },
    {
      "cell_type": "code",
      "source": [],
      "metadata": {
        "id": "6cxyh7ZfLMQD"
      },
      "execution_count": null,
      "outputs": []
    },
    {
      "cell_type": "markdown",
      "source": [
        "## O **while** repete uma ação enquanto uma condição for verdadeira."
      ],
      "metadata": {
        "id": "PFsWfDgSLSRP"
      }
    },
    {
      "cell_type": "code",
      "source": [
        "#Contador simples\n",
        "\n",
        "contador = 0\n",
        "while contador < 10:\n",
        "  print(contador)\n",
        "  contador = contador + 1\n",
        "\n",
        ""
      ],
      "metadata": {
        "id": "ZmworEDaLUeD"
      },
      "execution_count": null,
      "outputs": []
    },
    {
      "cell_type": "markdown",
      "source": [
        "### Exercício\n",
        "* Modifique o código para contar de 1 a 20.\n",
        "* Faça o código contar de 10 a 1.\n",
        "\n",
        "### Desafio\n",
        "* Escreva um programa que imprime apenas os números pares de 1 a 10 usando while."
      ],
      "metadata": {
        "id": "Bzgb0bDPLfwE"
      }
    },
    {
      "cell_type": "code",
      "source": [
        "cont = 10\n",
        "\n",
        "while cont > 0:\n",
        "  print (cont)\n",
        "  cont -= 1"
      ],
      "metadata": {
        "id": "1hN6pixgW9DG"
      },
      "execution_count": null,
      "outputs": []
    },
    {
      "cell_type": "code",
      "source": [
        "cont = 0\n",
        "while cont < 10:\n",
        "  cont += 1\n",
        "  if cont % 2 == 0:\n",
        "    print(cont)"
      ],
      "metadata": {
        "id": "P-0aLwH_XtK2"
      },
      "execution_count": null,
      "outputs": []
    },
    {
      "cell_type": "code",
      "source": [
        "#Pede um número, Retorna o seu quadrado\n",
        "#O programa encerra quando digitar 0\n",
        "#Use WHILE OTARO!\n",
        "num = int(input('Insira um número, queride! '))\n",
        "\n",
        "while num != 0:\n",
        "  print (num**2)\n",
        "  num = int(input('Insira um número, novamente! '))"
      ],
      "metadata": {
        "id": "X2vv3zqkY3RY"
      },
      "execution_count": null,
      "outputs": []
    },
    {
      "cell_type": "code",
      "source": [
        "while True:\n",
        "  num = int(input('Insira um número, queride! '))\n",
        "  if num == 0: break\n",
        "  else: print(num**2)"
      ],
      "metadata": {
        "id": "XBtxO8t-bg_g"
      },
      "execution_count": null,
      "outputs": []
    },
    {
      "cell_type": "markdown",
      "source": [
        "## O **for** é mais adequado quando sabemos quantas vezes queremos repetir uma ação.\n",
        "### O range(início, fim, passo) gera números dentro de um intervalo."
      ],
      "metadata": {
        "id": "NvZBYnFpL9GY"
      }
    },
    {
      "cell_type": "code",
      "source": [
        "#Contador com for\n",
        "\n",
        "for numero in range(1, 11):\n",
        "    print(numero)"
      ],
      "metadata": {
        "id": "iaIURX54MN9X"
      },
      "execution_count": null,
      "outputs": []
    },
    {
      "cell_type": "code",
      "source": [
        "#Contagem Regressiva\n",
        "for numero in range(10, 0, -1):\n",
        "    print(numero)"
      ],
      "metadata": {
        "id": "QVMYTfd6MZ3J"
      },
      "execution_count": null,
      "outputs": []
    },
    {
      "cell_type": "markdown",
      "source": [
        "## Exercício\n",
        "* Modifique o código para contar de 1 a 20.\n",
        "* Faça o código para retornar a soma dos números de 1 a 100\n",
        "* Faça o código contar apenas os números ímpares de 1 a 10."
      ],
      "metadata": {
        "id": "I_paL0DFMnjp"
      }
    },
    {
      "cell_type": "code",
      "source": [
        "soma = 0\n",
        "\n",
        "for numero in range(1, 101):\n",
        "  soma += numero\n",
        "\n",
        "print(soma)"
      ],
      "metadata": {
        "id": "XOLIFT2uMsUJ"
      },
      "execution_count": null,
      "outputs": []
    },
    {
      "cell_type": "code",
      "source": [
        "for num in range(1, 11):\n",
        "  if num % 2 != 0:\n",
        "    print(num)"
      ],
      "metadata": {
        "id": "JfVV9g64g4tf"
      },
      "execution_count": null,
      "outputs": []
    },
    {
      "cell_type": "code",
      "source": [],
      "metadata": {
        "id": "zSUYcgI2h9mn"
      },
      "execution_count": null,
      "outputs": []
    },
    {
      "cell_type": "markdown",
      "source": [
        "### Quando usar while e quando usar for?\n",
        "### While:\n",
        "* Usa quando não sabemos exatamente quantas repetições serão feitas\n",
        "* Precisa de um contador manual\n",
        "\n",
        "### For:\n",
        "* Usa quando sabemos quantas vezes repetir\n",
        "* Usa range() para criar contagens\n"
      ],
      "metadata": {
        "id": "LKlzcRQgMyBf"
      }
    },
    {
      "cell_type": "code",
      "source": [
        "#BONUS - Trabalhando com números randomicos\n",
        "import random\n",
        "\n",
        "numero = random.randint(0, 100)\n",
        "print(numero)"
      ],
      "metadata": {
        "id": "HDjQShF7OClN"
      },
      "execution_count": null,
      "outputs": []
    },
    {
      "cell_type": "markdown",
      "source": [
        "## Desafios:\n",
        "* Tabuada - Crie um código que solicita um número e retorna sua tabuada de multiplicaçao.\n",
        "* Faça um programa que peça um número ao usuário e exiba se ele é primo ou não usando um laço.\n",
        "* Faça um jogo de adivinhar número.\n",
        "  * O programa gera um número aleatório entre 0 e 100\n",
        "  * Solicita ao usuário tentar acertar o número gerado.\n",
        "  * Caso o jogador erre, é convidado a tentar mais uma vez\n",
        "  * Caso acerte, o jogo informa em quantas tentativas ele acertou"
      ],
      "metadata": {
        "id": "zpznlmqyNWtS"
      }
    },
    {
      "cell_type": "code",
      "source": [],
      "metadata": {
        "id": "QE8tzehFNJCA"
      },
      "execution_count": null,
      "outputs": []
    }
  ]
}