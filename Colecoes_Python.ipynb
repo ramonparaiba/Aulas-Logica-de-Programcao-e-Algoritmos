{
  "nbformat": 4,
  "nbformat_minor": 0,
  "metadata": {
    "colab": {
      "provenance": [],
      "authorship_tag": "ABX9TyPbcv8CnC7mHLt0ug4+eKKm",
      "include_colab_link": true
    },
    "kernelspec": {
      "name": "python3",
      "display_name": "Python 3"
    },
    "language_info": {
      "name": "python"
    }
  },
  "cells": [
    {
      "cell_type": "markdown",
      "metadata": {
        "id": "view-in-github",
        "colab_type": "text"
      },
      "source": [
        "<a href=\"https://colab.research.google.com/github/ramonparaiba/Aulas-Logica-de-Programcao-e-Algoritmos/blob/main/Colecoes_Python.ipynb\" target=\"_parent\"><img src=\"https://colab.research.google.com/assets/colab-badge.svg\" alt=\"Open In Colab\"/></a>"
      ]
    },
    {
      "cell_type": "markdown",
      "source": [
        "#Listas (list)\n",
        "✅ Características:\n",
        "Ordenadas\n",
        "\n",
        "Mutáveis\n",
        "\n",
        "Permitem duplicatas"
      ],
      "metadata": {
        "id": "a1RygqZYwBm0"
      }
    },
    {
      "cell_type": "code",
      "execution_count": null,
      "metadata": {
        "colab": {
          "base_uri": "https://localhost:8080/"
        },
        "id": "_dQbGwK5v8OJ",
        "outputId": "c1e7aa44-7b7b-4d57-b8f4-a6ce606d4cc2"
      },
      "outputs": [
        {
          "output_type": "stream",
          "name": "stdout",
          "text": [
            "['maçã', 'banana', 'laranja', 'abacate']\n"
          ]
        }
      ],
      "source": [
        "#Imprimir lista\n",
        "\n",
        "frutas = ['maçã', 'banana', 'laranja', 'abacate']\n",
        "print(frutas)\n",
        "\n"
      ]
    },
    {
      "cell_type": "code",
      "source": [
        "#identificar o tamanho de uma lista len(lista)\n",
        "\n",
        "print(len(frutas))"
      ],
      "metadata": {
        "colab": {
          "base_uri": "https://localhost:8080/"
        },
        "id": "boMgiXCfxChK",
        "outputId": "0963ba59-b36f-4da9-8f65-0d137aca35a9"
      },
      "execution_count": null,
      "outputs": [
        {
          "output_type": "stream",
          "name": "stdout",
          "text": [
            "4\n"
          ]
        }
      ]
    },
    {
      "cell_type": "code",
      "source": [
        "# Count() - quantas vezes um valor aparece\n",
        "frutas = ['maçã', 'banana', 'laranja', 'laranja', 'laranja', 'laranja']\n",
        "print(frutas.count('laranja'))"
      ],
      "metadata": {
        "colab": {
          "base_uri": "https://localhost:8080/"
        },
        "id": "r_YhjXwc59Fp",
        "outputId": "56a9690b-2414-4f82-d11d-ecde4195699d"
      },
      "execution_count": null,
      "outputs": [
        {
          "output_type": "stream",
          "name": "stdout",
          "text": [
            "4\n"
          ]
        }
      ]
    },
    {
      "cell_type": "code",
      "source": [
        "#Imprimir elementos da lista pelo índice\n",
        "carros = ['gol', 'uno', 'fiesta', 'lada', 'marajó', 'voyage', 'santana']\n",
        "\n",
        "print(carros[0])  #gol\n",
        "print(carros[1])  #uno\n",
        "print(carros[2])  #fiesta\n",
        "print(carros[-1]) # santana\n",
        "print(carros[2:5]) #Slice do índice 2 ao índice 4\n",
        "print(carros[:4]) #slice até o indice 3\n",
        "print(carros[2:]) #slice a partir do indice 2\n",
        "#print(carros[7]) OUT OF INDEX"
      ],
      "metadata": {
        "id": "xG5PWG69wYTV"
      },
      "execution_count": null,
      "outputs": []
    },
    {
      "cell_type": "code",
      "source": [
        "carros[3:]"
      ],
      "metadata": {
        "colab": {
          "base_uri": "https://localhost:8080/"
        },
        "id": "0wx4i8aAVipj",
        "outputId": "639708a6-795b-4cf7-bc78-8e2b91d320b8"
      },
      "execution_count": null,
      "outputs": [
        {
          "output_type": "execute_result",
          "data": {
            "text/plain": [
              "['lada', 'marajó', 'voyage', 'santana']"
            ]
          },
          "metadata": {},
          "execution_count": 61
        }
      ]
    },
    {
      "cell_type": "code",
      "source": [
        "#Adicioar elementos em uma lista   lista.append('elemento')\n",
        "frutas.append('goiaba')\n",
        "print(frutas)"
      ],
      "metadata": {
        "id": "8OtB6SqYw4Lj"
      },
      "execution_count": null,
      "outputs": []
    },
    {
      "cell_type": "code",
      "source": [
        "#Exercício 1\n",
        "#Faça um código que pede que o usuário digite frutas e\n",
        "#insere uma fruta na lista."
      ],
      "metadata": {
        "id": "6OFseVHbxQLw"
      },
      "execution_count": null,
      "outputs": []
    },
    {
      "cell_type": "code",
      "source": [
        "fruta = input('Por favor insira uma fruta: ')\n",
        "frutas.append(fruta)\n",
        "print(frutas)"
      ],
      "metadata": {
        "colab": {
          "base_uri": "https://localhost:8080/"
        },
        "id": "29avB0v1XNN4",
        "outputId": "ed277473-d0ac-41c5-e938-10619fbd98e5"
      },
      "execution_count": null,
      "outputs": [
        {
          "output_type": "stream",
          "name": "stdout",
          "text": [
            "Por favor insira uma fruta: Graviola\n",
            "['maçã', 'banana', 'laranja', 'laranja', 'laranja', 'laranja', 'Graviola']\n"
          ]
        }
      ]
    },
    {
      "cell_type": "code",
      "source": [
        "#Exercício 2\n",
        "#Faça um laço o qual solicita ao usuário que digite\n",
        "#o nome de um carro para inseri-lo na lista.\n",
        "#Ele para quando o usuário digitar o número 0.\n",
        "#Ao final, imprime a lista e o seu tamanho.\n",
        "\n",
        "carros = []\n",
        "carro = input('Digite o carro: ')\n",
        "while carro != '0':\n",
        "  carros.append(carro)\n",
        "  carro = input('Digite o carro: ')\n",
        "print(carros)\n",
        "print(len(carros))"
      ],
      "metadata": {
        "id": "VYVpHcj9x_Il"
      },
      "execution_count": null,
      "outputs": []
    },
    {
      "cell_type": "code",
      "source": [
        "carros = []\n",
        "while True:\n",
        "  carro = input('Digite o carro: ')\n",
        "  if carro == '0':\n",
        "    break\n",
        "  carros.append(carro)\n",
        "\n",
        "print(carros)\n",
        "print(len(carros))"
      ],
      "metadata": {
        "id": "XvGvJU1Ta_TT"
      },
      "execution_count": null,
      "outputs": []
    },
    {
      "cell_type": "code",
      "source": [
        "#Exercício 3\n",
        "#Escreva um programa pyton que tem uma lista de valores, e o usuário deve digitar um valor\n",
        "#caso ele exista na lista, ela retorna a quantidade de vezes que ela ocorre na lista\n",
        "#caso não exista, ela informa ao usuário \"Numero não existe na lista\".\n",
        "lista = [2, 4, 5, 2, 3, 7, 8, 2, 5]"
      ],
      "metadata": {
        "id": "kLvYRpYe82j7"
      },
      "execution_count": null,
      "outputs": []
    },
    {
      "cell_type": "code",
      "source": [
        "numero = int(input('Digite um número: '))\n",
        "if numero in lista:\n",
        "  print(lista.count(numero))\n",
        "else:\n",
        "  print('numero não existe na lista')"
      ],
      "metadata": {
        "id": "KVsjQKJ_cexy"
      },
      "execution_count": null,
      "outputs": []
    },
    {
      "cell_type": "markdown",
      "source": [],
      "metadata": {
        "id": "Nnsrqhp0bqGz"
      }
    },
    {
      "cell_type": "markdown",
      "source": [
        "##Removendo valores"
      ],
      "metadata": {
        "id": "ONWds7fny9Uz"
      }
    },
    {
      "cell_type": "code",
      "source": [
        "carros = ['gol', 'uno', 'fiesta', 'lada', 'marajó', 'voyage', 'santana']"
      ],
      "metadata": {
        "id": "AQrE_2oQd0lI"
      },
      "execution_count": null,
      "outputs": []
    },
    {
      "cell_type": "code",
      "source": [
        "#pop()\n",
        "carros.pop(3)\n",
        "print(carros)"
      ],
      "metadata": {
        "colab": {
          "base_uri": "https://localhost:8080/"
        },
        "id": "-D0VTrcsyiYF",
        "outputId": "12d37c42-e438-41ac-e2e3-bbd8f9b2beff"
      },
      "execution_count": null,
      "outputs": [
        {
          "output_type": "stream",
          "name": "stdout",
          "text": [
            "['gol', 'uno', 'fiesta', 'marajó', 'voyage', 'santana']\n"
          ]
        }
      ]
    },
    {
      "cell_type": "code",
      "source": [
        "#pop pelo índice\n",
        "lista = [\"maçã\", \"banana\", \"laranja\"]\n",
        "indice = lista.index(\"banana\")  # Encontra o índice de \"banana\"\n",
        "lista.pop(indice)  # Remove pelo índice\n",
        "print(lista)  # Saída: ['maçã', 'laranja']"
      ],
      "metadata": {
        "colab": {
          "base_uri": "https://localhost:8080/"
        },
        "id": "IUaBwtjxzIwV",
        "outputId": "479bb7e8-9db4-444b-9bc1-502d8bfa0a61"
      },
      "execution_count": null,
      "outputs": [
        {
          "output_type": "stream",
          "name": "stdout",
          "text": [
            "['maçã', 'laranja']\n"
          ]
        }
      ]
    },
    {
      "cell_type": "code",
      "source": [
        "#del list[index]\n",
        "nums = [4, 5, 3, 2, 6, 8]\n",
        "\n",
        "del nums[3]\n",
        "print(nums)"
      ],
      "metadata": {
        "colab": {
          "base_uri": "https://localhost:8080/"
        },
        "collapsed": true,
        "id": "PZ44-NHrz3QQ",
        "outputId": "da1c771f-9516-4fdf-9cf2-9eba1a04cb89"
      },
      "execution_count": null,
      "outputs": [
        {
          "output_type": "stream",
          "name": "stdout",
          "text": [
            "[4, 5, 3, 6, 8]\n"
          ]
        }
      ]
    },
    {
      "cell_type": "code",
      "source": [
        "#remove() - remove a primeira ocorrencia do valor especificado\n",
        "lista = ['jaca', 'melão', 'manga', 'graviola', 'jaca']\n",
        "\n",
        "lista.remove('jaca')\n",
        "print(lista)\n"
      ],
      "metadata": {
        "colab": {
          "base_uri": "https://localhost:8080/"
        },
        "id": "Mx-BZEXh16p4",
        "outputId": "a4c0eeb8-1c09-4eeb-96ef-0efb774784f5"
      },
      "execution_count": null,
      "outputs": [
        {
          "output_type": "stream",
          "name": "stdout",
          "text": [
            "['melão', 'manga', 'graviola', 'jaca']\n"
          ]
        }
      ]
    },
    {
      "cell_type": "code",
      "source": [
        "#list comprehension\n",
        "lista = ['jaca', 'melão', 'manga', 'graviola', 'jaca', 'maça', 'banana', 'jaca']\n",
        "\n",
        "fruta_remover = 'jaca'\n",
        "\n",
        "lista = [x for x in lista if x != fruta_remover]\n",
        "\n",
        "print(lista)"
      ],
      "metadata": {
        "colab": {
          "base_uri": "https://localhost:8080/"
        },
        "id": "ZGjXhajw26jp",
        "outputId": "cae21d6e-6d91-4a3f-b490-18678dd7eec8"
      },
      "execution_count": null,
      "outputs": [
        {
          "output_type": "stream",
          "name": "stdout",
          "text": [
            "['melão', 'manga', 'graviola', 'maça', 'banana']\n"
          ]
        }
      ]
    },
    {
      "cell_type": "code",
      "source": [
        "#na lista de notas a seguir, mantenha apenas as que\n",
        "#são maiores ou iguais a seis. use list comprehension\n",
        "notas = [6, 8, 5, 4, 7, 7, 9, 3, 6]"
      ],
      "metadata": {
        "id": "RyNOxIThhC8m"
      },
      "execution_count": null,
      "outputs": []
    },
    {
      "cell_type": "code",
      "source": [
        "notas = [x for x in notas if x >= 6]\n",
        "\n",
        "print(notas)"
      ],
      "metadata": {
        "colab": {
          "base_uri": "https://localhost:8080/"
        },
        "id": "bRjKD9DsiZHH",
        "outputId": "5aec12da-4519-4f15-c004-a03da8fed0e6"
      },
      "execution_count": null,
      "outputs": [
        {
          "output_type": "stream",
          "name": "stdout",
          "text": [
            "[6, 8, 7, 7, 9, 6]\n"
          ]
        }
      ]
    },
    {
      "cell_type": "markdown",
      "source": [
        "### Exercício\n",
        "Crie um program que simula uma lista de tarefas. O programa deve exibir um menu com 4 opções:\n",
        "1. Adicionar tarefa\n",
        "2. Remover tarefa\n",
        "3. Listar tarefas\n",
        "4. Sair\n",
        "\n",
        "O programa deve continuar exibindo o menu até o usuário escolher a opção de sair.\n",
        "\n"
      ],
      "metadata": {
        "id": "GI9I-Fh4i0sU"
      }
    },
    {
      "cell_type": "markdown",
      "source": [
        "### Revisão List comprehension\n",
        "\n",
        "É uma forma concisa e elegante de criar listas em Python a partir de iteráveis (como listas, ranges, etc.), aplicando transformações e condições."
      ],
      "metadata": {
        "id": "GkqLusoDQXJo"
      }
    },
    {
      "cell_type": "code",
      "source": [
        "lista = [ação/valor for x in lista2 condição]"
      ],
      "metadata": {
        "id": "3MA2Va3aZemp"
      },
      "execution_count": null,
      "outputs": []
    },
    {
      "cell_type": "code",
      "source": [
        "notas = [8, 9, 4, 3, 6]\n",
        "#as notas maiores que 7\n",
        "maiores = [nota for nota in notas if nota > 7]\n",
        "print(maiores)"
      ],
      "metadata": {
        "colab": {
          "base_uri": "https://localhost:8080/"
        },
        "id": "BCSojl6RZxOS",
        "outputId": "8af8d595-9621-49e8-9e4c-7204be777633"
      },
      "execution_count": 48,
      "outputs": [
        {
          "output_type": "stream",
          "name": "stdout",
          "text": [
            "[8, 9]\n"
          ]
        }
      ]
    },
    {
      "cell_type": "code",
      "source": [
        "#Que exibe as notas menores que 5"
      ],
      "metadata": {
        "id": "3pv4BHYLaSZ9"
      },
      "execution_count": null,
      "outputs": []
    },
    {
      "cell_type": "code",
      "source": [],
      "metadata": {
        "id": "oXB8dCwJbM09"
      },
      "execution_count": null,
      "outputs": []
    },
    {
      "cell_type": "code",
      "source": [
        "# Criar uma lista com os quadrados dos números de 0 a 9\n",
        "quadrados = [x**2 for x in range(10)]\n",
        "print(quadrados)"
      ],
      "metadata": {
        "colab": {
          "base_uri": "https://localhost:8080/"
        },
        "id": "WsputFl-5h9Y",
        "outputId": "3dddc728-f280-45ff-a480-882ef646b11a"
      },
      "execution_count": 32,
      "outputs": [
        {
          "output_type": "stream",
          "name": "stdout",
          "text": [
            "[0, 1, 4, 9, 16, 25, 36, 49, 64, 81]\n"
          ]
        }
      ]
    },
    {
      "cell_type": "code",
      "source": [
        "#List Comprehension com Condicional\n",
        "# Filtrar apenas os números pares de uma lista\n",
        "numeros = [1, 2, 3, 4, 5, 6]\n",
        "pares = [n for n in numeros if n % 2 == 0]\n",
        "print(pares)\n",
        "\n",
        "\n",
        "\n"
      ],
      "metadata": {
        "colab": {
          "base_uri": "https://localhost:8080/"
        },
        "id": "mdfIOMiZQhj_",
        "outputId": "70c41095-3bcc-437d-c840-c56a8ad0521b"
      },
      "execution_count": 38,
      "outputs": [
        {
          "output_type": "stream",
          "name": "stdout",
          "text": [
            "[2, 4, 6]\n"
          ]
        }
      ]
    },
    {
      "cell_type": "code",
      "source": [
        "#Strings\n",
        "nome = 'Pablo'\n",
        "for letra in nome:\n",
        "  print(letra)\n",
        "\n",
        "print(len(nome)) #Imprime o tamanho da string\n",
        "print(nome.upper())  #Todos os caracteres maiúsculos\n",
        "print(nome.lower()) #Todos os caracteres minusculos"
      ],
      "metadata": {
        "id": "-7W-A1bgdtOA"
      },
      "execution_count": null,
      "outputs": []
    },
    {
      "cell_type": "code",
      "source": [
        "nomes = ['João', 'Ana', 'Epaminondas', 'Godofredo', 'Lair', 'Setembrino']\n",
        "\n",
        "maisDe5 = [ nome for nome in nomes if len(nome) > 4]\n",
        "print(maisDe5)\n"
      ],
      "metadata": {
        "colab": {
          "base_uri": "https://localhost:8080/"
        },
        "id": "uFeC5vLIej-x",
        "outputId": "ac2c643d-1e22-43c6-853c-17bd29d1a68b"
      },
      "execution_count": 58,
      "outputs": [
        {
          "output_type": "stream",
          "name": "stdout",
          "text": [
            "['Epaminondas', 'Godofredo', 'Setembrino']\n"
          ]
        }
      ]
    },
    {
      "cell_type": "code",
      "source": [
        "#Caixa alta os nomes com 4 letras ou menos\n",
        "caixaAlta = [nome.upper() for nome in nomes if len(nome) < 5 ]\n",
        "print(caixaAlta)"
      ],
      "metadata": {
        "colab": {
          "base_uri": "https://localhost:8080/"
        },
        "id": "p2W_gKHbg1i4",
        "outputId": "850ac3a1-1c51-43e1-8fbd-6f3fbb3d6406"
      },
      "execution_count": 61,
      "outputs": [
        {
          "output_type": "stream",
          "name": "stdout",
          "text": [
            "['JOÃO', 'ANA', 'LAIR']\n"
          ]
        }
      ]
    },
    {
      "cell_type": "code",
      "source": [
        "# Dobrar os números ímpares de uma lista\n",
        "dobro_impares = [n*2 for n in numeros if n % 2 != 0]\n",
        "print(dobro_impares)\n"
      ],
      "metadata": {
        "colab": {
          "base_uri": "https://localhost:8080/"
        },
        "id": "BU8Fjzk6Qy0l",
        "outputId": "267d387c-1019-4c37-9823-8b8ab090faf8"
      },
      "execution_count": 39,
      "outputs": [
        {
          "output_type": "stream",
          "name": "stdout",
          "text": [
            "[2, 6, 10]\n"
          ]
        }
      ]
    },
    {
      "cell_type": "code",
      "source": [
        "# Atribuir 2 pontos as notas menores que 5\n",
        "notas =[9.0, 4.5, 2.3, 6.0, 8.2, 5.3]\n",
        "\n",
        "pontos = [nota+2 for nota in notas if nota < 5]\n",
        "print(pontos)"
      ],
      "metadata": {
        "colab": {
          "base_uri": "https://localhost:8080/"
        },
        "id": "YR2V_jZtiOAY",
        "outputId": "9c9178e9-54bc-49d9-e85c-8a2acaae330e"
      },
      "execution_count": 62,
      "outputs": [
        {
          "output_type": "stream",
          "name": "stdout",
          "text": [
            "[6.5, 4.3]\n"
          ]
        }
      ]
    },
    {
      "cell_type": "markdown",
      "source": [
        "### Exercício\n",
        "1. Crie uma lista com o dobro de cada número\n",
        "2. Transformar uma lista de palavras em letras maiúsculas"
      ],
      "metadata": {
        "id": "mQsfOomuWspa"
      }
    },
    {
      "cell_type": "markdown",
      "source": [
        "### Função Lambda\n",
        "\n",
        "lambda cria funções anônimas, ou seja, sem nome. É usada para escrever funções simples em uma única linha.\n",
        "- Sintaxe\n",
        " - lambda argumentos: expressão"
      ],
      "metadata": {
        "id": "Dz2QWvbkRoU6"
      }
    },
    {
      "cell_type": "code",
      "source": [
        "int soma(a, b){\n",
        "    return a + b\n",
        "}\n",
        "\n",
        "function soma (a, b){\n",
        "    return a + b\n",
        "}\n",
        "\n",
        "def soma(a, b):\n",
        "  return a + b"
      ],
      "metadata": {
        "id": "46i8IhkFkMrq"
      },
      "execution_count": null,
      "outputs": []
    },
    {
      "cell_type": "code",
      "source": [
        "soma = lambda a, b : a+b\n",
        "print(soma(10, 5))"
      ],
      "metadata": {
        "colab": {
          "base_uri": "https://localhost:8080/"
        },
        "id": "CAmb7Hw7km1T",
        "outputId": "079db084-acae-4986-fa53-c4f2dd4b93e3"
      },
      "execution_count": 63,
      "outputs": [
        {
          "output_type": "stream",
          "name": "stdout",
          "text": [
            "15\n"
          ]
        }
      ]
    },
    {
      "cell_type": "code",
      "source": [
        "metade = lambda a : a/2\n",
        "print (metade(9))"
      ],
      "metadata": {
        "colab": {
          "base_uri": "https://localhost:8080/"
        },
        "id": "3WQUsszIlo2s",
        "outputId": "68aa3821-275b-42e1-fb64-78741401d435"
      },
      "execution_count": 64,
      "outputs": [
        {
          "output_type": "stream",
          "name": "stdout",
          "text": [
            "4.5\n"
          ]
        }
      ]
    },
    {
      "cell_type": "code",
      "source": [
        "# Função que soma dois valores\n",
        "soma = lambda x, y: x + y\n",
        "print(soma(3, 5))"
      ],
      "metadata": {
        "colab": {
          "base_uri": "https://localhost:8080/"
        },
        "id": "uQ_CZDLtRqzM",
        "outputId": "49eaa593-560b-45f0-8ad8-b68775b839f9"
      },
      "execution_count": 40,
      "outputs": [
        {
          "output_type": "stream",
          "name": "stdout",
          "text": [
            "8\n"
          ]
        }
      ]
    },
    {
      "cell_type": "markdown",
      "source": [
        "#### Usada frequentemente com funções como map() e filter()."
      ],
      "metadata": {
        "id": "YYIvfSFmSB8Y"
      }
    },
    {
      "cell_type": "markdown",
      "source": [
        "#### map() → Transformar\n",
        "A função map() aplica uma função a cada item de um iterável (como uma lista), retornando um novo iterador com os valores transformados."
      ],
      "metadata": {
        "id": "JjbCuijYTcRQ"
      }
    },
    {
      "cell_type": "code",
      "source": [
        "#list(map(funçãolambda, lista))"
      ],
      "metadata": {
        "id": "IaQnB3rQmRps"
      },
      "execution_count": null,
      "outputs": []
    },
    {
      "cell_type": "code",
      "source": [
        "#Com map\n",
        "numeros = [2,3,4,5,6,7]\n",
        "quadrados = list(map(lambda x: x**2, numeros))\n",
        "print(quadrados)"
      ],
      "metadata": {
        "colab": {
          "base_uri": "https://localhost:8080/"
        },
        "id": "j0dSAYrzSE9h",
        "outputId": "b677447f-1387-4445-ed75-1323be169109"
      },
      "execution_count": 45,
      "outputs": [
        {
          "output_type": "stream",
          "name": "stdout",
          "text": [
            "[4, 9, 16, 25, 36, 49]\n"
          ]
        }
      ]
    },
    {
      "cell_type": "code",
      "source": [
        "#Cria uma lista com o dobro de cada elemento.\n",
        "dobro = list(map(lambda x : x*2, numeros))\n",
        "print(dobro)\n"
      ],
      "metadata": {
        "colab": {
          "base_uri": "https://localhost:8080/"
        },
        "id": "PQLUY_5sXGTf",
        "outputId": "e32c2447-20be-4f21-e6e5-901e9460f217"
      },
      "execution_count": 66,
      "outputs": [
        {
          "output_type": "stream",
          "name": "stdout",
          "text": [
            "[4, 6, 8, 10, 12, 14]\n"
          ]
        }
      ]
    },
    {
      "cell_type": "code",
      "source": [
        "#Converter uma lista de palavras para letras maiúsculas\n",
        "palavras = ['é', 'Hoje', 'my', 'ConsaGrated']\n",
        "Upper = list(map(lambda x : x.upper(), palavras))\n",
        "print(Upper)\n",
        "\n"
      ],
      "metadata": {
        "colab": {
          "base_uri": "https://localhost:8080/"
        },
        "id": "saJKQG5DXPJm",
        "outputId": "4b299b36-7515-4ebc-f4be-f36a0899088f"
      },
      "execution_count": 67,
      "outputs": [
        {
          "output_type": "stream",
          "name": "stdout",
          "text": [
            "['É', 'HOJE', 'MY', 'CONSAGRATED']\n"
          ]
        }
      ]
    },
    {
      "cell_type": "code",
      "source": [
        "#Somar 5 a cada número de uma lista"
      ],
      "metadata": {
        "id": "if6toI7rXmRY"
      },
      "execution_count": null,
      "outputs": []
    },
    {
      "cell_type": "markdown",
      "source": [
        "#### filter() → Selecionar\n",
        "A função filter() aplica uma função que retorna True ou False a cada item de um iterável, mantendo apenas os que retornam True."
      ],
      "metadata": {
        "id": "HoT65KqPTlIb"
      }
    },
    {
      "cell_type": "code",
      "source": [
        "numeros = [1, 2, 3, 4]\n",
        "pares = list(filter(lambda x: x % 2 == 0, numeros))\n",
        "print(pares)  # [2, 4]"
      ],
      "metadata": {
        "id": "56nblqhTTmmy"
      },
      "execution_count": null,
      "outputs": []
    },
    {
      "cell_type": "code",
      "source": [
        "#Filtrar apenas palavras com mais de 4 letras\n",
        "nomes = ['Cristiano', 'Alien', 'Ary', 'Bete', 'Já']\n",
        "\n",
        "mais4Letras = list(filter(lambda x: len(x)>4, nomes))\n",
        "print(mais4Letras)\n"
      ],
      "metadata": {
        "colab": {
          "base_uri": "https://localhost:8080/"
        },
        "id": "4XygbN52YBPK",
        "outputId": "a87246aa-e4d7-4537-aa44-f077af510174"
      },
      "execution_count": 69,
      "outputs": [
        {
          "output_type": "stream",
          "name": "stdout",
          "text": [
            "['Cristiano', 'Alien']\n"
          ]
        }
      ]
    },
    {
      "cell_type": "code",
      "source": [
        "#Filtrar números maiores que 10\n",
        "nums = [2, 4, 55, 6, 11, 89]\n",
        "dezOuMais = list(filter(lambda x : x > 10, nums))\n",
        "print(dezOuMais)"
      ],
      "metadata": {
        "colab": {
          "base_uri": "https://localhost:8080/"
        },
        "id": "saYUby4iYSxt",
        "outputId": "b14ef882-70b0-426b-c16e-c2a4e380afcf"
      },
      "execution_count": 72,
      "outputs": [
        {
          "output_type": "stream",
          "name": "stdout",
          "text": [
            "[55, 11, 89]\n"
          ]
        }
      ]
    },
    {
      "cell_type": "markdown",
      "source": [
        "### Exercícios -\n",
        "Dada a lista abaixo:\n",
        "numeros = [3, 7, 2, 8, 1, 4, 10]\n",
        "\n",
        "- Responda às seguintes questões e implemente o código correspondente:\n",
        "1. Dobrar todos os números da lista.\n",
        "- Você deve usar map() ou filter()?\n",
        "- Escreva o código.\n",
        "\n",
        "2. Selecionar apenas os números pares.\n",
        "- Você deve usar map() ou filter()?\n",
        "- Escreva o código.\n",
        "\n",
        "3. Criar uma nova lista onde os números pares são dobrados e os ímpares permanecem iguais.\n",
        "- Qual estrutura você usaria: map() ou filter() ou list comprehension?\n",
        "- Escreva o código.\n",
        "\n"
      ],
      "metadata": {
        "id": "YU7fM_jYT9xn"
      }
    },
    {
      "cell_type": "code",
      "source": [
        "for num in numeros:\n",
        "  if num % 2 == 0:\n",
        "    print(num*2)\n",
        "  else:\n",
        "    print(num)"
      ],
      "metadata": {
        "colab": {
          "base_uri": "https://localhost:8080/"
        },
        "id": "j98N_IMEvlab",
        "outputId": "1e21126d-18c9-4c04-c9c1-a391ff032815"
      },
      "execution_count": 76,
      "outputs": [
        {
          "output_type": "stream",
          "name": "stdout",
          "text": [
            "3\n",
            "7\n",
            "4\n",
            "16\n",
            "1\n",
            "8\n",
            "20\n"
          ]
        }
      ]
    },
    {
      "cell_type": "code",
      "source": [
        "numeros = [3, 7, 2, 8, 1, 4, 10]\n",
        "dobrar = list(map(lambda x : x*2, numeros))\n",
        "print(dobrar)\n",
        "\n",
        "selecionaPares = list(filter(lambda x : x % 2 == 0, numeros))\n",
        "print(selecionaPares)\n",
        "\n",
        "paresImpares = [n*2 if n % 2 == 0\n",
        "                else n\n",
        "                for n in numeros]\n",
        "print(paresImpares)\n",
        "\n",
        "\n",
        "\n",
        "\n",
        "\n",
        "\n",
        "\n"
      ],
      "metadata": {
        "colab": {
          "base_uri": "https://localhost:8080/"
        },
        "id": "3zBdC5vnu1pZ",
        "outputId": "d0640712-5ce0-4c37-e568-615f90624263"
      },
      "execution_count": 77,
      "outputs": [
        {
          "output_type": "stream",
          "name": "stdout",
          "text": [
            "[6, 14, 4, 16, 2, 8, 20]\n",
            "[2, 8, 4, 10]\n",
            "[3, 7, 4, 16, 1, 8, 20]\n"
          ]
        }
      ]
    },
    {
      "cell_type": "code",
      "source": [
        "numeros = [3, 7, 2, 8, 1, 4, 10]\n",
        "\n",
        "# 1. Dobrar todos os números → usar map\n",
        "dobrados = list(map(lambda x: x * 2, numeros))\n",
        "\n",
        "# 2. Filtrar apenas pares → usar filter\n",
        "pares = list(filter(lambda x: x % 2 == 0, numeros))\n",
        "\n",
        "# 3. Dobrar pares, manter ímpares → usar list comprehension\n",
        "misturado = [x * 2 if x % 2 == 0 else x for x in numeros]\n",
        "\n",
        "print(\"Dobrados:\", dobrados)\n",
        "print(\"Pares:\", pares)\n",
        "print(\"Misturado:\", misturado)"
      ],
      "metadata": {
        "id": "Zc7U83rzUk1n"
      },
      "execution_count": null,
      "outputs": []
    },
    {
      "cell_type": "markdown",
      "source": [],
      "metadata": {
        "id": "ydhHx77-TvvY"
      }
    },
    {
      "cell_type": "markdown",
      "source": [
        "## Dicionários (dict) { }\n",
        "- Os dicionários (dict) em Python são estruturas de dados mutáveis que armazenam pares de chave-valor. Eles são ideais para mapeamentos rápidos e eficientes, como bancos de dados simples ou configurações."
      ],
      "metadata": {
        "id": "gPG-wGTq7Igp"
      }
    },
    {
      "cell_type": "code",
      "source": [
        "dicionario_vazio = {}                     # Dicionário vazio\n",
        "dicionario = {\n",
        "    \"nome\": \"João\",\n",
        "    \"idade\": 25\n",
        "    } # Chave: valor\n",
        "dicionario_misto = {1: \"a\", True: \"b\"}    # Chaves podem ser números/booleanos\n",
        "\n",
        "#Chaves devem ser únicas e imutáveis (strings, números, tuplas).\n",
        "#Valores podem ser de qualquer tipo (listas, outros dicionários, etc.)."
      ],
      "metadata": {
        "id": "4cYqsOXo7Rwe"
      },
      "execution_count": 1,
      "outputs": []
    },
    {
      "cell_type": "markdown",
      "source": [
        "### Acessar valores"
      ],
      "metadata": {
        "id": "6UkX7ASs7e4q"
      }
    },
    {
      "cell_type": "code",
      "source": [
        "#Método direto (com erro se a chave não existir)\n",
        "\n",
        "dados = {\"nome\": \"Maria\", \"idade\": 30}\n",
        "print(dados[\"nome\"])   # Saída: Maria\n",
        "# print(dados[\"telefone\"])  # KeyError (chave não existe)\n",
        "print(dados)"
      ],
      "metadata": {
        "id": "aFuGquQo7cEU",
        "colab": {
          "base_uri": "https://localhost:8080/"
        },
        "outputId": "bdcba422-5934-497a-87c7-364921c44f15"
      },
      "execution_count": 3,
      "outputs": [
        {
          "output_type": "stream",
          "name": "stdout",
          "text": [
            "Maria\n",
            "{'nome': 'Maria', 'idade': 30}\n"
          ]
        }
      ]
    },
    {
      "cell_type": "markdown",
      "source": [
        "## Exercício 1- Crie um dicionário chamado livro com as seguintes informações:\n",
        "\n",
        "- título\n",
        "- autor\n",
        "- ano de publicação\n",
        "\n",
        "Imprima o dicionário na tela."
      ],
      "metadata": {
        "id": "BLbff82uKcgZ"
      }
    },
    {
      "cell_type": "markdown",
      "source": [
        "### Acessando Valores"
      ],
      "metadata": {
        "id": "nPCl8EHuKtan"
      }
    },
    {
      "cell_type": "code",
      "source": [
        "aluno = {\n",
        "    \"nome\": \"João\",\n",
        "    \"idade\": 20,\n",
        "    \"curso\": \"Engenharia\"\n",
        "}"
      ],
      "metadata": {
        "id": "k2TgHUilLEwf"
      },
      "execution_count": 19,
      "outputs": []
    },
    {
      "cell_type": "code",
      "source": [
        "print(aluno[\"nome\"])  # João\n"
      ],
      "metadata": {
        "colab": {
          "base_uri": "https://localhost:8080/"
        },
        "id": "T3hqsFpUKzXR",
        "outputId": "4cbb7ae0-45d7-4fb2-fcc7-069afc8dc23a"
      },
      "execution_count": 8,
      "outputs": [
        {
          "output_type": "stream",
          "name": "stdout",
          "text": [
            "João\n"
          ]
        }
      ]
    },
    {
      "cell_type": "code",
      "source": [
        "#Método get() (retorna None ou valor padrão se não existir evitando erros)\n",
        "\n",
        "print(dados.get(\"nome\"))        # Saída: Maria\n",
        "print(dados.get(\"telefone\"))    # Saída: None\n",
        "print(dados.get(\"telefone\", \"Não informado\"))  # Saída: \"Não informado\"\n",
        "\n"
      ],
      "metadata": {
        "id": "88gwHvtc7xM4"
      },
      "execution_count": null,
      "outputs": []
    },
    {
      "cell_type": "markdown",
      "source": [
        "### Exercício 2 - Acesso Seguro\n",
        "Utilize o método .get() para acessar o valor da chave editora no dicionário livro criado anteriormente. Forneça um valor padrão \"Desconhecida\"."
      ],
      "metadata": {
        "id": "HSG_iTgPMjK1"
      }
    },
    {
      "cell_type": "markdown",
      "source": [
        "### Adicionar ou Modificar Itens"
      ],
      "metadata": {
        "id": "uXkOkzBu7_CE"
      }
    },
    {
      "cell_type": "code",
      "source": [
        "aluno[\"matricula\"] = \"12345\"\n",
        "aluno[\"idade\"] = 21\n",
        "print(aluno)"
      ],
      "metadata": {
        "id": "alKIy72b8Ap4",
        "colab": {
          "base_uri": "https://localhost:8080/"
        },
        "outputId": "ed6787a1-071c-4969-adaa-21b2225d6a4a"
      },
      "execution_count": 20,
      "outputs": [
        {
          "output_type": "stream",
          "name": "stdout",
          "text": [
            "{'nome': 'João', 'idade': 21, 'curso': 'Engenharia', 'matricula': '12345'}\n"
          ]
        }
      ]
    },
    {
      "cell_type": "markdown",
      "source": [
        "### Exercício 3\n",
        "Adicione a chave editora ao dicionário livro e depois atualize o ano de publicação para 2023."
      ],
      "metadata": {
        "id": "PWbRkqwrLeU4"
      }
    },
    {
      "cell_type": "markdown",
      "source": [
        "### Remoção de itens"
      ],
      "metadata": {
        "id": "klggpe3-8GKv"
      }
    },
    {
      "cell_type": "code",
      "source": [
        "#del (remove pela chave, com erro se não existir)\n",
        "del aluno[\"curso\"]\n",
        "print(aluno)\n"
      ],
      "metadata": {
        "id": "RUXgmZZw8IiE",
        "colab": {
          "base_uri": "https://localhost:8080/"
        },
        "outputId": "07e5e143-4d92-4dbf-febf-61908e455270"
      },
      "execution_count": 16,
      "outputs": [
        {
          "output_type": "stream",
          "name": "stdout",
          "text": [
            "{'nome': 'João', 'idade': 21, 'matricula': '12345'}\n"
          ]
        }
      ]
    },
    {
      "cell_type": "code",
      "source": [
        "#pop() (remove e retorna o valor, pode definir padrão)\n",
        "\n",
        "aluno.pop(\"curso\", 0)\n",
        "print(aluno)\n"
      ],
      "metadata": {
        "id": "fAs7mN4A8Q1v",
        "colab": {
          "base_uri": "https://localhost:8080/"
        },
        "outputId": "c1578f3d-f0ad-4d7f-c62e-c7377bc5291a"
      },
      "execution_count": 21,
      "outputs": [
        {
          "output_type": "stream",
          "name": "stdout",
          "text": [
            "{'nome': 'João', 'idade': 21, 'matricula': '12345'}\n"
          ]
        }
      ]
    },
    {
      "cell_type": "code",
      "source": [
        "#popitem() (remove e retorna o último item adicionado)\n",
        "\n",
        "item = aluno.popitem()\n",
        "print(item)  # Saída: ('nome', 'Ana')"
      ],
      "metadata": {
        "id": "Po80QzHe8lm6",
        "colab": {
          "base_uri": "https://localhost:8080/"
        },
        "outputId": "fab78c45-a0d2-4b01-8be9-39986384e63a"
      },
      "execution_count": 22,
      "outputs": [
        {
          "output_type": "stream",
          "name": "stdout",
          "text": [
            "('matricula', '12345')\n"
          ]
        }
      ]
    },
    {
      "cell_type": "code",
      "source": [
        "#clear() (limpa todo o dicionário)\n",
        "\n",
        "dados.clear()\n",
        "print(dados)  # Saída: {}"
      ],
      "metadata": {
        "id": "DNa0zSOs8qtX"
      },
      "execution_count": null,
      "outputs": []
    },
    {
      "cell_type": "markdown",
      "source": [
        "### Exercício 4 - Remoção\n",
        "Remova a chave autor do dicionário livro."
      ],
      "metadata": {
        "id": "Qgue3WveM9lC"
      }
    },
    {
      "cell_type": "markdown",
      "source": [
        "### Verificar chaves e valores"
      ],
      "metadata": {
        "id": "u0dWZUIm-Txx"
      }
    },
    {
      "cell_type": "code",
      "source": [
        "dados = {\"nome\": \"Pedro\", \"idade\": 35}\n",
        "\n",
        "# Verifica se a chave existe\n",
        "print(\"nome\" in dados)        # Saída: True\n",
        "print(\"telefone\" in dados)    # Saída: False\n",
        "\n",
        "# Verifica se o valor existe\n",
        "print(\"Pedro\" in dados.values())  # Saída: True"
      ],
      "metadata": {
        "id": "m0NqWvPf-WJI",
        "colab": {
          "base_uri": "https://localhost:8080/"
        },
        "outputId": "ec92d4f2-701e-451d-acf9-e7d2b815326f"
      },
      "execution_count": 24,
      "outputs": [
        {
          "output_type": "stream",
          "name": "stdout",
          "text": [
            "True\n",
            "False\n",
            "True\n"
          ]
        }
      ]
    },
    {
      "cell_type": "code",
      "source": [
        "print(type(dados.items()))"
      ],
      "metadata": {
        "colab": {
          "base_uri": "https://localhost:8080/"
        },
        "id": "WE47zNUbN-pv",
        "outputId": "1adedecb-7532-4ce1-80fc-39fb3420122c"
      },
      "execution_count": 31,
      "outputs": [
        {
          "output_type": "stream",
          "name": "stdout",
          "text": [
            "<class 'dict_items'>\n"
          ]
        }
      ]
    },
    {
      "cell_type": "markdown",
      "source": [
        "### Iterar sobre um Dicionário"
      ],
      "metadata": {
        "id": "J9zD2jmI-kJi"
      }
    },
    {
      "cell_type": "code",
      "source": [
        "#Percorrer chaves\n",
        "for chave in dados.keys():\n",
        "    print(chave)  # Saída: nome, idade"
      ],
      "metadata": {
        "id": "Z3ZQDYS7-c1E",
        "colab": {
          "base_uri": "https://localhost:8080/"
        },
        "outputId": "24eab304-4cf4-4075-8c73-ea063e7feeae"
      },
      "execution_count": 27,
      "outputs": [
        {
          "output_type": "stream",
          "name": "stdout",
          "text": [
            "nome\n",
            "idade\n"
          ]
        }
      ]
    },
    {
      "cell_type": "code",
      "source": [
        "#Percorrer valores\n",
        "for valor in dados.values():\n",
        "  print(valor)  # Saída: Pedro, 35"
      ],
      "metadata": {
        "id": "JSZSuS-F-odO",
        "colab": {
          "base_uri": "https://localhost:8080/"
        },
        "outputId": "d1b1ecd2-da3e-4b1a-ed1d-3bca0e3e1ff9"
      },
      "execution_count": 28,
      "outputs": [
        {
          "output_type": "stream",
          "name": "stdout",
          "text": [
            "Pedro\n",
            "35\n"
          ]
        }
      ]
    },
    {
      "cell_type": "code",
      "source": [
        "#Percorrer chaves e valores (items())\n",
        "for chave, valor in dados.items():\n",
        "  print(f\"{chave}: {valor}\")"
      ],
      "metadata": {
        "id": "U4nAHrCg-vgf",
        "colab": {
          "base_uri": "https://localhost:8080/"
        },
        "outputId": "8e489302-0610-4dfd-b57c-bea973bc58b5"
      },
      "execution_count": 29,
      "outputs": [
        {
          "output_type": "stream",
          "name": "stdout",
          "text": [
            "nome: Pedro\n",
            "idade: 35\n"
          ]
        }
      ]
    },
    {
      "cell_type": "markdown",
      "source": [
        "### Exercício 5 - Iteração\n",
        "Crie um dicionário com 3 linguagens de programação e o ano em que foram lançadas. Percorra o dicionário e exiba uma frase para cada par chave-valor."
      ],
      "metadata": {
        "id": "6nEXmgmPN331"
      }
    },
    {
      "cell_type": "markdown",
      "source": [
        "## Listas de dicionários\n"
      ],
      "metadata": {
        "id": "K-xpFCRDOLyz"
      }
    },
    {
      "cell_type": "code",
      "source": [
        "turma = [\n",
        "    {\"nome\": \"Ana\", \"nota\": 8.5},\n",
        "    {\"nome\": \"Lucas\", \"nota\": 7.0}\n",
        "]"
      ],
      "metadata": {
        "id": "ATJ2g-4HOTex"
      },
      "execution_count": null,
      "outputs": []
    },
    {
      "cell_type": "code",
      "source": [
        "# Inserir novo dicionário na lista\n",
        "turma.append({\"nome\": \"Carlos\", \"nota\": 6.5})\n",
        "print(turma)"
      ],
      "metadata": {
        "id": "6sa20llVPjRu"
      },
      "execution_count": null,
      "outputs": []
    },
    {
      "cell_type": "code",
      "source": [
        "#acessar dados\n",
        "\n",
        "print(\"Nome do primeiro aluno:\", turma[0][\"nome\"])\n",
        "print(\"Nota do segundo aluno:\", turma[1][\"nota\"])"
      ],
      "metadata": {
        "id": "aLptxjZqPpXp"
      },
      "execution_count": null,
      "outputs": []
    },
    {
      "cell_type": "code",
      "source": [
        "#Modificar nota\n",
        "turma[0][\"nota\"] = 9.0\n",
        "print(turma)"
      ],
      "metadata": {
        "id": "oi0xsHilPwIM"
      },
      "execution_count": null,
      "outputs": []
    },
    {
      "cell_type": "markdown",
      "source": [
        "#Projeto final\n",
        "Crie um sistema simples de cadastro de contatos:\n",
        "\n",
        "- O programa deve pedir nome, telefone e e-mail.\n",
        "- Armazene os dados em um dicionário.\n",
        "- Permita ao usuário listar os contatos cadastrados."
      ],
      "metadata": {
        "id": "a94tKU8qOblj"
      }
    },
    {
      "cell_type": "markdown",
      "source": [
        "#########################################*****#####################################################\n"
      ],
      "metadata": {
        "id": "mUPdzL3x7ibx"
      }
    },
    {
      "cell_type": "markdown",
      "source": [
        "#Tuplas (tuple)\n",
        "✅ Características:\n",
        "Ordenadas\n",
        "\n",
        "Imutáveis\n",
        "\n",
        "Permitem duplicatas\n",
        "\n",
        "- As tuplas (tuples) em Python são coleções ordenadas e imutáveis, ou seja, depois de criadas, não podem ser alteradas. Elas são úteis para armazenar dados que não devem ser modificados.\n",
        "- Tuplas são ideais para armazenar dados que não devem ser alterados, como configurações de sistema, valores fixos de referência, dias da semana, ou coordenadas geográficas fixas"
      ],
      "metadata": {
        "id": "fkmqW5mO3n2e"
      }
    },
    {
      "cell_type": "code",
      "source": [
        "#Criação de Tuplas\n",
        "tupla_vazia = ()                 # Tupla vazia\n",
        "tupla = (1, 2, 3)               # Tupla com elementos\n",
        "tupla_misturada = (1, \"a\", 3.5) # Tupla com tipos diferentes\n",
        "tupla_sem_parenteses = 1, 2, 3  # Também é uma tupla (sem parênteses)"
      ],
      "metadata": {
        "id": "kDoRK0WN3m7D"
      },
      "execution_count": null,
      "outputs": []
    },
    {
      "cell_type": "code",
      "source": [
        "#Acessar elementos\n",
        "tupla = (10, 20, 30, 40, 50)\n",
        "\n",
        "print(tupla[0])    # Saída: 10 (primeiro elemento)\n",
        "print(tupla[-1])   # Saída: 50 (último elemento)\n",
        "print(tupla[1:3])  # Saída: (20, 30) (slice entre índices 1 e 2)"
      ],
      "metadata": {
        "id": "x_VqZxVN37Yt"
      },
      "execution_count": null,
      "outputs": []
    },
    {
      "cell_type": "code",
      "source": [
        "#concatenar tuplas\n",
        "tupla1 = (1, 2, 3)\n",
        "tupla2 = (\"a\", \"b\", \"c\")\n",
        "nova_tupla = tupla1 + tupla2\n",
        "print(nova_tupla)  # Saída: (1, 2, 3, 'a', 'b', 'c')"
      ],
      "metadata": {
        "id": "AZl6ilWu43nN"
      },
      "execution_count": null,
      "outputs": []
    },
    {
      "cell_type": "code",
      "source": [
        "#repetir tuplas\n",
        "tupla = (\"oi\", \"Paraíba\")\n",
        "tupla_repetida = tupla * 3\n",
        "print(tupla_repetida)  # Saída: ('oi', 'Paraíba', 'oi', 'Paraíba', 'oi', 'Paraíba')"
      ],
      "metadata": {
        "id": "M3Lv-pol5Ear"
      },
      "execution_count": null,
      "outputs": []
    },
    {
      "cell_type": "code",
      "source": [
        "#Verificar Existência de um Elemento (in)\n",
        "tupla = (\"a\", \"b\", \"c\")\n",
        "print(\"b\" in tupla)   # Saída: True\n",
        "print(\"x\" in tupla)   # Saída: False"
      ],
      "metadata": {
        "id": "VTciFtCP5M2v"
      },
      "execution_count": null,
      "outputs": []
    },
    {
      "cell_type": "code",
      "source": [
        "#Converter Lista em Tupla (tuple())\n",
        "\n",
        "lista = [1, 2, 3]\n",
        "tupla = tuple(lista)\n",
        "print(tupla)  # Saída: (1, 2, 3)"
      ],
      "metadata": {
        "id": "sVduaFoI5ZYb"
      },
      "execution_count": null,
      "outputs": []
    },
    {
      "cell_type": "code",
      "source": [
        "#Iterar sobre Tuplas\n",
        "tupla = (\"Python\", \"Java\", \"C++\")\n",
        "for linguagem in tupla:\n",
        "    print(linguagem)"
      ],
      "metadata": {
        "id": "_MTYn_BP60-H"
      },
      "execution_count": null,
      "outputs": []
    }
  ]
}