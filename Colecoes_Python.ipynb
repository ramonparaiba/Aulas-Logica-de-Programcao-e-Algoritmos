{
  "nbformat": 4,
  "nbformat_minor": 0,
  "metadata": {
    "colab": {
      "provenance": [],
      "authorship_tag": "ABX9TyMWUfGtJEoDL9Equ28N1eBq",
      "include_colab_link": true
    },
    "kernelspec": {
      "name": "python3",
      "display_name": "Python 3"
    },
    "language_info": {
      "name": "python"
    }
  },
  "cells": [
    {
      "cell_type": "markdown",
      "metadata": {
        "id": "view-in-github",
        "colab_type": "text"
      },
      "source": [
        "<a href=\"https://colab.research.google.com/github/ramonparaiba/Aulas-Logica-de-Programcao-e-Algoritmos/blob/main/Colecoes_Python.ipynb\" target=\"_parent\"><img src=\"https://colab.research.google.com/assets/colab-badge.svg\" alt=\"Open In Colab\"/></a>"
      ]
    },
    {
      "cell_type": "markdown",
      "source": [
        "#Listas (list)\n",
        "✅ Características:\n",
        "Ordenadas\n",
        "\n",
        "Mutáveis\n",
        "\n",
        "Permitem duplicatas"
      ],
      "metadata": {
        "id": "a1RygqZYwBm0"
      }
    },
    {
      "cell_type": "code",
      "execution_count": 54,
      "metadata": {
        "colab": {
          "base_uri": "https://localhost:8080/"
        },
        "id": "_dQbGwK5v8OJ",
        "outputId": "c1e7aa44-7b7b-4d57-b8f4-a6ce606d4cc2"
      },
      "outputs": [
        {
          "output_type": "stream",
          "name": "stdout",
          "text": [
            "['maçã', 'banana', 'laranja', 'abacate']\n"
          ]
        }
      ],
      "source": [
        "#Imprimir lista\n",
        "\n",
        "frutas = ['maçã', 'banana', 'laranja', 'abacate']\n",
        "print(frutas)\n",
        "\n"
      ]
    },
    {
      "cell_type": "code",
      "source": [
        "#identificar o tamanho de uma lista len(lista)\n",
        "\n",
        "print(len(frutas))"
      ],
      "metadata": {
        "colab": {
          "base_uri": "https://localhost:8080/"
        },
        "id": "boMgiXCfxChK",
        "outputId": "0963ba59-b36f-4da9-8f65-0d137aca35a9"
      },
      "execution_count": 55,
      "outputs": [
        {
          "output_type": "stream",
          "name": "stdout",
          "text": [
            "4\n"
          ]
        }
      ]
    },
    {
      "cell_type": "code",
      "source": [
        "# Count() - quantas vezes um valor aparece\n",
        "frutas = ['maçã', 'banana', 'laranja', 'laranja', 'laranja', 'laranja']\n",
        "print(frutas.count('laranja'))"
      ],
      "metadata": {
        "colab": {
          "base_uri": "https://localhost:8080/"
        },
        "id": "r_YhjXwc59Fp",
        "outputId": "56a9690b-2414-4f82-d11d-ecde4195699d"
      },
      "execution_count": 56,
      "outputs": [
        {
          "output_type": "stream",
          "name": "stdout",
          "text": [
            "4\n"
          ]
        }
      ]
    },
    {
      "cell_type": "code",
      "source": [
        "#Imprimir elementos da lista pelo índice\n",
        "carros = ['gol', 'uno', 'fiesta', 'lada', 'marajó', 'voyage', 'santana']\n",
        "\n",
        "print(carros[0])  #gol\n",
        "print(carros[1])  #uno\n",
        "print(carros[2])  #fiesta\n",
        "print(carros[-1]) # santana\n",
        "print(carros[2:5]) #Slice do índice 2 ao índice 4\n",
        "print(carros[:4]) #slice até o indice 3\n",
        "print(carros[2:]) #slice a partir do indice 2\n",
        "#print(carros[7]) OUT OF INDEX"
      ],
      "metadata": {
        "id": "xG5PWG69wYTV"
      },
      "execution_count": null,
      "outputs": []
    },
    {
      "cell_type": "code",
      "source": [
        "carros[3:]"
      ],
      "metadata": {
        "colab": {
          "base_uri": "https://localhost:8080/"
        },
        "id": "0wx4i8aAVipj",
        "outputId": "639708a6-795b-4cf7-bc78-8e2b91d320b8"
      },
      "execution_count": 61,
      "outputs": [
        {
          "output_type": "execute_result",
          "data": {
            "text/plain": [
              "['lada', 'marajó', 'voyage', 'santana']"
            ]
          },
          "metadata": {},
          "execution_count": 61
        }
      ]
    },
    {
      "cell_type": "code",
      "source": [
        "#Adicioar elementos em uma lista   lista.append('elemento')\n",
        "frutas.append('goiaba')\n",
        "print(frutas)"
      ],
      "metadata": {
        "id": "8OtB6SqYw4Lj"
      },
      "execution_count": 12,
      "outputs": []
    },
    {
      "cell_type": "code",
      "source": [
        "#Exercício 1\n",
        "#Faça um código que pede que o usuário digite frutas e\n",
        "#insere uma fruta na lista."
      ],
      "metadata": {
        "id": "6OFseVHbxQLw"
      },
      "execution_count": null,
      "outputs": []
    },
    {
      "cell_type": "code",
      "source": [
        "fruta = input('Por favor insira uma fruta: ')\n",
        "frutas.append(fruta)\n",
        "print(frutas)"
      ],
      "metadata": {
        "colab": {
          "base_uri": "https://localhost:8080/"
        },
        "id": "29avB0v1XNN4",
        "outputId": "ed277473-d0ac-41c5-e938-10619fbd98e5"
      },
      "execution_count": 62,
      "outputs": [
        {
          "output_type": "stream",
          "name": "stdout",
          "text": [
            "Por favor insira uma fruta: Graviola\n",
            "['maçã', 'banana', 'laranja', 'laranja', 'laranja', 'laranja', 'Graviola']\n"
          ]
        }
      ]
    },
    {
      "cell_type": "code",
      "source": [
        "#Exercício 2\n",
        "#Faça um laço o qual solicita ao usuário que digite\n",
        "#o nome de um carro para inseri-lo na lista.\n",
        "#Ele para quando o usuário digitar o número 0.\n",
        "#Ao final, imprime a lista e o seu tamanho.\n",
        "\n",
        "carros = []\n",
        "carro = input('Digite o carro: ')\n",
        "while carro != '0':\n",
        "  carros.append(carro)\n",
        "  carro = input('Digite o carro: ')\n",
        "print(carros)\n",
        "print(len(carros))"
      ],
      "metadata": {
        "id": "VYVpHcj9x_Il"
      },
      "execution_count": null,
      "outputs": []
    },
    {
      "cell_type": "code",
      "source": [
        "carros = []\n",
        "while True:\n",
        "  carro = input('Digite o carro: ')\n",
        "  if carro == '0':\n",
        "    break\n",
        "  carros.append(carro)\n",
        "\n",
        "print(carros)\n",
        "print(len(carros))"
      ],
      "metadata": {
        "id": "XvGvJU1Ta_TT"
      },
      "execution_count": null,
      "outputs": []
    },
    {
      "cell_type": "code",
      "source": [
        "#Exercício 3\n",
        "#Escreva um programa pyton que tem uma lista de valores, e o usuário deve digitar um valor\n",
        "#caso ele exista na lista, ela retorna a quantidade de vezes que ela ocorre na lista\n",
        "#caso não exista, ela informa ao usuário \"Numero não existe na lista\".\n",
        "lista = [2, 4, 5, 2, 3, 7, 8, 2, 5]"
      ],
      "metadata": {
        "id": "kLvYRpYe82j7"
      },
      "execution_count": 65,
      "outputs": []
    },
    {
      "cell_type": "code",
      "source": [
        "numero = int(input('Digite um número: '))\n",
        "if numero in lista:\n",
        "  print(lista.count(numero))\n",
        "else:\n",
        "  print('numero não existe na lista')"
      ],
      "metadata": {
        "id": "KVsjQKJ_cexy"
      },
      "execution_count": null,
      "outputs": []
    },
    {
      "cell_type": "markdown",
      "source": [],
      "metadata": {
        "id": "Nnsrqhp0bqGz"
      }
    },
    {
      "cell_type": "markdown",
      "source": [
        "##Removendo valores"
      ],
      "metadata": {
        "id": "ONWds7fny9Uz"
      }
    },
    {
      "cell_type": "code",
      "source": [
        "carros = ['gol', 'uno', 'fiesta', 'lada', 'marajó', 'voyage', 'santana']"
      ],
      "metadata": {
        "id": "AQrE_2oQd0lI"
      },
      "execution_count": 75,
      "outputs": []
    },
    {
      "cell_type": "code",
      "source": [
        "#pop()\n",
        "carros.pop(3)\n",
        "print(carros)"
      ],
      "metadata": {
        "colab": {
          "base_uri": "https://localhost:8080/"
        },
        "id": "-D0VTrcsyiYF",
        "outputId": "12d37c42-e438-41ac-e2e3-bbd8f9b2beff"
      },
      "execution_count": 76,
      "outputs": [
        {
          "output_type": "stream",
          "name": "stdout",
          "text": [
            "['gol', 'uno', 'fiesta', 'marajó', 'voyage', 'santana']\n"
          ]
        }
      ]
    },
    {
      "cell_type": "code",
      "source": [
        "#pop pelo índice\n",
        "lista = [\"maçã\", \"banana\", \"laranja\"]\n",
        "indice = lista.index(\"banana\")  # Encontra o índice de \"banana\"\n",
        "lista.pop(indice)  # Remove pelo índice\n",
        "print(lista)  # Saída: ['maçã', 'laranja']"
      ],
      "metadata": {
        "colab": {
          "base_uri": "https://localhost:8080/"
        },
        "id": "IUaBwtjxzIwV",
        "outputId": "479bb7e8-9db4-444b-9bc1-502d8bfa0a61"
      },
      "execution_count": 77,
      "outputs": [
        {
          "output_type": "stream",
          "name": "stdout",
          "text": [
            "['maçã', 'laranja']\n"
          ]
        }
      ]
    },
    {
      "cell_type": "code",
      "source": [
        "#del list[index]\n",
        "nums = [4, 5, 3, 2, 6, 8]\n",
        "\n",
        "del nums[3]\n",
        "print(nums)"
      ],
      "metadata": {
        "colab": {
          "base_uri": "https://localhost:8080/"
        },
        "collapsed": true,
        "id": "PZ44-NHrz3QQ",
        "outputId": "da1c771f-9516-4fdf-9cf2-9eba1a04cb89"
      },
      "execution_count": 78,
      "outputs": [
        {
          "output_type": "stream",
          "name": "stdout",
          "text": [
            "[4, 5, 3, 6, 8]\n"
          ]
        }
      ]
    },
    {
      "cell_type": "code",
      "source": [
        "#remove() - remove a primeira ocorrencia do valor especificado\n",
        "lista = ['jaca', 'melão', 'manga', 'graviola', 'jaca']\n",
        "\n",
        "lista.remove('jaca')\n",
        "print(lista)\n"
      ],
      "metadata": {
        "colab": {
          "base_uri": "https://localhost:8080/"
        },
        "id": "Mx-BZEXh16p4",
        "outputId": "a4c0eeb8-1c09-4eeb-96ef-0efb774784f5"
      },
      "execution_count": 80,
      "outputs": [
        {
          "output_type": "stream",
          "name": "stdout",
          "text": [
            "['melão', 'manga', 'graviola', 'jaca']\n"
          ]
        }
      ]
    },
    {
      "cell_type": "code",
      "source": [
        "#list comprehension\n",
        "lista = ['jaca', 'melão', 'manga', 'graviola', 'jaca', 'maça', 'banana', 'jaca']\n",
        "\n",
        "fruta_remover = 'jaca'\n",
        "\n",
        "lista = [x for x in lista if x != fruta_remover]\n",
        "\n",
        "print(lista)"
      ],
      "metadata": {
        "colab": {
          "base_uri": "https://localhost:8080/"
        },
        "id": "ZGjXhajw26jp",
        "outputId": "cae21d6e-6d91-4a3f-b490-18678dd7eec8"
      },
      "execution_count": 40,
      "outputs": [
        {
          "output_type": "stream",
          "name": "stdout",
          "text": [
            "['melão', 'manga', 'graviola', 'maça', 'banana']\n"
          ]
        }
      ]
    },
    {
      "cell_type": "code",
      "source": [
        "#na lista de notas a seguir, mantenha apenas as que\n",
        "#são maiores ou iguais a seis. use list comprehension\n",
        "notas = [6, 8, 5, 4, 7, 7, 9, 3, 6]"
      ],
      "metadata": {
        "id": "RyNOxIThhC8m"
      },
      "execution_count": 81,
      "outputs": []
    },
    {
      "cell_type": "code",
      "source": [
        "notas = [x for x in notas if x >= 6]\n",
        "\n",
        "print(notas)"
      ],
      "metadata": {
        "colab": {
          "base_uri": "https://localhost:8080/"
        },
        "id": "bRjKD9DsiZHH",
        "outputId": "5aec12da-4519-4f15-c004-a03da8fed0e6"
      },
      "execution_count": 83,
      "outputs": [
        {
          "output_type": "stream",
          "name": "stdout",
          "text": [
            "[6, 8, 7, 7, 9, 6]\n"
          ]
        }
      ]
    },
    {
      "cell_type": "markdown",
      "source": [
        "### Exercício\n",
        "Crie um program que simula uma lista de tarefas. O programa deve exibir um menu com 4 opções:\n",
        "1. Adicionar tarefa\n",
        "2. Remover tarefa\n",
        "3. Listar tarefas\n",
        "4. Sair\n",
        "\n",
        "O programa deve continuar exibindo o menu até o usuário escolher a opção de sair.\n",
        "\n"
      ],
      "metadata": {
        "id": "GI9I-Fh4i0sU"
      }
    },
    {
      "cell_type": "code",
      "source": [],
      "metadata": {
        "colab": {
          "base_uri": "https://localhost:8080/"
        },
        "id": "WsputFl-5h9Y",
        "outputId": "cb3b8189-f1f2-40fa-f418-c1704908ce3d"
      },
      "execution_count": 48,
      "outputs": [
        {
          "output_type": "execute_result",
          "data": {
            "text/plain": [
              "3"
            ]
          },
          "metadata": {},
          "execution_count": 48
        }
      ]
    },
    {
      "cell_type": "markdown",
      "source": [
        "## Dicionários (dict) { }\n",
        "- Os dicionários (dict) em Python são estruturas de dados mutáveis que armazenam pares de chave-valor. Eles são ideais para mapeamentos rápidos e eficientes, como bancos de dados simples ou configurações."
      ],
      "metadata": {
        "id": "gPG-wGTq7Igp"
      }
    },
    {
      "cell_type": "code",
      "source": [
        "dicionario_vazio = {}                     # Dicionário vazio\n",
        "dicionario = {\"nome\": \"João\", \"idade\": 25} # Chave: valor\n",
        "dicionario_misto = {1: \"a\", True: \"b\"}    # Chaves podem ser números/booleanos\n",
        "\n",
        "#Chaves devem ser únicas e imutáveis (strings, números, tuplas).\n",
        "#Valores podem ser de qualquer tipo (listas, outros dicionários, etc.)."
      ],
      "metadata": {
        "id": "4cYqsOXo7Rwe"
      },
      "execution_count": null,
      "outputs": []
    },
    {
      "cell_type": "markdown",
      "source": [
        "### Acessar valores"
      ],
      "metadata": {
        "id": "6UkX7ASs7e4q"
      }
    },
    {
      "cell_type": "code",
      "source": [
        "#Método direto (com erro se a chave não existir)\n",
        "\n",
        "dados = {\"nome\": \"Maria\", \"idade\": 30}\n",
        "print(dados[\"nome\"])   # Saída: Maria\n",
        "# print(dados[\"telefone\"])  # KeyError (chave não existe)\n"
      ],
      "metadata": {
        "id": "aFuGquQo7cEU"
      },
      "execution_count": null,
      "outputs": []
    },
    {
      "cell_type": "code",
      "source": [
        "#Método get() (retorna None ou valor padrão se não existir)\n",
        "\n",
        "print(dados.get(\"nome\"))        # Saída: Maria\n",
        "print(dados.get(\"telefone\"))    # Saída: None\n",
        "print(dados.get(\"telefone\", \"Não cadastrado\"))  # Saída: \"Não cadastrado\"\n",
        "\n"
      ],
      "metadata": {
        "id": "88gwHvtc7xM4"
      },
      "execution_count": null,
      "outputs": []
    },
    {
      "cell_type": "markdown",
      "source": [
        "### Adicionar ou Modificar Itens"
      ],
      "metadata": {
        "id": "uXkOkzBu7_CE"
      }
    },
    {
      "cell_type": "code",
      "source": [
        "dados = {\"nome\": \"Carlos\"}\n",
        "dados[\"idade\"] = 40       # Adiciona nova chave-valor\n",
        "dados[\"nome\"] = \"Ana\"     # Modifica valor existente\n",
        "print(dados)              # Saída: {'nome': 'Ana', 'idade': 40}"
      ],
      "metadata": {
        "id": "alKIy72b8Ap4"
      },
      "execution_count": null,
      "outputs": []
    },
    {
      "cell_type": "markdown",
      "source": [
        "### Remoção de itens"
      ],
      "metadata": {
        "id": "klggpe3-8GKv"
      }
    },
    {
      "cell_type": "code",
      "source": [
        "#del (remove pela chave, com erro se não existir)\n",
        "del dados[\"idade\"]\n",
        "print(dados)  # Saída: {'nome': 'Ana'}\n"
      ],
      "metadata": {
        "id": "RUXgmZZw8IiE"
      },
      "execution_count": null,
      "outputs": []
    },
    {
      "cell_type": "code",
      "source": [
        "#pop() (remove e retorna o valor, pode definir padrão)\n",
        "\n",
        "idade = dados.pop(\"idade\", 0)  # Se não existir, retorna 0\n",
        "print(idade)  # Saída: 0 (pois \"idade\" já foi removida)\n"
      ],
      "metadata": {
        "id": "fAs7mN4A8Q1v"
      },
      "execution_count": null,
      "outputs": []
    },
    {
      "cell_type": "code",
      "source": [
        "#popitem() (remove e retorna o último item adicionado)\n",
        "\n",
        "item = dados.popitem()\n",
        "print(item)  # Saída: ('nome', 'Ana')"
      ],
      "metadata": {
        "id": "Po80QzHe8lm6"
      },
      "execution_count": null,
      "outputs": []
    },
    {
      "cell_type": "code",
      "source": [
        "#clear() (limpa todo o dicionário)\n",
        "\n",
        "dados.clear()\n",
        "print(dados)  # Saída: {}"
      ],
      "metadata": {
        "id": "DNa0zSOs8qtX"
      },
      "execution_count": null,
      "outputs": []
    },
    {
      "cell_type": "markdown",
      "source": [
        "### Verificar chaves e valores"
      ],
      "metadata": {
        "id": "u0dWZUIm-Txx"
      }
    },
    {
      "cell_type": "code",
      "source": [
        "dados = {\"nome\": \"Pedro\", \"idade\": 35}\n",
        "\n",
        "# Verifica se a chave existe\n",
        "print(\"nome\" in dados)        # Saída: True\n",
        "print(\"telefone\" in dados)    # Saída: False\n",
        "\n",
        "# Verifica se o valor existe\n",
        "print(\"Pedro\" in dados.values())  # Saída: True"
      ],
      "metadata": {
        "id": "m0NqWvPf-WJI"
      },
      "execution_count": null,
      "outputs": []
    },
    {
      "cell_type": "markdown",
      "source": [
        "### Iterar sobre um Dicionário"
      ],
      "metadata": {
        "id": "J9zD2jmI-kJi"
      }
    },
    {
      "cell_type": "code",
      "source": [
        "#Percorrer chaves\n",
        "for chave in dados.keys():\n",
        "    print(chave)  # Saída: nome, idade"
      ],
      "metadata": {
        "id": "Z3ZQDYS7-c1E"
      },
      "execution_count": null,
      "outputs": []
    },
    {
      "cell_type": "code",
      "source": [
        "#Percorrer valores\n",
        "for valor in dados.values():\n",
        "  print(valor)  # Saída: Pedro, 35"
      ],
      "metadata": {
        "id": "JSZSuS-F-odO"
      },
      "execution_count": null,
      "outputs": []
    },
    {
      "cell_type": "code",
      "source": [
        "#Percorrer chaves e valores (items())\n",
        "for chave, valor in dados.items():\n",
        "  print(f\"{chave}: {valor}\")"
      ],
      "metadata": {
        "id": "U4nAHrCg-vgf"
      },
      "execution_count": null,
      "outputs": []
    },
    {
      "cell_type": "markdown",
      "source": [
        "#########################################*****#####################################################\n"
      ],
      "metadata": {
        "id": "mUPdzL3x7ibx"
      }
    },
    {
      "cell_type": "markdown",
      "source": [
        "#Tuplas (tuple)\n",
        "✅ Características:\n",
        "Ordenadas\n",
        "\n",
        "Imutáveis\n",
        "\n",
        "Permitem duplicatas\n",
        "\n",
        "- As tuplas (tuples) em Python são coleções ordenadas e imutáveis, ou seja, depois de criadas, não podem ser alteradas. Elas são úteis para armazenar dados que não devem ser modificados.\n",
        "- Tuplas são ideais para armazenar dados que não devem ser alterados, como configurações de sistema, valores fixos de referência, dias da semana, ou coordenadas geográficas fixas"
      ],
      "metadata": {
        "id": "fkmqW5mO3n2e"
      }
    },
    {
      "cell_type": "code",
      "source": [
        "#Criação de Tuplas\n",
        "tupla_vazia = ()                 # Tupla vazia\n",
        "tupla = (1, 2, 3)               # Tupla com elementos\n",
        "tupla_misturada = (1, \"a\", 3.5) # Tupla com tipos diferentes\n",
        "tupla_sem_parenteses = 1, 2, 3  # Também é uma tupla (sem parênteses)"
      ],
      "metadata": {
        "id": "kDoRK0WN3m7D"
      },
      "execution_count": null,
      "outputs": []
    },
    {
      "cell_type": "code",
      "source": [
        "#Acessar elementos\n",
        "tupla = (10, 20, 30, 40, 50)\n",
        "\n",
        "print(tupla[0])    # Saída: 10 (primeiro elemento)\n",
        "print(tupla[-1])   # Saída: 50 (último elemento)\n",
        "print(tupla[1:3])  # Saída: (20, 30) (slice entre índices 1 e 2)"
      ],
      "metadata": {
        "id": "x_VqZxVN37Yt"
      },
      "execution_count": null,
      "outputs": []
    },
    {
      "cell_type": "code",
      "source": [
        "#concatenar tuplas\n",
        "tupla1 = (1, 2, 3)\n",
        "tupla2 = (\"a\", \"b\", \"c\")\n",
        "nova_tupla = tupla1 + tupla2\n",
        "print(nova_tupla)  # Saída: (1, 2, 3, 'a', 'b', 'c')"
      ],
      "metadata": {
        "id": "AZl6ilWu43nN"
      },
      "execution_count": null,
      "outputs": []
    },
    {
      "cell_type": "code",
      "source": [
        "#repetir tuplas\n",
        "tupla = (\"oi\", \"Paraíba\")\n",
        "tupla_repetida = tupla * 3\n",
        "print(tupla_repetida)  # Saída: ('oi', 'Paraíba', 'oi', 'Paraíba', 'oi', 'Paraíba')"
      ],
      "metadata": {
        "id": "M3Lv-pol5Ear"
      },
      "execution_count": null,
      "outputs": []
    },
    {
      "cell_type": "code",
      "source": [
        "#Verificar Existência de um Elemento (in)\n",
        "tupla = (\"a\", \"b\", \"c\")\n",
        "print(\"b\" in tupla)   # Saída: True\n",
        "print(\"x\" in tupla)   # Saída: False"
      ],
      "metadata": {
        "id": "VTciFtCP5M2v"
      },
      "execution_count": null,
      "outputs": []
    },
    {
      "cell_type": "code",
      "source": [
        "#Converter Lista em Tupla (tuple())\n",
        "\n",
        "lista = [1, 2, 3]\n",
        "tupla = tuple(lista)\n",
        "print(tupla)  # Saída: (1, 2, 3)"
      ],
      "metadata": {
        "id": "sVduaFoI5ZYb"
      },
      "execution_count": null,
      "outputs": []
    },
    {
      "cell_type": "code",
      "source": [
        "#Iterar sobre Tuplas\n",
        "tupla = (\"Python\", \"Java\", \"C++\")\n",
        "for linguagem in tupla:\n",
        "    print(linguagem)"
      ],
      "metadata": {
        "id": "_MTYn_BP60-H"
      },
      "execution_count": null,
      "outputs": []
    }
  ]
}