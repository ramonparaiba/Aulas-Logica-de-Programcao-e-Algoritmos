{
  "nbformat": 4,
  "nbformat_minor": 0,
  "metadata": {
    "colab": {
      "provenance": [],
      "authorship_tag": "ABX9TyMmIsc+LikB3HqOfuB3klLv",
      "include_colab_link": true
    },
    "kernelspec": {
      "name": "python3",
      "display_name": "Python 3"
    },
    "language_info": {
      "name": "python"
    }
  },
  "cells": [
    {
      "cell_type": "markdown",
      "metadata": {
        "id": "view-in-github",
        "colab_type": "text"
      },
      "source": [
        "<a href=\"https://colab.research.google.com/github/ramonparaiba/Aulas-Logica-de-Programcao-e-Algoritmos/blob/main/Logica_Fuzzy_001_gorjeta.ipynb\" target=\"_parent\"><img src=\"https://colab.research.google.com/assets/colab-badge.svg\" alt=\"Open In Colab\"/></a>"
      ]
    },
    {
      "cell_type": "markdown",
      "source": [
        "# Fuzzy - exemplo das gorgetas"
      ],
      "metadata": {
        "id": "8NzPq_mMxYkR"
      }
    },
    {
      "cell_type": "markdown",
      "source": [
        "**Antecedentes (entradas)**\n",
        "\n",
        "Serviço: que nota você daria para o serviço, em uma escala de 0 a 10?\n",
        "- ruim, aceitável, ótimo\n",
        "\n",
        "Qualidade da comida: quão boa estava a comida, em uma escala de 0 a 10?\n",
        "- ruim, boa, saborosa\n",
        "\n",
        "**Consequentes (saídas)**\n",
        "\n",
        "Gorjeta: quanta gorjeta você daria, entre 0% e 20%?\n",
        "- baixa, média, alta\n",
        "\n",
        "Regras\n",
        "- Se a qualidade da comida for *ruim* ou o serviço for *ruim* então a gorjeta será *baixa*\n",
        "- Se o serviço for *médio* então a gorjeta será *média*\n",
        "- Se o serviço for *bom* ou a qualidade da comida for *saborosa* então a gorjeta será *alta*"
      ],
      "metadata": {
        "id": "ywqUUC0Rxahk"
      }
    },
    {
      "cell_type": "markdown",
      "source": [
        "## Instalação e importação das bibliotecas\n",
        "\n",
        "- !pip install scikit-fuzzy\n",
        "\n",
        "- import numpy as np\n",
        "- import skfuzzy as fuzz\n",
        "- from skfuzzy import control as ctrl"
      ],
      "metadata": {
        "id": "-vIEtpbxxlt9"
      }
    },
    {
      "cell_type": "code",
      "execution_count": 68,
      "metadata": {
        "colab": {
          "base_uri": "https://localhost:8080/"
        },
        "id": "sCKIUrDxwPKJ",
        "outputId": "fd2297d8-fe0f-454c-846d-aa5b41d9ad46"
      },
      "outputs": [
        {
          "output_type": "stream",
          "name": "stdout",
          "text": [
            "Looking in indexes: https://pypi.org/simple, https://us-python.pkg.dev/colab-wheels/public/simple/\n",
            "Requirement already satisfied: scikit-fuzzy in /usr/local/lib/python3.9/dist-packages (0.4.2)\n",
            "Requirement already satisfied: numpy>=1.6.0 in /usr/local/lib/python3.9/dist-packages (from scikit-fuzzy) (1.22.4)\n",
            "Requirement already satisfied: scipy>=0.9.0 in /usr/local/lib/python3.9/dist-packages (from scikit-fuzzy) (1.10.1)\n",
            "Requirement already satisfied: networkx>=1.9.0 in /usr/local/lib/python3.9/dist-packages (from scikit-fuzzy) (3.1)\n"
          ]
        }
      ],
      "source": [
        "#instal scikit-fuzzy\n",
        "!pip install scikit-fuzzy"
      ]
    },
    {
      "cell_type": "code",
      "source": [
        "import numpy as np\n",
        "import skfuzzy as fuzz\n",
        "from skfuzzy import control as ctrl"
      ],
      "metadata": {
        "id": "2xdFbOgklM03"
      },
      "execution_count": 69,
      "outputs": []
    },
    {
      "cell_type": "markdown",
      "source": [
        "## Antecedentes e Consequentes"
      ],
      "metadata": {
        "id": "mwQQg1cPx3rm"
      }
    },
    {
      "cell_type": "markdown",
      "source": [
        "\n",
        "\n",
        "* Antecedentes\n",
        "  * qualidade = ctrl.Antecedent(np.arange(0, 11, 1), 'qualidade')\n",
        "    * qualidade\n",
        "    * qualidade.universe\n",
        "  * servico = ctrl.Antecedent(np.arange(0, 11, 1), 'servico')\n",
        "    * servico\n",
        "    * servico.universe\n",
        "* Consequentes\n",
        "  * gorjeta = ctrl.Consequent(np.arange(0, 21, 1), 'gorjeta')\n",
        "    * gorjeta\n",
        "    * gorjeta.universe"
      ],
      "metadata": {
        "id": "5gNfmtVUyEX1"
      }
    },
    {
      "cell_type": "code",
      "source": [
        "#Antecedentes\n",
        "qualidade = ctrl.Antecedent(np.arange(0, 11, 1), 'qualidade')\n",
        "servico = ctrl.Antecedent(np.arange(0, 11, 1), 'servico')"
      ],
      "metadata": {
        "id": "vk0YGOVWlcCX"
      },
      "execution_count": 76,
      "outputs": []
    },
    {
      "cell_type": "code",
      "source": [
        "#Consequente\n",
        "gorjeta = ctrl.Consequent(np.arange(0, 21, 1), 'gorjeta')"
      ],
      "metadata": {
        "id": "P7fJ89dFmLAj"
      },
      "execution_count": 77,
      "outputs": []
    },
    {
      "cell_type": "markdown",
      "source": [
        "#Funções de membership\n",
        "\n",
        "A função \"automf\" é usada para gerar automaticamente as funções de pertinência para as variáveis de entrada e saída de um sistema de lógica fuzzy. Essas funções de pertinência descrevem a \"gradação\" ou \"grau de pertinência\" com que uma variável de entrada pertence a um conjunto de categorias definidas."
      ],
      "metadata": {
        "id": "d7QbzDfb8KeQ"
      }
    },
    {
      "cell_type": "markdown",
      "source": [
        "* qualidade.automf(number=3, names=['ruim', 'boa', 'saborosa'])\n",
        "* servico.automf(number=3, names=['ruim', 'aceitável', 'ótimo'])\n",
        "\n",
        "* visualização\n",
        "  * qualidade.view()\n",
        "  * qualidade['saborosa'].view()\n",
        "  * servico.view()\n",
        "* gorjeta['baixa'] = fuzz.trimf(gorjeta.universe, [0, 0, 8])\n",
        "* gorjeta['media'] = fuzz.trimf(gorjeta.universe, [2, 10, 18])\n",
        "* gorjeta['alta'] = fuzz.trimf(gorjeta.universe, [12, 20, 20])\n",
        "\n",
        "* gorjeta.view()\n",
        "\n",
        "## Regras\n",
        "* regra1 = ctrl.Rule(qualidade['ruim'] | servico['ruim'], gorjeta['baixa'])\n",
        "* regra2 = ctrl.Rule(servico['aceitável'], gorjeta['media'])\n",
        "* regra3 = ctrl.Rule(servico['ótimo'] | qualidade['saborosa'], gorjeta['alta'])"
      ],
      "metadata": {
        "id": "Y23P-TlN8a2h"
      }
    },
    {
      "cell_type": "code",
      "source": [
        "qualidade.automf(number=3, names=['ruim', 'boa', 'saborosa'])\n",
        "qualidade['saborosa'].view()"
      ],
      "metadata": {
        "id": "KrScK4YVmoTp"
      },
      "execution_count": null,
      "outputs": []
    },
    {
      "cell_type": "code",
      "source": [
        "servico.automf(number=3, names=['ruim', 'aceitável', 'ótimo'])\n",
        "servico.view()"
      ],
      "metadata": {
        "id": "knqTDBLPnNwk"
      },
      "execution_count": null,
      "outputs": []
    },
    {
      "cell_type": "code",
      "source": [
        "#Função do consequente\n",
        "gorjeta['baixa'] = fuzz.trimf(gorjeta.universe, [0, 0, 5.5])\n",
        "gorjeta['media'] = fuzz.trimf(gorjeta.universe, [2.5, 10, 17.5])\n",
        "gorjeta['alta'] = fuzz.trimf(gorjeta.universe, [12.5, 20, 20])\n",
        "\n",
        "gorjeta.view()"
      ],
      "metadata": {
        "id": "u13An349no1k"
      },
      "execution_count": null,
      "outputs": []
    },
    {
      "cell_type": "code",
      "source": [
        "regra1 = ctrl.Rule(qualidade['ruim'] | servico['ruim'], gorjeta['baixa'])\n",
        "regra2 = ctrl.Rule(servico['aceitável'], gorjeta['media'])\n",
        "regra3 = ctrl.Rule(qualidade['saborosa'] | servico['ótimo'], gorjeta['alta'])\n"
      ],
      "metadata": {
        "id": "REBuxCVkpXi4"
      },
      "execution_count": 91,
      "outputs": []
    },
    {
      "cell_type": "markdown",
      "source": [
        "# Sistema de Controle\n",
        "\n"
      ],
      "metadata": {
        "id": "IHlxrHAR9ABO"
      }
    },
    {
      "cell_type": "markdown",
      "source": [
        "\n",
        "\n",
        "* sistema_controle = ctrl.ControlSystem([regra1, regra2, regra3])\n",
        " - --------------------------\n",
        "* sistema = ctrl.ControlSystemSimulation(sistema_controle)\n",
        " - --------------------------\n",
        "* sistema.input['qualidade'] = 10\n",
        "* sistema.input['servico'] = 10\n",
        "* sistema.compute()\n",
        "  - ----------------\n",
        "* print(sistema.output['gorjeta'])\n",
        "* gorjeta.view(sim = sistema)\n",
        "\n",
        "\n"
      ],
      "metadata": {
        "id": "jCe5IWwz-PKQ"
      }
    },
    {
      "cell_type": "code",
      "source": [
        "sistema_controle = ctrl.ControlSystem([regra1, regra2, regra3])"
      ],
      "metadata": {
        "id": "SxVcWDzFpIt3"
      },
      "execution_count": 92,
      "outputs": []
    },
    {
      "cell_type": "code",
      "source": [
        "sistema = ctrl.ControlSystemSimulation(sistema_controle)"
      ],
      "metadata": {
        "id": "kJzPcZXVp9VB"
      },
      "execution_count": 93,
      "outputs": []
    },
    {
      "cell_type": "code",
      "source": [
        "sistema.input['qualidade'] = 6\n",
        "sistema.input['servico'] = 9\n",
        "sistema.compute()"
      ],
      "metadata": {
        "id": "3bTOsaN-qFAN"
      },
      "execution_count": 110,
      "outputs": []
    },
    {
      "cell_type": "code",
      "source": [
        "print(sistema.output['gorjeta'])\n",
        "gorjeta.view(sim = sistema)"
      ],
      "metadata": {
        "colab": {
          "base_uri": "https://localhost:8080/",
          "height": 468
        },
        "id": "sE2FVsUsqPhH",
        "outputId": "926c24f3-9764-4156-c473-337a5c925420"
      },
      "execution_count": 111,
      "outputs": [
        {
          "output_type": "stream",
          "name": "stdout",
          "text": [
            "14.108308605341248\n"
          ]
        },
        {
          "output_type": "display_data",
          "data": {
            "text/plain": [
              "<Figure size 640x480 with 1 Axes>"
            ],
            "image/png": "[encoded data removed]"
          },
          "metadata": {}
        }
      ]
    },
    {
      "cell_type": "markdown",
      "source": [
        "# Utilizando outras funções para fazer a análise"
      ],
      "metadata": {
        "id": "gmhOPhW-JmFb"
      }
    },
    {
      "cell_type": "markdown",
      "source": [
        "* gorjeta['baixa'] = fuzz.sigmf(gorjeta.universe, 5, 1)\n",
        "* gorjeta['media'] = fuzz.gaussmf(gorjeta.universe, 10, 3)\n",
        "* gorjeta['alta'] = fuzz.pimf(gorjeta.universe, 10, 20, 20, 21)"
      ],
      "metadata": {
        "id": "uMNufR80JrRe"
      }
    },
    {
      "cell_type": "markdown",
      "source": [
        "#Exercício\n",
        "Suponha que uma loja de roupas deseje classificar seus produtos em três categorias: \"barato\", \"razoável\" e \"caro\". A loja pode usar a lógica fuzzy para fazer essa classificação com base em diferentes variáveis, como o preço do produto, a qualidade do material e a marca.\n",
        "\n",
        "* Antecedentes\n",
        " - Preço: varia de 0 a 100, onde 0 é muito barato e 100 é muito caro.\n",
        " - Qualidade do material: varia de 0 a 10, onde 0 é muito ruim e 10 é muito bom.\n",
        " - Marca: varia de 0 a 5, onde 0 é uma marca desconhecida e 5 é uma marca muito conhecida.\n",
        "\n",
        "*Consequente\n",
        "   - categoria (barato, razoável ou caro)\n",
        "\n",
        " - --------\n",
        "**Regras**\n",
        "\n",
        "1.  Se o preço for baixo E a qualidade do material for baixa, então o produto é \"barato\".\n",
        "2. Se a qualidade do material for alta OU a marca for conhecida, então o produto é \"razoável\".\n",
        "3. Se o preço for alto E a qualidade do material for alta E a marca for muito conhecida, então o produto é \"caro\".\n"
      ],
      "metadata": {
        "id": "HYrFd-YlM02_"
      }
    }
  ]
}