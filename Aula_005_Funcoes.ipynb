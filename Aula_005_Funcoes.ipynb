{
  "nbformat": 4,
  "nbformat_minor": 0,
  "metadata": {
    "colab": {
      "provenance": [],
      "authorship_tag": "ABX9TyMc12vXhotLngAp2cBfDNe9",
      "include_colab_link": true
    },
    "kernelspec": {
      "name": "python3",
      "display_name": "Python 3"
    },
    "language_info": {
      "name": "python"
    }
  },
  "cells": [
    {
      "cell_type": "markdown",
      "metadata": {
        "id": "view-in-github",
        "colab_type": "text"
      },
      "source": [
        "<a href=\"https://colab.research.google.com/github/ramonparaiba/Aulas-Logica-de-Programcao-e-Algoritmos/blob/main/Aula_005_Funcoes.ipynb\" target=\"_parent\"><img src=\"https://colab.research.google.com/assets/colab-badge.svg\" alt=\"Open In Colab\"/></a>"
      ]
    },
    {
      "cell_type": "markdown",
      "source": [
        "#Funções\n",
        "Imagine uma operação de soma entre duas variáveis a e b. Simples não é? Basta somar a + b, e está resolvido. \n",
        "Vamos acrescentar um ponto a este cenário, imagine que há outras variáveis no programa que você está desenvolvendo, as quais também precisam ser somadas. Então, teríamos em seu código algo assim:\n",
        " * //codigo codigo codigo\n",
        " * soma = a + b\n",
        " * //codigo codigo codigo\n",
        " * soma2 = c + d\n",
        " *//codigo codigo codigo\n",
        " * soma3 = n + m\n",
        "\n",
        "\n",
        "> Para evitar essa repetição desnecessária de linhas de programação similares, usa-se estruturas denominadas funções.\n",
        "> Uma função é um trecho de código que só é executado quando é chamado. Uma função pode ter como output, dados ou uma impressão em tela.\n",
        "\n"
      ],
      "metadata": {
        "id": "j4xxc9RJ9Ai5"
      }
    },
    {
      "cell_type": "code",
      "source": [
        "#Declaração da função \n",
        "def primeiraFuncao():\n",
        "  print('Minha primeira função, ó!')\n",
        "\n",
        "#chamando a função\n",
        "primeiraFuncao()"
      ],
      "metadata": {
        "colab": {
          "base_uri": "https://localhost:8080/"
        },
        "id": "8tzfqxBh21lh",
        "outputId": "138c64d1-7a7f-4cd6-ee4d-492155c2c082"
      },
      "execution_count": null,
      "outputs": [
        {
          "output_type": "stream",
          "name": "stdout",
          "text": [
            "Minha primeira função, ó!\n"
          ]
        }
      ]
    },
    {
      "cell_type": "code",
      "source": [],
      "metadata": {
        "colab": {
          "base_uri": "https://localhost:8080/"
        },
        "id": "g1vktNFr3ny3",
        "outputId": "8754d8f1-7dfc-4fcb-ef3d-c9851ed50b65"
      },
      "execution_count": null,
      "outputs": [
        {
          "output_type": "stream",
          "name": "stdout",
          "text": [
            "Minha primeira função, ó!\n"
          ]
        }
      ]
    },
    {
      "cell_type": "code",
      "execution_count": null,
      "metadata": {
        "id": "rwCvbb2e8wPk"
      },
      "outputs": [],
      "source": [
        "#Declaração da função\n",
        "def my_first_function():\n",
        "  print('minha primeira função')"
      ]
    },
    {
      "cell_type": "code",
      "source": [
        "#chamando uma função\n",
        "my_first_function()"
      ],
      "metadata": {
        "id": "ga2A-rQp9K_B"
      },
      "execution_count": null,
      "outputs": []
    },
    {
      "cell_type": "markdown",
      "source": [
        "#Argumentos / parâmetros"
      ],
      "metadata": {
        "id": "rmUCQHo1_I5Z"
      }
    },
    {
      "cell_type": "code",
      "source": [],
      "metadata": {
        "id": "HZviNk024T8-"
      },
      "execution_count": null,
      "outputs": []
    },
    {
      "cell_type": "code",
      "source": [
        "def pronomeTratam(pronome):\n",
        "  print(pronome,\" Pablo\")"
      ],
      "metadata": {
        "id": "pzr_cfPu_HYk"
      },
      "execution_count": null,
      "outputs": []
    },
    {
      "cell_type": "code",
      "source": [
        "pronomeTratam('Doutor')\n",
        "pronomeTratam('Ilmo')\n",
        "pronomeTratam('Seu')"
      ],
      "metadata": {
        "id": "HFst9FHe_fWN",
        "colab": {
          "base_uri": "https://localhost:8080/"
        },
        "outputId": "dd346e32-df9d-455a-fa0b-8449348ebb5c"
      },
      "execution_count": null,
      "outputs": [
        {
          "output_type": "stream",
          "name": "stdout",
          "text": [
            "Doutor  Pablo\n",
            "Ilmo  Pablo\n",
            "Seu  Pablo\n"
          ]
        }
      ]
    },
    {
      "cell_type": "code",
      "source": [
        "#Uma função deve ser chamada com o número certinho de argumentos\n",
        "def boasVindas(nome, cargo):\n",
        "  print('Olá, '+ cargo + ' '+ nome)"
      ],
      "metadata": {
        "id": "zhJ_uNb8_ydJ"
      },
      "execution_count": null,
      "outputs": []
    },
    {
      "cell_type": "code",
      "source": [
        "boasVindas('Amaralina', 'Engenheira')\n",
        "boasVindas('Jorge', 'Carimbador')\n",
        "boasVindas('Maria', 'Sargento')\n",
        "#Experimente passar apenas um dos parâmetros\n",
        "#boasVindas('Lucas')"
      ],
      "metadata": {
        "id": "ZCy4UykvAPs0",
        "colab": {
          "base_uri": "https://localhost:8080/"
        },
        "outputId": "a2b1fe1d-8a8d-4d44-88c3-3e8f44d61fa1"
      },
      "execution_count": null,
      "outputs": [
        {
          "output_type": "stream",
          "name": "stdout",
          "text": [
            "Olá, Engenheira Amaralina\n",
            "Olá, Carimbador Jorge\n",
            "Olá, Sargento Maria\n"
          ]
        }
      ]
    },
    {
      "cell_type": "code",
      "source": [
        "def funcaoSemNome(nome, anoNascim):\n",
        "  idade = 2023 - anoNascim\n",
        "  print(nome, idade)"
      ],
      "metadata": {
        "id": "lYu2GiS47Zyk"
      },
      "execution_count": null,
      "outputs": []
    },
    {
      "cell_type": "code",
      "source": [
        "funcaoSemNome('Pablo', 1982)"
      ],
      "metadata": {
        "colab": {
          "base_uri": "https://localhost:8080/"
        },
        "id": "xUFoTMad71NI",
        "outputId": "46d9cdb0-a1c8-4d64-8c0d-0862dbf2ee0c"
      },
      "execution_count": null,
      "outputs": [
        {
          "output_type": "stream",
          "name": "stdout",
          "text": [
            "Pablo 41\n"
          ]
        }
      ]
    },
    {
      "cell_type": "code",
      "source": [
        "def media(*notas):\n",
        "  soma = 0\n",
        "  for nota in notas:\n",
        "    soma += nota\n",
        "  print(soma / len(notas))"
      ],
      "metadata": {
        "id": "nxcBVroK8fY1"
      },
      "execution_count": null,
      "outputs": []
    },
    {
      "cell_type": "code",
      "source": [
        "media(8, 5, 3, 7, 2, 10,7, 10)"
      ],
      "metadata": {
        "colab": {
          "base_uri": "https://localhost:8080/"
        },
        "id": "t2YS9FtZ9WO6",
        "outputId": "46665e11-6a63-421e-af19-b9eb33efd4c2"
      },
      "execution_count": null,
      "outputs": [
        {
          "output_type": "stream",
          "name": "stdout",
          "text": [
            "6.5\n"
          ]
        }
      ]
    },
    {
      "cell_type": "code",
      "source": [
        "#Argumentos arbitrários *args \n",
        "#Quando não se tem certeza quantos argumentos são passados pela função\n",
        "\n",
        "def mediaTotal(*notas):\n",
        "  soma = 0\n",
        "  for nota in notas:\n",
        "    soma += nota\n",
        "  media = soma/len(notas)\n",
        "  print('A média é: ', media)"
      ],
      "metadata": {
        "id": "822rPAOkAwm5"
      },
      "execution_count": null,
      "outputs": []
    },
    {
      "cell_type": "code",
      "source": [
        "mediaTotal(8, 9, 9, 5, 10, 4)"
      ],
      "metadata": {
        "id": "iTO5L_azevjo"
      },
      "execution_count": null,
      "outputs": []
    },
    {
      "cell_type": "code",
      "source": [
        "#Valor de parâmetro padrão\n",
        "def nacionalidade(country = 'Cuba'):\n",
        "  print('Eu nasci em: '+ country)"
      ],
      "metadata": {
        "id": "ZjxHIuowf0lE"
      },
      "execution_count": null,
      "outputs": []
    },
    {
      "cell_type": "code",
      "source": [
        "nacionalidade('Brasil')\n",
        "nacionalidade('França')\n",
        "nacionalidade('Vietnã')\n",
        "nacionalidade()"
      ],
      "metadata": {
        "id": "bOd1k3OHgJmt",
        "colab": {
          "base_uri": "https://localhost:8080/"
        },
        "outputId": "515ed729-90ec-455e-b465-736107e75406"
      },
      "execution_count": null,
      "outputs": [
        {
          "output_type": "stream",
          "name": "stdout",
          "text": [
            "Eu nasci em: Brasil\n",
            "Eu nasci em: França\n",
            "Eu nasci em: Vietnã\n",
            "Eu nasci em: Cuba\n"
          ]
        }
      ]
    },
    {
      "cell_type": "markdown",
      "source": [
        "#RETURN\n",
        "\n",
        "* Até este momento, as funções criadas apenas printam na tela o seu resultado. \n",
        "* Para utilizar utilizar os dados de uma função em outras partes do software, usa-se a palavra reservada return."
      ],
      "metadata": {
        "id": "g6r9RkphglXv"
      }
    },
    {
      "cell_type": "code",
      "source": [
        "def imc(peso, altura):\n",
        "  return peso/altura**2 "
      ],
      "metadata": {
        "id": "t7INcxkQgmrE"
      },
      "execution_count": null,
      "outputs": []
    },
    {
      "cell_type": "code",
      "source": [
        "def situacaoPeso(imc):\n",
        "  if(imc < 18.5):\n",
        "    print('Abaixo do peso normal')\n",
        "  elif(imc < 24.9):\n",
        "    print('Peso normal')\n",
        "  else:\n",
        "    print('Obesidade')"
      ],
      "metadata": {
        "id": "D1xg6MQ3icqb"
      },
      "execution_count": null,
      "outputs": []
    },
    {
      "cell_type": "code",
      "source": [
        "situacaoPeso(imc(83, 1.65))"
      ],
      "metadata": {
        "colab": {
          "base_uri": "https://localhost:8080/"
        },
        "id": "8vmmrGwciA3P",
        "outputId": "eeca55ce-c654-455a-84a8-7760f57ff615"
      },
      "execution_count": null,
      "outputs": [
        {
          "output_type": "stream",
          "name": "stdout",
          "text": [
            "Obesidade\n"
          ]
        }
      ]
    },
    {
      "cell_type": "code",
      "source": [
        "#Soma\n",
        "def soma(a, b):\n",
        "  return a + b\n",
        "#Subtração\n",
        "def subtracao(a, b):\n",
        "  return a - b\n",
        "#Multiplicação\n",
        "def vezes(a, b):\n",
        "  return a * b\n",
        "#Divisão\n",
        "def divisao(a, b):\n",
        "  return a / b"
      ],
      "metadata": {
        "id": "n1uv8X0_F-kG"
      },
      "execution_count": null,
      "outputs": []
    },
    {
      "cell_type": "code",
      "source": [
        "#O cálculo de Juros Simples é dado pela fórmula:\n",
        "# J = C * i * t\n",
        "# Sendo:\n",
        "# J = juros simples\n",
        "# C = capital inicial\n",
        "# i = taxa de juros\n",
        "# t = tempo de aplicação\n",
        "#Crie uma função que recebe um valor de empréstimo e o\n",
        "#tempo e retorne quanto será pago de juros ao final do período\n",
        "#use uma taxa de juros de 2.5%"
      ],
      "metadata": {
        "id": "ti3QkET0E-rw"
      },
      "execution_count": null,
      "outputs": []
    },
    {
      "cell_type": "code",
      "source": [
        "#1 - Escreva uma função que Recebe uma lista de strings e retorna:\n",
        "  ## apenas as palavras que começam com a letra A\n",
        "  ## imprime a quantidade de palavras encontradas\n",
        "#2 - Escreva uma função que receba uma lista de números e retorne o produto desses números.\n",
        "#3 - Escreva uma função que receba uma lista de números e retorne a soma dos números pares.\n",
        "#4 - Função rebe uma lista de nomes, e retorna a string com o maior número de caracteres."
      ],
      "metadata": {
        "id": "fTtk17yyI3HM"
      },
      "execution_count": null,
      "outputs": []
    },
    {
      "cell_type": "code",
      "source": [
        "def listaLetraA(palavras):\n",
        "  wordA = []\n",
        "  for i in palavras:\n",
        "    if i[0] == 'a':\n",
        "      wordA.append(i)\n",
        "  print(len(wordA))\n",
        "  return wordA"
      ],
      "metadata": {
        "id": "KzQdoPFWL_hJ"
      },
      "execution_count": 20,
      "outputs": []
    },
    {
      "cell_type": "code",
      "source": [
        "animais = ['arara', 'morcego', 'macaco', 'ariranha', 'papagaio']\n",
        "listaLetraA(animais)\n"
      ],
      "metadata": {
        "colab": {
          "base_uri": "https://localhost:8080/"
        },
        "id": "MM8Nx4aDUPrn",
        "outputId": "2b8511a0-ed46-4010-c7b9-9cd253c3e7d7"
      },
      "execution_count": 21,
      "outputs": [
        {
          "output_type": "stream",
          "name": "stdout",
          "text": [
            "2\n"
          ]
        },
        {
          "output_type": "execute_result",
          "data": {
            "text/plain": [
              "['arara', 'ariranha']"
            ]
          },
          "metadata": {},
          "execution_count": 21
        }
      ]
    },
    {
      "cell_type": "code",
      "source": [
        "#2 - Escreva uma função que receba uma lista de números e retorne o produto desses números.\n",
        "def produto(numeros):\n",
        "  resultado = 1\n",
        "  for n in numeros:\n",
        "    resultado *= n\n",
        "  return resultado\n",
        "\n",
        "numerozinhos = [7, 4, 13, 16, 21]\n",
        "produto(numerozinhos)\n"
      ],
      "metadata": {
        "colab": {
          "base_uri": "https://localhost:8080/"
        },
        "id": "bDbjJzhfZEAP",
        "outputId": "9d78ebab-8bb3-47e6-8ef9-dde95c2e2713"
      },
      "execution_count": 29,
      "outputs": [
        {
          "output_type": "execute_result",
          "data": {
            "text/plain": [
              "122304"
            ]
          },
          "metadata": {},
          "execution_count": 29
        }
      ]
    },
    {
      "cell_type": "code",
      "source": [
        "#3 - Escreva uma função que receba uma lista de números e retorne a soma dos números pares.\n",
        "def somatorio(numeros):\n",
        "  soma = 0\n",
        "  for n in numeros:\n",
        "    if n % 2 == 0:\n",
        "      soma += n\n",
        "  return soma\n"
      ],
      "metadata": {
        "id": "XPtLHcbHc4Kp"
      },
      "execution_count": 31,
      "outputs": []
    },
    {
      "cell_type": "code",
      "source": [
        "somatorio(numerozinhos)"
      ],
      "metadata": {
        "colab": {
          "base_uri": "https://localhost:8080/"
        },
        "id": "xyuG6fqchsOq",
        "outputId": "faa48c41-9f5b-44bf-800d-ad797c55957f"
      },
      "execution_count": 33,
      "outputs": [
        {
          "output_type": "execute_result",
          "data": {
            "text/plain": [
              "20"
            ]
          },
          "metadata": {},
          "execution_count": 33
        }
      ]
    },
    {
      "cell_type": "code",
      "source": [
        "#4 - Função recebe uma lista de nomes, e retorna a \n",
        "#string com o maior número de caracteres.\n",
        "users = ['zeca', 'anastacio', 'josefina', 'ivo Manoel da Silva', 'amaralin']\n",
        "\n",
        "def maiorString(users):\n",
        "  maior = ''\n",
        "  for u in users:\n",
        "    if(len(u) >= len(maior)):\n",
        "      maior = u\n",
        "  return maior\n",
        "\n",
        "maiorString(users)"
      ],
      "metadata": {
        "id": "c_Z0BMBhjkK5"
      },
      "execution_count": null,
      "outputs": []
    },
    {
      "cell_type": "markdown",
      "source": [
        "#Recursão \n",
        "* 'Recursividade' é um termo usado de maneira mais geral para descrever o processo de repetição de um objeto de um jeito similar ao que já fora mostrado. Um bom exemplo disso são as imagens repetidas que aparecem quando dois espelhos são apontados um para o outro.\n"
      ],
      "metadata": {
        "id": "W167wcKlk4wx"
      }
    },
    {
      "cell_type": "code",
      "source": [
        "#Cálculo de fatorial:\n",
        "# O fatorial de um número é o produto dele pelos seus antecessores maiores que 0:\n",
        "#Por exemplo, o fatorial de 6 é: 6! = 6*5*4*3*2*1.\n",
        "def fatorial(n):\n",
        "  if(n <= 1):\n",
        "    return 1\n",
        "  else:\n",
        "    return n * fatorial(n-1)"
      ],
      "metadata": {
        "id": "0j90Z9aHlnZ1"
      },
      "execution_count": null,
      "outputs": []
    },
    {
      "cell_type": "code",
      "source": [
        "fatorial(5)"
      ],
      "metadata": {
        "colab": {
          "base_uri": "https://localhost:8080/"
        },
        "id": "9IoIpcMemVdg",
        "outputId": "e16f263f-5370-4b78-abf2-7ba8b9fc2ffd"
      },
      "execution_count": null,
      "outputs": [
        {
          "output_type": "execute_result",
          "data": {
            "text/plain": [
              "120"
            ]
          },
          "metadata": {},
          "execution_count": 25
        }
      ]
    },
    {
      "cell_type": "markdown",
      "source": [
        "#Funções Lambda - quando usar funções anônimas?"
      ],
      "metadata": {
        "id": "VcwE03BKnLv9"
      }
    },
    {
      "cell_type": "markdown",
      "source": [],
      "metadata": {
        "id": "9lQN9MLHnQlS"
      }
    },
    {
      "cell_type": "code",
      "source": [
        "#Até aqui você aprendeu a fazer funções deste tipo\n",
        "def dobro(num):\n",
        "  return 2*num"
      ],
      "metadata": {
        "id": "p4Uuj9tenez_"
      },
      "execution_count": null,
      "outputs": []
    },
    {
      "cell_type": "code",
      "source": [
        "#Reescrevendo a função dobro, como função lambda\n",
        "dobroLam = lambda num : num * 2"
      ],
      "metadata": {
        "id": "HXdeYzsQnw3J"
      },
      "execution_count": null,
      "outputs": []
    },
    {
      "cell_type": "code",
      "source": [
        "dobroLam(67)"
      ],
      "metadata": {
        "id": "mmhgNVObowAu"
      },
      "execution_count": null,
      "outputs": []
    },
    {
      "cell_type": "code",
      "source": [
        "#Reescreva as funções a seguir como funções lambda\n",
        "def soma(num1, num2):\n",
        "  return num1 + num2\n",
        "\n",
        "def media (nota1, nota2, nota3):\n",
        "  return (nota1+nota2+nota3)/3\n",
        "\n",
        "def imc(peso, altura):\n",
        "  return peso/altura**2\n"
      ],
      "metadata": {
        "id": "UYyS-lRCo52-"
      },
      "execution_count": null,
      "outputs": []
    },
    {
      "cell_type": "markdown",
      "source": [
        "Pesquise: \n",
        "* Em quais situações se deve utlizar funções Lambda?"
      ],
      "metadata": {
        "id": "zCYbrOuJpvse"
      }
    },
    {
      "cell_type": "code",
      "source": [
        "#Usando com a função filter\n",
        "notas = [8, 9, 4, 5.5, 3, 7]"
      ],
      "metadata": {
        "id": "nZVDeIiBpw_5"
      },
      "execution_count": null,
      "outputs": []
    },
    {
      "cell_type": "code",
      "source": [
        "def aprovados(nota):\n",
        "  return nota >= 7\n",
        "\n",
        "listAprovados = list(filter(aprovados, notas))\n",
        "\n",
        "listAprovados"
      ],
      "metadata": {
        "id": "HA_ErJicq5_m"
      },
      "execution_count": null,
      "outputs": []
    },
    {
      "cell_type": "code",
      "source": [
        "listAprovados2 = list(filter(lambda nota : nota >= 7, notas))\n",
        "\n",
        "listAprovados2"
      ],
      "metadata": {
        "colab": {
          "base_uri": "https://localhost:8080/"
        },
        "id": "-vRFD2sfrsqM",
        "outputId": "0ed7af25-cea8-4751-a388-831523eade48"
      },
      "execution_count": null,
      "outputs": [
        {
          "output_type": "execute_result",
          "data": {
            "text/plain": [
              "[8, 9, 7]"
            ]
          },
          "metadata": {},
          "execution_count": 36
        }
      ]
    }
  ]
}