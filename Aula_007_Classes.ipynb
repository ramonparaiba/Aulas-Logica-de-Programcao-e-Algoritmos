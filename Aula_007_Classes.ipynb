{
  "nbformat": 4,
  "nbformat_minor": 0,
  "metadata": {
    "colab": {
      "provenance": [],
      "authorship_tag": "ABX9TyNWFuFLeo09+vBOAQ1fkkBk",
      "include_colab_link": true
    },
    "kernelspec": {
      "name": "python3",
      "display_name": "Python 3"
    },
    "language_info": {
      "name": "python"
    }
  },
  "cells": [
    {
      "cell_type": "markdown",
      "metadata": {
        "id": "view-in-github",
        "colab_type": "text"
      },
      "source": [
        "<a href=\"https://colab.research.google.com/github/ramonparaiba/Aulas-Logica-de-Programcao-e-Algoritmos/blob/main/Aula_007_Classes.ipynb\" target=\"_parent\"><img src=\"https://colab.research.google.com/assets/colab-badge.svg\" alt=\"Open In Colab\"/></a>"
      ]
    },
    {
      "cell_type": "markdown",
      "source": [
        "Em Python, as classes são a base da programação orientada a objetos (POO). Elas permitem definir estruturas de dados personalizadas com propriedades e métodos específicos."
      ],
      "metadata": {
        "id": "KU_Yed40I6P6"
      }
    },
    {
      "cell_type": "code",
      "source": [
        "class Pessoa:\n",
        "  def __init__(self, name):\n",
        "    self.name = name\n"
      ],
      "metadata": {
        "id": "BmQcPmocgjGS"
      },
      "execution_count": null,
      "outputs": []
    },
    {
      "cell_type": "code",
      "source": [
        "pessoa1 = Pessoa('Cauã')\n",
        "pessoa1.name"
      ],
      "metadata": {
        "id": "jXvfBF8qhZmK",
        "colab": {
          "base_uri": "https://localhost:8080/",
          "height": 35
        },
        "outputId": "0e6e0b19-475e-4453-bd86-6c27b5d96ebe"
      },
      "execution_count": null,
      "outputs": [
        {
          "output_type": "execute_result",
          "data": {
            "text/plain": [
              "'Cauã'"
            ],
            "application/vnd.google.colaboratory.intrinsic+json": {
              "type": "string"
            }
          },
          "metadata": {},
          "execution_count": 2
        }
      ]
    },
    {
      "cell_type": "code",
      "source": [
        "class Pessoa:\n",
        "  def __init__(self, name, altura, peso, estCivil):\n",
        "    self.name = name\n",
        "    self.altura = altura\n",
        "    self.peso = peso\n",
        "    self.estCivil = estCivil\n",
        "  def informs(self):\n",
        "    print(f'Nome --- {self.name}')\n",
        "    print(f'Altura --- {self.altura}')\n",
        "    print(f'Peso --- {self.peso}')\n",
        "    print(f'Estado Civil --- {self.estCivil}')\n",
        "    print('......................')\n"
      ],
      "metadata": {
        "id": "IkvNk6uefcxF"
      },
      "execution_count": null,
      "outputs": []
    },
    {
      "cell_type": "code",
      "source": [
        "p1 = Pessoa('Aderbal', 1.85, 90, 'Casado')\n",
        "p2 = Pessoa('Maristênio', 1.65, 60, 'Solteiro')\n",
        "p3 = Pessoa('Leocádia', 1.53, 78, 'Casada')\n",
        "p4 = Pessoa('Ana', 1.70, 70, 'Viúva')"
      ],
      "metadata": {
        "id": "E1Y8IkyvgJKj"
      },
      "execution_count": null,
      "outputs": []
    },
    {
      "cell_type": "code",
      "source": [
        "p1.informs()\n",
        "p2.informs()\n",
        "p3.informs()\n",
        "p4.informs()"
      ],
      "metadata": {
        "colab": {
          "base_uri": "https://localhost:8080/"
        },
        "id": "vqPvJbglg04H",
        "outputId": "c4d07328-f776-4a99-e713-acb16bbebf62"
      },
      "execution_count": null,
      "outputs": [
        {
          "output_type": "stream",
          "name": "stdout",
          "text": [
            "Nome --- Aderbal\n",
            "Altura --- 1.85\n",
            "Peso --- 90\n",
            "Estado Civil --- Casado\n",
            "......................\n",
            "Nome --- Maristênio\n",
            "Altura --- 1.65\n",
            "Peso --- 60\n",
            "Estado Civil --- Solteiro\n",
            "......................\n",
            "Nome --- Leocádia\n",
            "Altura --- 1.53\n",
            "Peso --- 78\n",
            "Estado Civil --- Casada\n",
            "......................\n",
            "Nome --- Ana\n",
            "Altura --- 1.7\n",
            "Peso --- 70\n",
            "Estado Civil --- Viúva\n",
            "......................\n"
          ]
        }
      ]
    },
    {
      "cell_type": "code",
      "source": [
        "#Criar uma classe Funcionário que tem como atributos\n",
        "#nome, cargo e matrícula\n",
        "class Funcionario:\n",
        "  def __init__(self, nome, cargo, matricula):\n",
        "    self.nome = nome\n",
        "    self.cargo = cargo\n",
        "    self.matricula = matricula"
      ],
      "metadata": {
        "id": "MTySNIHQigor"
      },
      "execution_count": null,
      "outputs": []
    },
    {
      "cell_type": "code",
      "source": [
        "#instancia de Funcionario\n",
        "vend = Funcionario('Juarez', 'Comprador', 36524)\n",
        "print(f'{vend.nome}, cargo: {vend.cargo}, mat: {vend.matricula}')"
      ],
      "metadata": {
        "colab": {
          "base_uri": "https://localhost:8080/"
        },
        "id": "SUWR00hyj-Yq",
        "outputId": "48d5011c-ad94-4737-886b-ac5dc9f9d3d2"
      },
      "execution_count": null,
      "outputs": [
        {
          "output_type": "stream",
          "name": "stdout",
          "text": [
            "Juarez, cargo: Comprador, mat: 36524\n"
          ]
        }
      ]
    },
    {
      "cell_type": "code",
      "source": [
        "#Criar uma classe Cliente contendo os atributos\n",
        "#nome, idade, sexo\n",
        "class Cliente:\n",
        "  def __init__(self, nome, idade, sexo):\n",
        "    self.nome = nome\n",
        "    self.idade = idade\n",
        "    self.sexo = sexo\n",
        "  def detalhe(self):\n",
        "    print(f'{self.nome}, {self.idade}, {self.sexo}')"
      ],
      "metadata": {
        "id": "xQDCULlNllA_"
      },
      "execution_count": null,
      "outputs": []
    },
    {
      "cell_type": "code",
      "source": [
        "cli = Cliente('André', 24, 'Masculino')\n",
        "cli.detalhe()"
      ],
      "metadata": {
        "colab": {
          "base_uri": "https://localhost:8080/"
        },
        "id": "xBVKe9aDnevt",
        "outputId": "69dffdd1-b465-456c-ba4d-2751c7a12678"
      },
      "execution_count": null,
      "outputs": [
        {
          "output_type": "stream",
          "name": "stdout",
          "text": [
            "André, 24, Masculino\n"
          ]
        }
      ]
    },
    {
      "cell_type": "code",
      "source": [
        "#Crie uma classe Conta com os atributos\n",
        "#titular, saldo\n",
        "#Função chamada exibeSaldo\n",
        "class Conta:\n",
        "  def __init__(self, titular, saldo):\n",
        "    self.titular = titular\n",
        "    self.saldo = saldo\n",
        "  def exibeSaldo(self):\n",
        "    print(f'{self.titular} ----- R${self.saldo},00')"
      ],
      "metadata": {
        "id": "qJwZbcuwojHt"
      },
      "execution_count": null,
      "outputs": []
    },
    {
      "cell_type": "code",
      "source": [
        "conta = Conta('Pablo', 356450)\n",
        "conta.exibeSaldo()"
      ],
      "metadata": {
        "colab": {
          "base_uri": "https://localhost:8080/"
        },
        "id": "zfqUXi-SqSDl",
        "outputId": "94212966-c82c-4c29-9d28-f94257800620"
      },
      "execution_count": null,
      "outputs": [
        {
          "output_type": "stream",
          "name": "stdout",
          "text": [
            "Pablo ----- R$356450,00\n"
          ]
        }
      ]
    },
    {
      "cell_type": "markdown",
      "source": [
        "Acessando atributos"
      ],
      "metadata": {
        "id": "AliXMTUgi8__"
      }
    },
    {
      "cell_type": "code",
      "source": [
        "pessoa = Pessoa('Pablo')\n",
        "pessoa.name"
      ],
      "metadata": {
        "id": "qy-SPIsogEtO"
      },
      "execution_count": null,
      "outputs": []
    },
    {
      "cell_type": "markdown",
      "source": [
        "A função `__init__` em Python é um método especial chamado de \"construtor\" da classe. Ela é executada automaticamente sempre que um novo objeto é criado a partir da classe. O objetivo principal do método `__init__` é realizar a inicialização dos atributos do objeto.\n",
        "\n",
        "- O primeiro parâmetro do método `__init__` é sempres self que representa o próprio objeto sendo criado\n",
        "- Dentro do método `__init__`, você pode definir e atribuir valores aos atributos do objeto usando a sintaxe `self.nome_do_atributo = valor`."
      ],
      "metadata": {
        "id": "doLCCG_YkmaE"
      }
    },
    {
      "cell_type": "code",
      "source": [
        "class MyClass:\n",
        "  def __init__(self, name, age):\n",
        "    self.name = name\n",
        "    self.age = age"
      ],
      "metadata": {
        "id": "_6IIp8jEh6Uv"
      },
      "execution_count": null,
      "outputs": []
    },
    {
      "cell_type": "code",
      "source": [
        "pessoa = MyClass('Pablo', 41)\n",
        "print(f'{pessoa.name} tem {pessoa.age} anos')\n"
      ],
      "metadata": {
        "id": "pg1oegHbiK5j"
      },
      "execution_count": null,
      "outputs": []
    },
    {
      "cell_type": "markdown",
      "source": [
        "As Classes podem ter métodos"
      ],
      "metadata": {
        "id": "qAv8LZJ4ocuA"
      }
    },
    {
      "cell_type": "code",
      "source": [
        "class Pessoa:\n",
        "  def __init__(self, name, age):\n",
        "    self.name = name\n",
        "    self.age = age\n",
        "  def saudacao(self):\n",
        "    print(f'Olá {self.name}!')"
      ],
      "metadata": {
        "id": "tvKTbJeWoaVX"
      },
      "execution_count": null,
      "outputs": []
    },
    {
      "cell_type": "code",
      "source": [
        "pessoa = Pessoa('Heráclito', 23)\n",
        "pessoa.saudacao()"
      ],
      "metadata": {
        "id": "RhjNVDN5o-gv"
      },
      "execution_count": null,
      "outputs": []
    },
    {
      "cell_type": "markdown",
      "source": [
        "# Herança\n",
        "- permite criar uma hierarquia de classes, em que as subclasses podem herdar atributos e métodos da classe base. Através da herança, é possível reutilizar código, estabelecer relações de especialização e promover a modularidade e a flexibilidade do sistema, tornando-o mais eficiente e organizado."
      ],
      "metadata": {
        "id": "E5jL6InXsKuA"
      }
    },
    {
      "cell_type": "code",
      "source": [
        "#Classe Animal\n",
        "class Animal:\n",
        "  def __init__(self, name):\n",
        "    self.name = name\n",
        "  def emitirSom(self):\n",
        "    pass\n",
        "\n",
        "class Ovelha(Animal):\n",
        "  def emitirSom(self):\n",
        "    print('Béeeee')\n",
        "\n",
        "class Cachorro(Animal):\n",
        "  def emitirSom(self):\n",
        "    print('Au Au')"
      ],
      "metadata": {
        "id": "kYu36WvfvIUX"
      },
      "execution_count": null,
      "outputs": []
    },
    {
      "cell_type": "code",
      "source": [
        "ovelhinha = Ovelha('Ana')\n",
        "caozinho = Cachorro('Doug')\n",
        "\n",
        "ovelhinha.emitirSom()\n",
        "caozinho.emitirSom()\n"
      ],
      "metadata": {
        "colab": {
          "base_uri": "https://localhost:8080/"
        },
        "id": "TCcttKB8vxTz",
        "outputId": "a16da867-c9ad-43f4-edd3-2f151443a6f1"
      },
      "execution_count": null,
      "outputs": [
        {
          "output_type": "stream",
          "name": "stdout",
          "text": [
            "Béeeee\n",
            "Au Au\n"
          ]
        }
      ]
    },
    {
      "cell_type": "markdown",
      "source": [
        "- Adicione mais duas classes que Herdam da classe Animal:\n",
        "  - Sugestão: gato e pato"
      ],
      "metadata": {
        "id": "OENYpX58wJza"
      }
    },
    {
      "cell_type": "code",
      "source": [
        "#A Classe estudante herda Pessoa\n",
        "class Estudante(Pessoa):\n",
        "  def __init__(self, name, age, course):\n",
        "    super().__init__(name, age)    #super é a referência ao método construtor da classe herdada.\n",
        "    self.course = course\n",
        "\n",
        "  def informacoes(self):\n",
        "    print(f'Tenho{self.age}, estou cursando {self.course}')"
      ],
      "metadata": {
        "id": "pencMKOhsIDV"
      },
      "execution_count": null,
      "outputs": []
    },
    {
      "cell_type": "code",
      "source": [
        "#instanciar\n",
        "aluno = Estudante('Alice', 25, 'ADS')\n",
        "\n",
        "#Acessando atributos e métodos da classe Pessoa\n",
        "print(aluno.name)\n",
        "print(aluno.age)\n",
        "aluno.saudacao()\n",
        "\n",
        "#Acessando atributos e métodos da classe Estudante\n",
        "print(aluno.course)\n",
        "aluno.informacoes()"
      ],
      "metadata": {
        "colab": {
          "base_uri": "https://localhost:8080/"
        },
        "id": "2-9IOXLWteKW",
        "outputId": "6cbe98bd-3325-4909-a919-503ccc2bb1c8"
      },
      "execution_count": null,
      "outputs": [
        {
          "output_type": "stream",
          "name": "stdout",
          "text": [
            "Alice\n",
            "25\n",
            "Olá Alice!\n",
            "ADS\n",
            "Tenho25, estou cursando ADS\n"
          ]
        }
      ]
    },
    {
      "cell_type": "markdown",
      "source": [
        "1. Crie uma superclasse chamada Veículo contendo os atributos marca, modelo e ano, e os métodos acelerar e frear. Dela herdam as classes:\n",
        " - carro: que tem o atributo próprio `cor`\n",
        " - moto: que tem o atributo próprio `cilindradas`\n",
        " - Caminhão: que tem o atributo próprio `carga_max`\n",
        "\n",
        "Crie instâncias para cada uma das classes.\n",
        "\n",
        "2. Crie uma classe Funcionario com os atributos nome e salario. Em seguida, crie duas classes derivadas: Gerente e Programador, com atributos adicionais específicos para cada tipo de funcionário. Adicione um método calcular_salario em cada classe derivada para calcular o salário total considerando os atributos específicos de cada tipo de funcionário. Crie objetos de cada classe e chame o método calcular_salario.\n",
        "\n",
        "3. Crie uma classe FormaGeometrica com um método calcular_area. Em seguida, crie duas classes derivadas: Retangulo e Circulo, cada uma delas implementando o método calcular_area de acordo com a fórmula específica para cada forma geométrica. Crie objetos de cada classe e chame o método calcular_area.\n",
        "\n",
        "4. Crie uma classe Pessoa com o atributo nome e um método apresentar. Em seguida, crie duas classes derivadas: Estudante e Professor, com atributos adicionais específicos para cada tipo de pessoa. Sobrescreva o método apresentar em cada classe derivada para exibir uma mensagem personalizada de acordo com o tipo de pessoa. Crie objetos de cada classe e chame o método apresentar."
      ],
      "metadata": {
        "id": "yz7bn1nL9W8p"
      }
    },
    {
      "cell_type": "code",
      "source": [],
      "metadata": {
        "id": "3DZbeKdp_euF"
      },
      "execution_count": null,
      "outputs": []
    },
    {
      "cell_type": "code",
      "source": [
        "class Funcionario:\n",
        "  def __init__(self, nome, setor, salario):\n",
        "    self.nome = nome\n",
        "    self.salario = salario\n",
        "\n",
        "class Gerente(Funcionario):\n",
        "  def __init__(self, nome, setor):\n",
        "    self.salario = 200\n",
        "    super().__init__(self, salario)\n",
        "\n",
        "class Gerente(Programador):\n",
        "  def __init__(self, nome, setor):\n",
        "    self.salario = 200\n",
        "    super().__init__(self, salario)\n",
        "\n"
      ],
      "metadata": {
        "id": "YdW-MvvxvAF4"
      },
      "execution_count": null,
      "outputs": []
    },
    {
      "cell_type": "markdown",
      "source": [
        "# Encapsulamento\n",
        "- O encapsulamento em Python é um conceito importante da programação orientada a objetos (POO) que visa controlar o acesso aos atributos e métodos de uma classe, protegendo-os de modificações ou acessos não autorizados."
      ],
      "metadata": {
        "id": "EgDnza9o-jjv"
      }
    },
    {
      "cell_type": "code",
      "source": [],
      "metadata": {
        "id": "sYdMyyes-Kaz"
      },
      "execution_count": null,
      "outputs": []
    }
  ]
}