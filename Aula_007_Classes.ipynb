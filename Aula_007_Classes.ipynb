{
  "nbformat": 4,
  "nbformat_minor": 0,
  "metadata": {
    "colab": {
      "provenance": [],
      "authorship_tag": "ABX9TyPNY5qBkl3vs1URad5qC8SB",
      "include_colab_link": true
    },
    "kernelspec": {
      "name": "python3",
      "display_name": "Python 3"
    },
    "language_info": {
      "name": "python"
    }
  },
  "cells": [
    {
      "cell_type": "markdown",
      "metadata": {
        "id": "view-in-github",
        "colab_type": "text"
      },
      "source": [
        "<a href=\"https://colab.research.google.com/github/ramonparaiba/Aulas-Logica-de-Programcao-e-Algoritmos/blob/main/Aula_007_Classes.ipynb\" target=\"_parent\"><img src=\"https://colab.research.google.com/assets/colab-badge.svg\" alt=\"Open In Colab\"/></a>"
      ]
    },
    {
      "cell_type": "markdown",
      "source": [
        "Em Python, as classes são a base da programação orientada a objetos (POO). Elas permitem definir estruturas de dados personalizadas com propriedades e métodos específicos."
      ],
      "metadata": {
        "id": "KU_Yed40I6P6"
      }
    },
    {
      "cell_type": "code",
      "execution_count": 1,
      "metadata": {
        "id": "-KDioG2jIw-t"
      },
      "outputs": [],
      "source": [
        "#FirstClass\n",
        "class Pessoa:\n",
        "  def __init__(self, name):\n",
        "    self.name = name"
      ]
    },
    {
      "cell_type": "markdown",
      "source": [
        "Acessando atributos"
      ],
      "metadata": {
        "id": "AliXMTUgi8__"
      }
    },
    {
      "cell_type": "code",
      "source": [
        "pessoa = Pessoa('Pablo')\n",
        "pessoa.name"
      ],
      "metadata": {
        "id": "qy-SPIsogEtO"
      },
      "execution_count": null,
      "outputs": []
    },
    {
      "cell_type": "markdown",
      "source": [
        "A função `__init__` em Python é um método especial chamado de \"construtor\" da classe. Ela é executada automaticamente sempre que um novo objeto é criado a partir da classe. O objetivo principal do método `__init__` é realizar a inicialização dos atributos do objeto.\n",
        "\n",
        "- O primeiro parâmetro do método `__init__` é sempres self que representa o próprio objeto sendo criado\n",
        "- Dentro do método `__init__`, você pode definir e atribuir valores aos atributos do objeto usando a sintaxe `self.nome_do_atributo = valor`."
      ],
      "metadata": {
        "id": "doLCCG_YkmaE"
      }
    },
    {
      "cell_type": "code",
      "source": [
        "class MyClass:\n",
        "  def __init__(self, name, age):\n",
        "    self.name = name\n",
        "    self.age = age"
      ],
      "metadata": {
        "id": "_6IIp8jEh6Uv"
      },
      "execution_count": 2,
      "outputs": []
    },
    {
      "cell_type": "code",
      "source": [
        "pessoa = MyClass('Pablo', 41)\n",
        "print(f'{pessoa.name} tem {pessoa.age} anos')\n"
      ],
      "metadata": {
        "id": "pg1oegHbiK5j"
      },
      "execution_count": null,
      "outputs": []
    },
    {
      "cell_type": "markdown",
      "source": [
        "As Classes podem ter métodos"
      ],
      "metadata": {
        "id": "qAv8LZJ4ocuA"
      }
    },
    {
      "cell_type": "code",
      "source": [
        "class Pessoa:\n",
        "  def __init__(self, name, age):\n",
        "    self.name = name\n",
        "    self.age = age\n",
        "  def saudacao(self):\n",
        "    print(f'Olá {self.name}!')"
      ],
      "metadata": {
        "id": "tvKTbJeWoaVX"
      },
      "execution_count": 14,
      "outputs": []
    },
    {
      "cell_type": "code",
      "source": [
        "pessoa = Pessoa('Heráclito', 23)\n",
        "pessoa.saudacao()"
      ],
      "metadata": {
        "id": "RhjNVDN5o-gv"
      },
      "execution_count": null,
      "outputs": []
    },
    {
      "cell_type": "markdown",
      "source": [
        "# Herança\n",
        "- permite criar uma hierarquia de classes, em que as subclasses podem herdar atributos e métodos da classe base. Através da herança, é possível reutilizar código, estabelecer relações de especialização e promover a modularidade e a flexibilidade do sistema, tornando-o mais eficiente e organizado."
      ],
      "metadata": {
        "id": "E5jL6InXsKuA"
      }
    },
    {
      "cell_type": "code",
      "source": [
        "#Classe Animal\n",
        "class Animal:\n",
        "  def __init__(self, name):\n",
        "    self.name = name\n",
        "  def emitirSom(self):\n",
        "    pass\n",
        "\n",
        "class Ovelha(Animal):\n",
        "  def emitirSom(self):\n",
        "    print('Béeeee')\n",
        "\n",
        "class Cachorro(Animal):\n",
        "  def emitirSom(self):\n",
        "    print('Au Au')"
      ],
      "metadata": {
        "id": "kYu36WvfvIUX"
      },
      "execution_count": 24,
      "outputs": []
    },
    {
      "cell_type": "code",
      "source": [
        "ovelhinha = Ovelha('Ana')\n",
        "caozinho = Cachorro('Doug')\n",
        "\n",
        "ovelhinha.emitirSom()\n",
        "caozinho.emitirSom()\n"
      ],
      "metadata": {
        "colab": {
          "base_uri": "https://localhost:8080/"
        },
        "id": "TCcttKB8vxTz",
        "outputId": "b1806aa2-1044-4dbb-8123-a008842c58ea"
      },
      "execution_count": 25,
      "outputs": [
        {
          "output_type": "stream",
          "name": "stdout",
          "text": [
            "Béeeee\n",
            "Au Au\n"
          ]
        }
      ]
    },
    {
      "cell_type": "markdown",
      "source": [
        "- Adicione mais duas classes que Herdam da classe Animal:\n",
        "  - Sugestão: gato e pato"
      ],
      "metadata": {
        "id": "OENYpX58wJza"
      }
    },
    {
      "cell_type": "code",
      "source": [
        "#A Classe estudante herda Pessoa\n",
        "class Estudante(Pessoa):\n",
        "  def __init__(self, name, age, course):\n",
        "    super().__init__(name, age)    #super é a referência ao método construtor da classe herdada.\n",
        "    self.course = course\n",
        "\n",
        "  def informacoes(self):\n",
        "    print(f'Tenho{self.age}, estou cursando {self.course}')"
      ],
      "metadata": {
        "id": "pencMKOhsIDV"
      },
      "execution_count": 26,
      "outputs": []
    },
    {
      "cell_type": "code",
      "source": [
        "#instanciar\n",
        "aluno = Estudante('Alice', 25, 'ADS')\n",
        "\n",
        "#Acessando atributos e métodos da classe Pessoa\n",
        "print(aluno.name)\n",
        "print(aluno.age)\n",
        "aluno.saudacao()\n",
        "\n",
        "#Acessando atributos e métodos da classe Estudante\n",
        "print(aluno.course)\n",
        "aluno.informacoes()"
      ],
      "metadata": {
        "colab": {
          "base_uri": "https://localhost:8080/"
        },
        "id": "2-9IOXLWteKW",
        "outputId": "6cbe98bd-3325-4909-a919-503ccc2bb1c8"
      },
      "execution_count": 27,
      "outputs": [
        {
          "output_type": "stream",
          "name": "stdout",
          "text": [
            "Alice\n",
            "25\n",
            "Olá Alice!\n",
            "ADS\n",
            "Tenho25, estou cursando ADS\n"
          ]
        }
      ]
    },
    {
      "cell_type": "markdown",
      "source": [
        "1. Crie uma superclasse chamada Veículo contendo os atributos marca, modelo e ano, e os métodos acelerar e frear. Dela herdam as classes:\n",
        " - carro: que tem o atributo próprio `cor`\n",
        " - moto: que tem o atributo próprio `cilindradas`\n",
        " - Caminhão: que tem o atributo próprio `carga_max`\n",
        "\n",
        "Crie instâncias para cada uma das classes.\n",
        "\n",
        "2. Crie uma classe Funcionario com os atributos nome e salario. Em seguida, crie duas classes derivadas: Gerente e Programador, com atributos adicionais específicos para cada tipo de funcionário. Adicione um método calcular_salario em cada classe derivada para calcular o salário total considerando os atributos específicos de cada tipo de funcionário. Crie objetos de cada classe e chame o método calcular_salario.\n",
        "\n",
        "3. Crie uma classe FormaGeometrica com um método calcular_area. Em seguida, crie duas classes derivadas: Retangulo e Circulo, cada uma delas implementando o método calcular_area de acordo com a fórmula específica para cada forma geométrica. Crie objetos de cada classe e chame o método calcular_area.\n",
        "\n",
        "4. Crie uma classe Pessoa com o atributo nome e um método apresentar. Em seguida, crie duas classes derivadas: Estudante e Professor, com atributos adicionais específicos para cada tipo de pessoa. Sobrescreva o método apresentar em cada classe derivada para exibir uma mensagem personalizada de acordo com o tipo de pessoa. Crie objetos de cada classe e chame o método apresentar."
      ],
      "metadata": {
        "id": "yz7bn1nL9W8p"
      }
    },
    {
      "cell_type": "markdown",
      "source": [
        "# Encapsulamento\n",
        "- O encapsulamento em Python é um conceito importante da programação orientada a objetos (POO) que visa controlar o acesso aos atributos e métodos de uma classe, protegendo-os de modificações ou acessos não autorizados."
      ],
      "metadata": {
        "id": "EgDnza9o-jjv"
      }
    },
    {
      "cell_type": "code",
      "source": [],
      "metadata": {
        "id": "sYdMyyes-Kaz"
      },
      "execution_count": null,
      "outputs": []
    }
  ]
}