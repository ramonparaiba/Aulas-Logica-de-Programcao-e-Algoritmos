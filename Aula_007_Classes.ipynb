{
  "nbformat": 4,
  "nbformat_minor": 0,
  "metadata": {
    "colab": {
      "provenance": [],
      "authorship_tag": "ABX9TyM4k6XEDjIDwgGRCI+n6nIB",
      "include_colab_link": true
    },
    "kernelspec": {
      "name": "python3",
      "display_name": "Python 3"
    },
    "language_info": {
      "name": "python"
    }
  },
  "cells": [
    {
      "cell_type": "markdown",
      "metadata": {
        "id": "view-in-github",
        "colab_type": "text"
      },
      "source": [
        "<a href=\"https://colab.research.google.com/github/ramonparaiba/Aulas-Logica-de-Programcao-e-Algoritmos/blob/main/Aula_007_Classes.ipynb\" target=\"_parent\"><img src=\"https://colab.research.google.com/assets/colab-badge.svg\" alt=\"Open In Colab\"/></a>"
      ]
    },
    {
      "cell_type": "markdown",
      "source": [
        "Em Python, as classes são a base da programação orientada a objetos (POO). Elas permitem definir estruturas de dados personalizadas com propriedades e métodos específicos."
      ],
      "metadata": {
        "id": "KU_Yed40I6P6"
      }
    },
    {
      "cell_type": "code",
      "execution_count": 1,
      "metadata": {
        "id": "-KDioG2jIw-t"
      },
      "outputs": [],
      "source": [
        "#FirstClass\n",
        "class MyFirstClass:\n",
        "  def __init__(self, name):\n",
        "    self.name = name"
      ]
    },
    {
      "cell_type": "markdown",
      "source": [
        "Acessando atributos"
      ],
      "metadata": {
        "id": "AliXMTUgi8__"
      }
    },
    {
      "cell_type": "code",
      "source": [
        "pessoa = MyFirstClass('Pablo')\n",
        "pessoa.name"
      ],
      "metadata": {
        "id": "qy-SPIsogEtO"
      },
      "execution_count": null,
      "outputs": []
    },
    {
      "cell_type": "code",
      "source": [
        "class MyClass:\n",
        "  def __init__(self, name):\n",
        "    self.name = name\n",
        "  def congrats(self):\n",
        "    return f'Seja bem-vindo {self.name}'"
      ],
      "metadata": {
        "id": "_6IIp8jEh6Uv"
      },
      "execution_count": 5,
      "outputs": []
    },
    {
      "cell_type": "code",
      "source": [
        "pessoa = MyClass('Pablo')\n",
        "pessoa.congrats()"
      ],
      "metadata": {
        "colab": {
          "base_uri": "https://localhost:8080/",
          "height": 36
        },
        "id": "pg1oegHbiK5j",
        "outputId": "4f00fd5d-cb05-46a4-ef7e-4806e9627f79"
      },
      "execution_count": 6,
      "outputs": [
        {
          "output_type": "execute_result",
          "data": {
            "text/plain": [
              "'Seja bem-vindo Pablo'"
            ],
            "application/vnd.google.colaboratory.intrinsic+json": {
              "type": "string"
            }
          },
          "metadata": {},
          "execution_count": 6
        }
      ]
    }
  ]
}