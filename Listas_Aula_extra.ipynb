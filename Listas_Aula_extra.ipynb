{
  "nbformat": 4,
  "nbformat_minor": 0,
  "metadata": {
    "colab": {
      "provenance": [],
      "authorship_tag": "ABX9TyOGMc8FD+t3Ulp1JvLnCf1b",
      "include_colab_link": true
    },
    "kernelspec": {
      "name": "python3",
      "display_name": "Python 3"
    },
    "language_info": {
      "name": "python"
    }
  },
  "cells": [
    {
      "cell_type": "markdown",
      "metadata": {
        "id": "view-in-github",
        "colab_type": "text"
      },
      "source": [
        "<a href=\"https://colab.research.google.com/github/ramonparaiba/Aulas-Logica-de-Programcao-e-Algoritmos/blob/main/Listas_Aula_extra.ipynb\" target=\"_parent\"><img src=\"https://colab.research.google.com/assets/colab-badge.svg\" alt=\"Open In Colab\"/></a>"
      ]
    },
    {
      "cell_type": "markdown",
      "source": [
        "# Aula Listas em Python"
      ],
      "metadata": {
        "id": "9tuhCRIQr-mP"
      }
    },
    {
      "cell_type": "code",
      "execution_count": null,
      "metadata": {
        "id": "OAYp5TO9n7A3"
      },
      "outputs": [],
      "source": [
        "#Aquecimento\n",
        "nome = 'PABLO'\n",
        "print(nome)\n"
      ]
    },
    {
      "cell_type": "code",
      "source": [
        "nota1 = 8\n",
        "nota2 = 5\n",
        "media = (nota1 + nota2)/2\n",
        "print(media)"
      ],
      "metadata": {
        "colab": {
          "base_uri": "https://localhost:8080/"
        },
        "id": "KZhcSNRlr3ll",
        "outputId": "df4193ed-533f-4055-edc6-4191f6bbafad"
      },
      "execution_count": 3,
      "outputs": [
        {
          "output_type": "stream",
          "name": "stdout",
          "text": [
            "6.5\n"
          ]
        }
      ]
    },
    {
      "cell_type": "code",
      "source": [
        "nota1 = float(input('Digite a nota 1 '))\n",
        "nota2 = float(input('Digite a nota 2 '))\n",
        "media = (nota1 + nota2)/2\n",
        "print(media)"
      ],
      "metadata": {
        "id": "jzMj71DEtB4m"
      },
      "execution_count": null,
      "outputs": []
    },
    {
      "cell_type": "markdown",
      "source": [
        "## LISTAS"
      ],
      "metadata": {
        "id": "8EKd6bV7tcl_"
      }
    },
    {
      "cell_type": "code",
      "source": [
        "frutas = ['maça', 'laranja', 'uva']\n",
        "numeros = [3, 5, 6, 2, 7]\n",
        "mista = [1, 'olá', True, 3, 77.8]\n",
        "\n",
        "print(frutas)\n",
        "print(numeros)\n",
        "print(mista)"
      ],
      "metadata": {
        "id": "xOyuIBPctfuW"
      },
      "execution_count": null,
      "outputs": []
    },
    {
      "cell_type": "code",
      "source": [
        "#Acessar elementos\n",
        "\n",
        "lista = [5, 8, 9, 17, 1, 3]\n",
        "\n",
        "print(lista[0])\n",
        "print(lista[3])\n",
        "\n",
        "print(lista[-1])\n",
        "print(lista[-2])"
      ],
      "metadata": {
        "id": "MHXBBqaOu2B8"
      },
      "execution_count": null,
      "outputs": []
    },
    {
      "cell_type": "code",
      "source": [
        "#Modificar elementos da Lista\n",
        "lista[2] = 250\n",
        "\n",
        "print(lista)"
      ],
      "metadata": {
        "id": "UHbIYqrBv_FO"
      },
      "execution_count": null,
      "outputs": []
    },
    {
      "cell_type": "code",
      "source": [
        "#Adicionar elementos\n",
        "lista = [1, 2]\n",
        "\n",
        "#append() adiciona um elemento no final da lista\n",
        "lista.append(3)\n",
        "print(lista)\n",
        "\n",
        "#insert() inserir em uma posição específica\n",
        "lista.insert(2, 9)\n",
        "\n",
        "print(lista)"
      ],
      "metadata": {
        "colab": {
          "base_uri": "https://localhost:8080/"
        },
        "id": "FJSXOwi9w30G",
        "outputId": "c6ca1197-f776-4bb9-cbce-8ff99189d524"
      },
      "execution_count": 21,
      "outputs": [
        {
          "output_type": "stream",
          "name": "stdout",
          "text": [
            "[1, 2, 3]\n",
            "[1, 2, 9, 3]\n"
          ]
        }
      ]
    },
    {
      "cell_type": "code",
      "source": [
        "#Remover elementos\n",
        "nomes = ['André', 'Ana', 'Josefa', 'Bento', 'Leandro']\n",
        "\n",
        "#pelo valor\n",
        "nomes.remove('Josefa')\n",
        "print(nomes)\n",
        "#Pelo índice\n",
        "nomes.pop(0)\n",
        "print(nomes)\n",
        "#Pelo último valor\n",
        "nomes.pop()\n",
        "print(nomes)"
      ],
      "metadata": {
        "colab": {
          "base_uri": "https://localhost:8080/"
        },
        "id": "d7WVfSG-yHB5",
        "outputId": "486eb470-d9e2-4003-eb17-8837b8d156a7"
      },
      "execution_count": 25,
      "outputs": [
        {
          "output_type": "stream",
          "name": "stdout",
          "text": [
            "['André', 'Ana', 'Bento', 'Leandro']\n",
            "['Ana', 'Bento', 'Leandro']\n",
            "['Ana', 'Bento']\n"
          ]
        }
      ]
    },
    {
      "cell_type": "code",
      "source": [
        "#fatiamento\n",
        "\n",
        "lista = [0, 1, 2, 3, 4, 5, 6, 7, 8, 9]\n",
        "\n",
        "# Sintaxe: lista [inicio:fim:passo]\n",
        "print(lista[:5])\n",
        "print(lista[6:])\n",
        "print(lista[3:9])\n",
        "print(lista[::2])\n",
        "print(lista[::-1])"
      ],
      "metadata": {
        "id": "KQ9yv2_iz1VK"
      },
      "execution_count": null,
      "outputs": []
    },
    {
      "cell_type": "code",
      "source": [
        "#Funções úteis\n",
        "\n",
        "lista = [4, 7, 6, 11, 2, 0]\n",
        "\n",
        "#tamanho da lista\n",
        "print(len(lista))\n",
        "\n",
        "#Maior e o menor valor da lista\n",
        "print(max(lista))\n",
        "print(min(lista))\n",
        "\n",
        "#Soma dos elementos\n",
        "print(sum(lista))\n",
        "\n",
        "#ordenação\n",
        "print(sorted(lista))\n",
        "print(lista)\n",
        "#alterar a ordenação da lista original\n",
        "lista.sort()\n",
        "print(lista)\n"
      ],
      "metadata": {
        "id": "jDReAg602Buc"
      },
      "execution_count": null,
      "outputs": []
    },
    {
      "cell_type": "code",
      "source": [
        "#Laços em Listas\n",
        "\n",
        "compras = ['ovo', 'manteiga', 'café', 'pão', 'laranja']\n",
        "\n",
        "\n",
        "for item in compras:\n",
        "  print(item)\n",
        "\n",
        "for indice, item in enumerate(compras):\n",
        "  print(f'Produto {indice}: {item}')\n"
      ],
      "metadata": {
        "id": "LGzhadD35rTB"
      },
      "execution_count": null,
      "outputs": []
    },
    {
      "cell_type": "code",
      "source": [
        "#Filtrar elementos COM FOR\n",
        "for item in compras:\n",
        "  if 'a' in item:\n",
        "    print(f'{item} contém a letra a')"
      ],
      "metadata": {
        "colab": {
          "base_uri": "https://localhost:8080/"
        },
        "id": "MK3z34ST7ifP",
        "outputId": "3c92b63b-06a7-4668-aee2-751ac2f58952"
      },
      "execution_count": 54,
      "outputs": [
        {
          "output_type": "stream",
          "name": "stdout",
          "text": [
            "manteiga contém a letra a\n",
            "café contém a letra a\n",
            "laranja contém a letra a\n"
          ]
        }
      ]
    },
    {
      "cell_type": "markdown",
      "source": [
        "## Strings\n",
        "- strings são listas de caracteres\n",
        "- As funções utilizadas em listas, podem ser utilizadas para strings."
      ],
      "metadata": {
        "id": "4rXrL5ob9geh"
      }
    },
    {
      "cell_type": "code",
      "source": [
        "#concatenação\n",
        "nome = 'Pablo'\n",
        "sobrenome = 'Pinheiro'\n",
        "print(nome, sobrenome)\n",
        "print(nome+sobrenome)\n",
        "print(f'{nome}       {sobrenome}')"
      ],
      "metadata": {
        "id": "QI57gu3N9NAd"
      },
      "execution_count": null,
      "outputs": []
    },
    {
      "cell_type": "code",
      "source": [
        "#acessar caracteres\n",
        "texto = 'Python'\n",
        "print(texto[0])\n",
        "\n",
        "for letra in texto:\n",
        "  print(letra)"
      ],
      "metadata": {
        "id": "9sQcntIc-7bQ"
      },
      "execution_count": null,
      "outputs": []
    },
    {
      "cell_type": "code",
      "source": [
        "#Fatiamento de string (slicing)\n",
        "texto = 'Eu estou aprendendo a programar com Python'\n",
        "print(texto[2:5])\n",
        "print(texto[4:])\n",
        "print(texto[::2])"
      ],
      "metadata": {
        "colab": {
          "base_uri": "https://localhost:8080/"
        },
        "id": "JEQ1FvyY-9qX",
        "outputId": "9dd79267-fa20-44bd-9fea-fb2837f83944"
      },
      "execution_count": 72,
      "outputs": [
        {
          "output_type": "stream",
          "name": "stdout",
          "text": [
            " es\n",
            "stou aprendendo a programar com Python\n",
            "E so pednoapormrcmPto\n"
          ]
        }
      ]
    },
    {
      "cell_type": "code",
      "source": [
        "#Métodos comuns\n",
        "print(texto.strip()) #remover espaços\n",
        "\n",
        "#Converter em maiusculas e minusculas\n",
        "print(texto.upper())\n",
        "print(texto.lower())"
      ],
      "metadata": {
        "colab": {
          "base_uri": "https://localhost:8080/"
        },
        "id": "H-x0l41sALHp",
        "outputId": "389f9213-d61e-4bb0-d89d-439663fc4d28"
      },
      "execution_count": 73,
      "outputs": [
        {
          "output_type": "stream",
          "name": "stdout",
          "text": [
            "Eu estou aprendendo a programar com Python\n",
            "EU ESTOU APRENDENDO A PROGRAMAR COM PYTHON\n",
            "eu estou aprendendo a programar com python\n"
          ]
        }
      ]
    }
  ]
}